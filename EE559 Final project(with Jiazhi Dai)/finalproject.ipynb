{
 "cells": [
  {
   "cell_type": "code",
   "execution_count": 1528,
   "id": "38f6445c",
   "metadata": {
    "ExecuteTime": {
     "end_time": "2022-04-27T22:37:21.956170Z",
     "start_time": "2022-04-27T22:37:21.940617Z"
    }
   },
   "outputs": [],
   "source": [
    "import csv\n",
    "import numpy as np\n",
    "import pandas as pd\n",
    "import math\n",
    "import random as rd\n",
    "import matplotlib.pyplot as plt  \n",
    "from sklearn import preprocessing\n",
    "from sklearn import tree\n",
    "from sklearn import svm\n",
    "from sklearn.svm import SVR\n",
    "from sklearn.neighbors import KNeighborsRegressor\n",
    "from sklearn.neighbors import KNeighborsClassifier\n",
    "from sklearn.naive_bayes import MultinomialNB\n",
    "from sklearn.decomposition import PCA\n",
    "from sklearn.ensemble import RandomForestClassifier\n",
    "from sklearn.metrics import f1_score\n",
    "from sklearn.metrics import confusion_matrix\n",
    "from sklearn.metrics import mean_absolute_error\n",
    "from sklearn.metrics import r2_score\n",
    "from sklearn.metrics import mean_squared_error\n",
    "from sklearn.linear_model import Ridge\n",
    "from sklearn.linear_model import Lasso\n",
    "from sklearn.linear_model import BayesianRidge\n",
    "from sklearn.linear_model import LinearRegression\n",
    "# all the sklearn library packages are searched in google and related models are\n",
    "# immitated by the samples before implemented"
   ]
  },
  {
   "cell_type": "code",
   "execution_count": 231,
   "id": "0d45a7cd",
   "metadata": {
    "ExecuteTime": {
     "end_time": "2022-04-24T00:31:14.314491Z",
     "start_time": "2022-04-24T00:31:14.289068Z"
    }
   },
   "outputs": [],
   "source": [
    "totalTrainList=pd.read_csv(\"/Users/jiazhidai/Downloads/python3/student_performance_train.csv\",delimiter=',')\n",
    "totalTestList=pd.read_csv(\"/Users/jiazhidai/Downloads/python3/student_performance_test.csv\",delimiter=',')"
   ]
  },
  {
   "cell_type": "code",
   "execution_count": 173,
   "id": "833df167",
   "metadata": {
    "ExecuteTime": {
     "end_time": "2022-04-23T23:19:17.850194Z",
     "start_time": "2022-04-23T23:19:17.821947Z"
    }
   },
   "outputs": [
    {
     "data": {
      "text/html": [
       "<div>\n",
       "<style scoped>\n",
       "    .dataframe tbody tr th:only-of-type {\n",
       "        vertical-align: middle;\n",
       "    }\n",
       "\n",
       "    .dataframe tbody tr th {\n",
       "        vertical-align: top;\n",
       "    }\n",
       "\n",
       "    .dataframe thead th {\n",
       "        text-align: right;\n",
       "    }\n",
       "</style>\n",
       "<table border=\"1\" class=\"dataframe\">\n",
       "  <thead>\n",
       "    <tr style=\"text-align: right;\">\n",
       "      <th></th>\n",
       "      <th>school</th>\n",
       "      <th>sex</th>\n",
       "      <th>age</th>\n",
       "      <th>address</th>\n",
       "      <th>famsize</th>\n",
       "      <th>Pstatus</th>\n",
       "      <th>Medu</th>\n",
       "      <th>Fedu</th>\n",
       "      <th>Mjob</th>\n",
       "      <th>Fjob</th>\n",
       "      <th>...</th>\n",
       "      <th>famrel</th>\n",
       "      <th>freetime</th>\n",
       "      <th>goout</th>\n",
       "      <th>Dalc</th>\n",
       "      <th>Walc</th>\n",
       "      <th>health</th>\n",
       "      <th>absences</th>\n",
       "      <th>G1</th>\n",
       "      <th>G2</th>\n",
       "      <th>G3</th>\n",
       "    </tr>\n",
       "  </thead>\n",
       "  <tbody>\n",
       "    <tr>\n",
       "      <th>0</th>\n",
       "      <td>MS</td>\n",
       "      <td>M</td>\n",
       "      <td>17</td>\n",
       "      <td>R</td>\n",
       "      <td>GT3</td>\n",
       "      <td>T</td>\n",
       "      <td>1</td>\n",
       "      <td>1</td>\n",
       "      <td>other</td>\n",
       "      <td>services</td>\n",
       "      <td>...</td>\n",
       "      <td>4</td>\n",
       "      <td>5</td>\n",
       "      <td>5</td>\n",
       "      <td>1</td>\n",
       "      <td>3</td>\n",
       "      <td>2</td>\n",
       "      <td>0</td>\n",
       "      <td>10</td>\n",
       "      <td>9</td>\n",
       "      <td>10</td>\n",
       "    </tr>\n",
       "    <tr>\n",
       "      <th>1</th>\n",
       "      <td>MS</td>\n",
       "      <td>F</td>\n",
       "      <td>17</td>\n",
       "      <td>U</td>\n",
       "      <td>LE3</td>\n",
       "      <td>A</td>\n",
       "      <td>3</td>\n",
       "      <td>2</td>\n",
       "      <td>services</td>\n",
       "      <td>other</td>\n",
       "      <td>...</td>\n",
       "      <td>1</td>\n",
       "      <td>2</td>\n",
       "      <td>3</td>\n",
       "      <td>1</td>\n",
       "      <td>2</td>\n",
       "      <td>5</td>\n",
       "      <td>0</td>\n",
       "      <td>15</td>\n",
       "      <td>14</td>\n",
       "      <td>15</td>\n",
       "    </tr>\n",
       "    <tr>\n",
       "      <th>2</th>\n",
       "      <td>MS</td>\n",
       "      <td>F</td>\n",
       "      <td>18</td>\n",
       "      <td>U</td>\n",
       "      <td>GT3</td>\n",
       "      <td>T</td>\n",
       "      <td>1</td>\n",
       "      <td>1</td>\n",
       "      <td>other</td>\n",
       "      <td>other</td>\n",
       "      <td>...</td>\n",
       "      <td>3</td>\n",
       "      <td>4</td>\n",
       "      <td>4</td>\n",
       "      <td>2</td>\n",
       "      <td>2</td>\n",
       "      <td>5</td>\n",
       "      <td>3</td>\n",
       "      <td>7</td>\n",
       "      <td>8</td>\n",
       "      <td>7</td>\n",
       "    </tr>\n",
       "    <tr>\n",
       "      <th>3</th>\n",
       "      <td>MS</td>\n",
       "      <td>M</td>\n",
       "      <td>16</td>\n",
       "      <td>U</td>\n",
       "      <td>LE3</td>\n",
       "      <td>A</td>\n",
       "      <td>2</td>\n",
       "      <td>2</td>\n",
       "      <td>other</td>\n",
       "      <td>services</td>\n",
       "      <td>...</td>\n",
       "      <td>4</td>\n",
       "      <td>1</td>\n",
       "      <td>2</td>\n",
       "      <td>2</td>\n",
       "      <td>2</td>\n",
       "      <td>5</td>\n",
       "      <td>0</td>\n",
       "      <td>12</td>\n",
       "      <td>13</td>\n",
       "      <td>13</td>\n",
       "    </tr>\n",
       "    <tr>\n",
       "      <th>4</th>\n",
       "      <td>MS</td>\n",
       "      <td>F</td>\n",
       "      <td>17</td>\n",
       "      <td>U</td>\n",
       "      <td>GT3</td>\n",
       "      <td>T</td>\n",
       "      <td>2</td>\n",
       "      <td>2</td>\n",
       "      <td>other</td>\n",
       "      <td>at_home</td>\n",
       "      <td>...</td>\n",
       "      <td>3</td>\n",
       "      <td>4</td>\n",
       "      <td>3</td>\n",
       "      <td>1</td>\n",
       "      <td>1</td>\n",
       "      <td>3</td>\n",
       "      <td>8</td>\n",
       "      <td>10</td>\n",
       "      <td>11</td>\n",
       "      <td>12</td>\n",
       "    </tr>\n",
       "    <tr>\n",
       "      <th>...</th>\n",
       "      <td>...</td>\n",
       "      <td>...</td>\n",
       "      <td>...</td>\n",
       "      <td>...</td>\n",
       "      <td>...</td>\n",
       "      <td>...</td>\n",
       "      <td>...</td>\n",
       "      <td>...</td>\n",
       "      <td>...</td>\n",
       "      <td>...</td>\n",
       "      <td>...</td>\n",
       "      <td>...</td>\n",
       "      <td>...</td>\n",
       "      <td>...</td>\n",
       "      <td>...</td>\n",
       "      <td>...</td>\n",
       "      <td>...</td>\n",
       "      <td>...</td>\n",
       "      <td>...</td>\n",
       "      <td>...</td>\n",
       "      <td>...</td>\n",
       "    </tr>\n",
       "    <tr>\n",
       "      <th>481</th>\n",
       "      <td>GP</td>\n",
       "      <td>M</td>\n",
       "      <td>17</td>\n",
       "      <td>U</td>\n",
       "      <td>LE3</td>\n",
       "      <td>T</td>\n",
       "      <td>4</td>\n",
       "      <td>4</td>\n",
       "      <td>services</td>\n",
       "      <td>other</td>\n",
       "      <td>...</td>\n",
       "      <td>5</td>\n",
       "      <td>3</td>\n",
       "      <td>5</td>\n",
       "      <td>4</td>\n",
       "      <td>5</td>\n",
       "      <td>3</td>\n",
       "      <td>15</td>\n",
       "      <td>13</td>\n",
       "      <td>12</td>\n",
       "      <td>12</td>\n",
       "    </tr>\n",
       "    <tr>\n",
       "      <th>482</th>\n",
       "      <td>MS</td>\n",
       "      <td>F</td>\n",
       "      <td>17</td>\n",
       "      <td>R</td>\n",
       "      <td>GT3</td>\n",
       "      <td>T</td>\n",
       "      <td>1</td>\n",
       "      <td>1</td>\n",
       "      <td>at_home</td>\n",
       "      <td>at_home</td>\n",
       "      <td>...</td>\n",
       "      <td>3</td>\n",
       "      <td>5</td>\n",
       "      <td>5</td>\n",
       "      <td>2</td>\n",
       "      <td>2</td>\n",
       "      <td>4</td>\n",
       "      <td>3</td>\n",
       "      <td>10</td>\n",
       "      <td>11</td>\n",
       "      <td>10</td>\n",
       "    </tr>\n",
       "    <tr>\n",
       "      <th>483</th>\n",
       "      <td>MS</td>\n",
       "      <td>M</td>\n",
       "      <td>18</td>\n",
       "      <td>U</td>\n",
       "      <td>LE3</td>\n",
       "      <td>T</td>\n",
       "      <td>1</td>\n",
       "      <td>2</td>\n",
       "      <td>at_home</td>\n",
       "      <td>services</td>\n",
       "      <td>...</td>\n",
       "      <td>4</td>\n",
       "      <td>1</td>\n",
       "      <td>4</td>\n",
       "      <td>5</td>\n",
       "      <td>5</td>\n",
       "      <td>1</td>\n",
       "      <td>8</td>\n",
       "      <td>10</td>\n",
       "      <td>11</td>\n",
       "      <td>11</td>\n",
       "    </tr>\n",
       "    <tr>\n",
       "      <th>484</th>\n",
       "      <td>MS</td>\n",
       "      <td>M</td>\n",
       "      <td>17</td>\n",
       "      <td>U</td>\n",
       "      <td>GT3</td>\n",
       "      <td>T</td>\n",
       "      <td>1</td>\n",
       "      <td>1</td>\n",
       "      <td>other</td>\n",
       "      <td>other</td>\n",
       "      <td>...</td>\n",
       "      <td>4</td>\n",
       "      <td>4</td>\n",
       "      <td>3</td>\n",
       "      <td>2</td>\n",
       "      <td>4</td>\n",
       "      <td>5</td>\n",
       "      <td>4</td>\n",
       "      <td>8</td>\n",
       "      <td>9</td>\n",
       "      <td>9</td>\n",
       "    </tr>\n",
       "    <tr>\n",
       "      <th>485</th>\n",
       "      <td>GP</td>\n",
       "      <td>F</td>\n",
       "      <td>15</td>\n",
       "      <td>U</td>\n",
       "      <td>GT3</td>\n",
       "      <td>T</td>\n",
       "      <td>1</td>\n",
       "      <td>1</td>\n",
       "      <td>other</td>\n",
       "      <td>services</td>\n",
       "      <td>...</td>\n",
       "      <td>4</td>\n",
       "      <td>4</td>\n",
       "      <td>2</td>\n",
       "      <td>1</td>\n",
       "      <td>2</td>\n",
       "      <td>5</td>\n",
       "      <td>0</td>\n",
       "      <td>12</td>\n",
       "      <td>12</td>\n",
       "      <td>12</td>\n",
       "    </tr>\n",
       "  </tbody>\n",
       "</table>\n",
       "<p>486 rows × 33 columns</p>\n",
       "</div>"
      ],
      "text/plain": [
       "    school sex  age address famsize Pstatus  Medu  Fedu      Mjob      Fjob  \\\n",
       "0       MS   M   17       R     GT3       T     1     1     other  services   \n",
       "1       MS   F   17       U     LE3       A     3     2  services     other   \n",
       "2       MS   F   18       U     GT3       T     1     1     other     other   \n",
       "3       MS   M   16       U     LE3       A     2     2     other  services   \n",
       "4       MS   F   17       U     GT3       T     2     2     other   at_home   \n",
       "..     ...  ..  ...     ...     ...     ...   ...   ...       ...       ...   \n",
       "481     GP   M   17       U     LE3       T     4     4  services     other   \n",
       "482     MS   F   17       R     GT3       T     1     1   at_home   at_home   \n",
       "483     MS   M   18       U     LE3       T     1     2   at_home  services   \n",
       "484     MS   M   17       U     GT3       T     1     1     other     other   \n",
       "485     GP   F   15       U     GT3       T     1     1     other  services   \n",
       "\n",
       "     ... famrel freetime  goout  Dalc  Walc health absences  G1  G2  G3  \n",
       "0    ...      4        5      5     1     3      2        0  10   9  10  \n",
       "1    ...      1        2      3     1     2      5        0  15  14  15  \n",
       "2    ...      3        4      4     2     2      5        3   7   8   7  \n",
       "3    ...      4        1      2     2     2      5        0  12  13  13  \n",
       "4    ...      3        4      3     1     1      3        8  10  11  12  \n",
       "..   ...    ...      ...    ...   ...   ...    ...      ...  ..  ..  ..  \n",
       "481  ...      5        3      5     4     5      3       15  13  12  12  \n",
       "482  ...      3        5      5     2     2      4        3  10  11  10  \n",
       "483  ...      4        1      4     5     5      1        8  10  11  11  \n",
       "484  ...      4        4      3     2     4      5        4   8   9   9  \n",
       "485  ...      4        4      2     1     2      5        0  12  12  12  \n",
       "\n",
       "[486 rows x 33 columns]"
      ]
     },
     "execution_count": 173,
     "metadata": {},
     "output_type": "execute_result"
    }
   ],
   "source": [
    "totalTrainList"
   ]
  },
  {
   "cell_type": "code",
   "execution_count": 328,
   "id": "c4a66e23",
   "metadata": {
    "ExecuteTime": {
     "end_time": "2022-04-25T01:11:27.843710Z",
     "start_time": "2022-04-25T01:11:27.811637Z"
    }
   },
   "outputs": [
    {
     "data": {
      "text/html": [
       "<div>\n",
       "<style scoped>\n",
       "    .dataframe tbody tr th:only-of-type {\n",
       "        vertical-align: middle;\n",
       "    }\n",
       "\n",
       "    .dataframe tbody tr th {\n",
       "        vertical-align: top;\n",
       "    }\n",
       "\n",
       "    .dataframe thead th {\n",
       "        text-align: right;\n",
       "    }\n",
       "</style>\n",
       "<table border=\"1\" class=\"dataframe\">\n",
       "  <thead>\n",
       "    <tr style=\"text-align: right;\">\n",
       "      <th></th>\n",
       "      <th>school</th>\n",
       "      <th>sex</th>\n",
       "      <th>age</th>\n",
       "      <th>address</th>\n",
       "      <th>famsize</th>\n",
       "      <th>Pstatus</th>\n",
       "      <th>Medu</th>\n",
       "      <th>Fedu</th>\n",
       "      <th>Mjob</th>\n",
       "      <th>Fjob</th>\n",
       "      <th>...</th>\n",
       "      <th>famrel</th>\n",
       "      <th>freetime</th>\n",
       "      <th>goout</th>\n",
       "      <th>Dalc</th>\n",
       "      <th>Walc</th>\n",
       "      <th>health</th>\n",
       "      <th>absences</th>\n",
       "      <th>G1</th>\n",
       "      <th>G2</th>\n",
       "      <th>G3</th>\n",
       "    </tr>\n",
       "  </thead>\n",
       "  <tbody>\n",
       "    <tr>\n",
       "      <th>0</th>\n",
       "      <td>GP</td>\n",
       "      <td>F</td>\n",
       "      <td>17</td>\n",
       "      <td>U</td>\n",
       "      <td>GT3</td>\n",
       "      <td>T</td>\n",
       "      <td>1</td>\n",
       "      <td>1</td>\n",
       "      <td>at_home</td>\n",
       "      <td>other</td>\n",
       "      <td>...</td>\n",
       "      <td>4</td>\n",
       "      <td>3</td>\n",
       "      <td>4</td>\n",
       "      <td>1</td>\n",
       "      <td>1</td>\n",
       "      <td>5</td>\n",
       "      <td>12</td>\n",
       "      <td>12</td>\n",
       "      <td>12</td>\n",
       "      <td>12</td>\n",
       "    </tr>\n",
       "    <tr>\n",
       "      <th>1</th>\n",
       "      <td>GP</td>\n",
       "      <td>F</td>\n",
       "      <td>18</td>\n",
       "      <td>U</td>\n",
       "      <td>LE3</td>\n",
       "      <td>T</td>\n",
       "      <td>1</td>\n",
       "      <td>1</td>\n",
       "      <td>other</td>\n",
       "      <td>other</td>\n",
       "      <td>...</td>\n",
       "      <td>4</td>\n",
       "      <td>4</td>\n",
       "      <td>3</td>\n",
       "      <td>1</td>\n",
       "      <td>1</td>\n",
       "      <td>3</td>\n",
       "      <td>2</td>\n",
       "      <td>13</td>\n",
       "      <td>13</td>\n",
       "      <td>13</td>\n",
       "    </tr>\n",
       "    <tr>\n",
       "      <th>2</th>\n",
       "      <td>GP</td>\n",
       "      <td>M</td>\n",
       "      <td>18</td>\n",
       "      <td>U</td>\n",
       "      <td>GT3</td>\n",
       "      <td>T</td>\n",
       "      <td>2</td>\n",
       "      <td>2</td>\n",
       "      <td>other</td>\n",
       "      <td>other</td>\n",
       "      <td>...</td>\n",
       "      <td>5</td>\n",
       "      <td>4</td>\n",
       "      <td>2</td>\n",
       "      <td>1</td>\n",
       "      <td>2</td>\n",
       "      <td>5</td>\n",
       "      <td>6</td>\n",
       "      <td>15</td>\n",
       "      <td>14</td>\n",
       "      <td>15</td>\n",
       "    </tr>\n",
       "    <tr>\n",
       "      <th>3</th>\n",
       "      <td>GP</td>\n",
       "      <td>F</td>\n",
       "      <td>17</td>\n",
       "      <td>U</td>\n",
       "      <td>GT3</td>\n",
       "      <td>T</td>\n",
       "      <td>4</td>\n",
       "      <td>3</td>\n",
       "      <td>health</td>\n",
       "      <td>services</td>\n",
       "      <td>...</td>\n",
       "      <td>4</td>\n",
       "      <td>2</td>\n",
       "      <td>2</td>\n",
       "      <td>1</td>\n",
       "      <td>2</td>\n",
       "      <td>3</td>\n",
       "      <td>0</td>\n",
       "      <td>17</td>\n",
       "      <td>18</td>\n",
       "      <td>18</td>\n",
       "    </tr>\n",
       "    <tr>\n",
       "      <th>4</th>\n",
       "      <td>GP</td>\n",
       "      <td>F</td>\n",
       "      <td>15</td>\n",
       "      <td>U</td>\n",
       "      <td>LE3</td>\n",
       "      <td>A</td>\n",
       "      <td>4</td>\n",
       "      <td>3</td>\n",
       "      <td>other</td>\n",
       "      <td>other</td>\n",
       "      <td>...</td>\n",
       "      <td>5</td>\n",
       "      <td>2</td>\n",
       "      <td>2</td>\n",
       "      <td>1</td>\n",
       "      <td>1</td>\n",
       "      <td>5</td>\n",
       "      <td>4</td>\n",
       "      <td>10</td>\n",
       "      <td>11</td>\n",
       "      <td>11</td>\n",
       "    </tr>\n",
       "    <tr>\n",
       "      <th>...</th>\n",
       "      <td>...</td>\n",
       "      <td>...</td>\n",
       "      <td>...</td>\n",
       "      <td>...</td>\n",
       "      <td>...</td>\n",
       "      <td>...</td>\n",
       "      <td>...</td>\n",
       "      <td>...</td>\n",
       "      <td>...</td>\n",
       "      <td>...</td>\n",
       "      <td>...</td>\n",
       "      <td>...</td>\n",
       "      <td>...</td>\n",
       "      <td>...</td>\n",
       "      <td>...</td>\n",
       "      <td>...</td>\n",
       "      <td>...</td>\n",
       "      <td>...</td>\n",
       "      <td>...</td>\n",
       "      <td>...</td>\n",
       "      <td>...</td>\n",
       "    </tr>\n",
       "    <tr>\n",
       "      <th>158</th>\n",
       "      <td>GP</td>\n",
       "      <td>F</td>\n",
       "      <td>16</td>\n",
       "      <td>U</td>\n",
       "      <td>GT3</td>\n",
       "      <td>T</td>\n",
       "      <td>4</td>\n",
       "      <td>2</td>\n",
       "      <td>health</td>\n",
       "      <td>services</td>\n",
       "      <td>...</td>\n",
       "      <td>4</td>\n",
       "      <td>2</td>\n",
       "      <td>3</td>\n",
       "      <td>1</td>\n",
       "      <td>1</td>\n",
       "      <td>3</td>\n",
       "      <td>0</td>\n",
       "      <td>17</td>\n",
       "      <td>17</td>\n",
       "      <td>18</td>\n",
       "    </tr>\n",
       "    <tr>\n",
       "      <th>159</th>\n",
       "      <td>GP</td>\n",
       "      <td>F</td>\n",
       "      <td>17</td>\n",
       "      <td>U</td>\n",
       "      <td>GT3</td>\n",
       "      <td>T</td>\n",
       "      <td>3</td>\n",
       "      <td>2</td>\n",
       "      <td>other</td>\n",
       "      <td>other</td>\n",
       "      <td>...</td>\n",
       "      <td>4</td>\n",
       "      <td>3</td>\n",
       "      <td>2</td>\n",
       "      <td>2</td>\n",
       "      <td>3</td>\n",
       "      <td>2</td>\n",
       "      <td>0</td>\n",
       "      <td>12</td>\n",
       "      <td>13</td>\n",
       "      <td>15</td>\n",
       "    </tr>\n",
       "    <tr>\n",
       "      <th>160</th>\n",
       "      <td>GP</td>\n",
       "      <td>F</td>\n",
       "      <td>17</td>\n",
       "      <td>U</td>\n",
       "      <td>LE3</td>\n",
       "      <td>T</td>\n",
       "      <td>4</td>\n",
       "      <td>2</td>\n",
       "      <td>teacher</td>\n",
       "      <td>services</td>\n",
       "      <td>...</td>\n",
       "      <td>4</td>\n",
       "      <td>2</td>\n",
       "      <td>3</td>\n",
       "      <td>1</td>\n",
       "      <td>1</td>\n",
       "      <td>4</td>\n",
       "      <td>2</td>\n",
       "      <td>14</td>\n",
       "      <td>15</td>\n",
       "      <td>17</td>\n",
       "    </tr>\n",
       "    <tr>\n",
       "      <th>161</th>\n",
       "      <td>GP</td>\n",
       "      <td>M</td>\n",
       "      <td>15</td>\n",
       "      <td>U</td>\n",
       "      <td>LE3</td>\n",
       "      <td>T</td>\n",
       "      <td>2</td>\n",
       "      <td>2</td>\n",
       "      <td>services</td>\n",
       "      <td>services</td>\n",
       "      <td>...</td>\n",
       "      <td>5</td>\n",
       "      <td>3</td>\n",
       "      <td>3</td>\n",
       "      <td>1</td>\n",
       "      <td>3</td>\n",
       "      <td>4</td>\n",
       "      <td>2</td>\n",
       "      <td>13</td>\n",
       "      <td>12</td>\n",
       "      <td>13</td>\n",
       "    </tr>\n",
       "    <tr>\n",
       "      <th>162</th>\n",
       "      <td>GP</td>\n",
       "      <td>F</td>\n",
       "      <td>17</td>\n",
       "      <td>U</td>\n",
       "      <td>GT3</td>\n",
       "      <td>T</td>\n",
       "      <td>2</td>\n",
       "      <td>3</td>\n",
       "      <td>at_home</td>\n",
       "      <td>other</td>\n",
       "      <td>...</td>\n",
       "      <td>3</td>\n",
       "      <td>3</td>\n",
       "      <td>3</td>\n",
       "      <td>1</td>\n",
       "      <td>4</td>\n",
       "      <td>3</td>\n",
       "      <td>4</td>\n",
       "      <td>12</td>\n",
       "      <td>13</td>\n",
       "      <td>13</td>\n",
       "    </tr>\n",
       "  </tbody>\n",
       "</table>\n",
       "<p>163 rows × 33 columns</p>\n",
       "</div>"
      ],
      "text/plain": [
       "    school sex  age address famsize Pstatus  Medu  Fedu      Mjob      Fjob  \\\n",
       "0       GP   F   17       U     GT3       T     1     1   at_home     other   \n",
       "1       GP   F   18       U     LE3       T     1     1     other     other   \n",
       "2       GP   M   18       U     GT3       T     2     2     other     other   \n",
       "3       GP   F   17       U     GT3       T     4     3    health  services   \n",
       "4       GP   F   15       U     LE3       A     4     3     other     other   \n",
       "..     ...  ..  ...     ...     ...     ...   ...   ...       ...       ...   \n",
       "158     GP   F   16       U     GT3       T     4     2    health  services   \n",
       "159     GP   F   17       U     GT3       T     3     2     other     other   \n",
       "160     GP   F   17       U     LE3       T     4     2   teacher  services   \n",
       "161     GP   M   15       U     LE3       T     2     2  services  services   \n",
       "162     GP   F   17       U     GT3       T     2     3   at_home     other   \n",
       "\n",
       "     ... famrel freetime  goout  Dalc  Walc health absences  G1  G2  G3  \n",
       "0    ...      4        3      4     1     1      5       12  12  12  12  \n",
       "1    ...      4        4      3     1     1      3        2  13  13  13  \n",
       "2    ...      5        4      2     1     2      5        6  15  14  15  \n",
       "3    ...      4        2      2     1     2      3        0  17  18  18  \n",
       "4    ...      5        2      2     1     1      5        4  10  11  11  \n",
       "..   ...    ...      ...    ...   ...   ...    ...      ...  ..  ..  ..  \n",
       "158  ...      4        2      3     1     1      3        0  17  17  18  \n",
       "159  ...      4        3      2     2     3      2        0  12  13  15  \n",
       "160  ...      4        2      3     1     1      4        2  14  15  17  \n",
       "161  ...      5        3      3     1     3      4        2  13  12  13  \n",
       "162  ...      3        3      3     1     4      3        4  12  13  13  \n",
       "\n",
       "[163 rows x 33 columns]"
      ]
     },
     "execution_count": 328,
     "metadata": {},
     "output_type": "execute_result"
    }
   ],
   "source": [
    "totalTestList"
   ]
  },
  {
   "cell_type": "markdown",
   "id": "7659409d",
   "metadata": {},
   "source": [
    "# Classification"
   ]
  },
  {
   "cell_type": "markdown",
   "id": "691be4ee",
   "metadata": {},
   "source": [
    "## Trivial System"
   ]
  },
  {
   "cell_type": "code",
   "execution_count": 374,
   "id": "520cfedc",
   "metadata": {
    "ExecuteTime": {
     "end_time": "2022-04-25T01:44:35.337102Z",
     "start_time": "2022-04-25T01:44:35.321572Z"
    }
   },
   "outputs": [],
   "source": [
    "#shuffle all the training data and create validate data\n",
    "def shuffle_data(totalTrainList):\n",
    "    idx_list=list(range(0,len(totalTrainList)))\n",
    "    shuffled_idx=rd.sample(idx_list,len(idx_list))\n",
    "    training_idx=shuffled_idx[0:400]\n",
    "    validate_idx=shuffled_idx[400:]\n",
    "\n",
    "    shuffled_trainingList=pd.DataFrame(columns=totalTrainList.columns)\n",
    "    shuffled_validateList=pd.DataFrame(columns=totalTrainList.columns)\n",
    "    for idx in training_idx:\n",
    "        shuffled_trainingList=shuffled_trainingList.append(totalTrainList[idx:idx+1])\n",
    "    for idx in validate_idx:\n",
    "        shuffled_validateList=shuffled_validateList.append(totalTrainList[idx:idx+1])\n",
    "    return shuffled_trainingList,shuffled_validateList"
   ]
  },
  {
   "cell_type": "code",
   "execution_count": 1380,
   "id": "2433330a",
   "metadata": {
    "ExecuteTime": {
     "end_time": "2022-04-27T21:49:40.412574Z",
     "start_time": "2022-04-27T21:49:40.398502Z"
    }
   },
   "outputs": [],
   "source": [
    "# generate trival P\n",
    "seq=['A','B','C','D','F']\n",
    "def P_trivial_generate(target_g):\n",
    "    trainList, validateList=shuffle_data(totalTrainList)\n",
    "    G_A=trainList[trainList[target_g]>=16]\n",
    "    G_B=trainList[(trainList[target_g]>=14) & (trainList[target_g]<16)]\n",
    "    G_C=trainList[(trainList[target_g]>=12) & (trainList[target_g]<14)]\n",
    "    G_D=trainList[(trainList[target_g]>=10) & (trainList[target_g]<12)]\n",
    "    G_F=trainList[trainList[target_g]<10]\n",
    "    P_A_trivial=len(G_A)/len(trainList)\n",
    "    P_B_trivial=len(G_B)/len(trainList)\n",
    "    P_C_trivial=len(G_C)/len(trainList)\n",
    "    P_D_trivial=len(G_D)/len(trainList)\n",
    "    P_F_trivial=len(G_F)/len(trainList)\n",
    "#     seq=['A','B','C','D','F']\n",
    "    P_trivial_G=[P_A_trivial, P_B_trivial, P_C_trivial, P_D_trivial, P_F_trivial]\n",
    "    return P_trivial_G, validateList"
   ]
  },
  {
   "cell_type": "code",
   "execution_count": 1381,
   "id": "75064ef4",
   "metadata": {
    "ExecuteTime": {
     "end_time": "2022-04-27T21:49:49.625442Z",
     "start_time": "2022-04-27T21:49:49.622826Z"
    }
   },
   "outputs": [],
   "source": [
    "# a function to generate random classes\n",
    "def generate_random_class(sequence, probability):\n",
    "    random_loc = rd.uniform(0, 1)\n",
    "    total_probability = 0.0\n",
    "    for class_i, class_i_probability in zip(sequence, probability):\n",
    "        total_probability += class_i_probability\n",
    "        if random_loc < total_probability:\n",
    "            break\n",
    "    return class_i\n",
    "# this def is from the internet\n",
    "#https://blog.csdn.net/liulicuican/article/details/102502540"
   ]
  },
  {
   "cell_type": "code",
   "execution_count": 1382,
   "id": "8961cbd1",
   "metadata": {
    "ExecuteTime": {
     "end_time": "2022-04-27T21:49:58.646702Z",
     "start_time": "2022-04-27T21:49:58.642317Z"
    }
   },
   "outputs": [],
   "source": [
    "# test trivial\n",
    "def trivial_accurate(sequence, probability, target_g, pred_g, testlist):\n",
    "    predict_P_trivial=[]\n",
    "    testlist_wP=[]\n",
    "    for i in range(0,len(testlist)):\n",
    "        random_P=''\n",
    "        random_P=generate_random_class(sequence, probability)\n",
    "        predict_P_trivial.append(random_P)\n",
    "\n",
    "    testlist_wP=testlist.copy()\n",
    "    testlist_wP[pred_g]=predict_P_trivial\n",
    "    testlist_wP.reset_index(drop=True, inplace=True)\n",
    "    \n",
    "    num_correct=0\n",
    "    for i in range(0,len(testlist)):\n",
    "        row=testlist_wP[i:i+1]\n",
    "        if row.at[i,target_g]>=16 and row.at[i,pred_g]=='A':\n",
    "            num_correct+=1\n",
    "        elif row.at[i, target_g]>=14 and row.at[i,target_g]<16 and row.at[i,pred_g]=='B':\n",
    "            num_correct+=1\n",
    "        elif row.at[i,target_g]>=12 and row.at[i,target_g]<14 and row.at[i,pred_g]=='C':\n",
    "            num_correct+=1\n",
    "        elif row.at[i,target_g]>=10 and row.at[i,target_g]<12 and row.at[i,pred_g]=='D':\n",
    "            num_correct+=1\n",
    "        elif row.at[i,target_g]<10 and row.at[i,pred_g]=='F':\n",
    "            num_correct+=1\n",
    "    accurate=num_correct/len(testlist)\n",
    "    return accurate"
   ]
  },
  {
   "cell_type": "code",
   "execution_count": 1383,
   "id": "89f02edb",
   "metadata": {
    "ExecuteTime": {
     "end_time": "2022-04-27T21:50:07.799077Z",
     "start_time": "2022-04-27T21:50:07.796558Z"
    }
   },
   "outputs": [],
   "source": [
    "def calculate_accurate(sequence, probability, target_g, pred_g, testlist):\n",
    "    mean_trivial_accurate=0\n",
    "    sum_accurate=0\n",
    "    for i in range(0,10):\n",
    "        sum_accurate+=trivial_accurate(sequence, probability, target_g, pred_g, testlist)\n",
    "    mean_trivial_accurate=sum_accurate/10\n",
    "    return mean_trivial_accurate"
   ]
  },
  {
   "cell_type": "markdown",
   "id": "ba4199ab",
   "metadata": {},
   "source": [
    "mission 1"
   ]
  },
  {
   "cell_type": "code",
   "execution_count": 1384,
   "id": "868415e6",
   "metadata": {
    "ExecuteTime": {
     "end_time": "2022-04-27T21:50:22.117203Z",
     "start_time": "2022-04-27T21:50:16.834462Z"
    }
   },
   "outputs": [
    {
     "data": {
      "text/plain": [
       "0.22024539877300614"
      ]
     },
     "execution_count": 1384,
     "metadata": {},
     "output_type": "execute_result"
    }
   ],
   "source": [
    "trivial_best_G1_P=[]\n",
    "max_P=0\n",
    "for i in range(0,10):\n",
    "    P_trivial_G1, validateList=P_trivial_generate('G1')\n",
    "    temp_P = calculate_accurate(seq,P_trivial_G1,'G1','pred_G1',validateList)\n",
    "    if temp_P > max_P:\n",
    "        trivial_best_G1_P = P_trivial_G1\n",
    "        max_P = temp_P\n",
    "calculate_accurate(seq, trivial_best_G1_P, 'G1', 'pred_G1', totalTestList)\n"
   ]
  },
  {
   "cell_type": "code",
   "execution_count": 1396,
   "id": "e79730d9",
   "metadata": {
    "ExecuteTime": {
     "end_time": "2022-04-27T22:00:26.064380Z",
     "start_time": "2022-04-27T22:00:26.044591Z"
    }
   },
   "outputs": [],
   "source": [
    "\n",
    "predict_P_trivial=[]\n",
    "testlist_wP=[]\n",
    "for i in range(0,len(totalTestList)):\n",
    "    random_P=''\n",
    "    random_P=generate_random_class(seq, trivial_best_G1_P)\n",
    "    predict_P_trivial.append(random_P)\n",
    "\n",
    "testlist_wP=totalTestList.copy()\n",
    "testlist_wP['pred_G1']=predict_P_trivial\n",
    "\n",
    "cate_G1=[]\n",
    "for i in testlist_wP['G1']:\n",
    "    if i>=16:\n",
    "        cate_G1.append('A')\n",
    "    elif i<16 and i>=14:\n",
    "        cate_G1.append('B')\n",
    "    elif i<14 and i>=12:\n",
    "        cate_G1.append('C')\n",
    "    elif i<12 and i>=10:\n",
    "        cate_G1.append('D')\n",
    "    else:\n",
    "        cate_G1.append('F')\n"
   ]
  },
  {
   "cell_type": "code",
   "execution_count": 1393,
   "id": "07ffa0e9",
   "metadata": {
    "ExecuteTime": {
     "end_time": "2022-04-27T21:58:39.334872Z",
     "start_time": "2022-04-27T21:58:39.320211Z"
    }
   },
   "outputs": [
    {
     "data": {
      "text/plain": [
       "0.18426125554850983"
      ]
     },
     "execution_count": 1393,
     "metadata": {},
     "output_type": "execute_result"
    }
   ],
   "source": [
    "# f1_score(y_true, y_pred, average='macro')\n",
    "f1_score(cate_G1, predict_P_trivial, average='macro')"
   ]
  },
  {
   "cell_type": "code",
   "execution_count": 1394,
   "id": "87e32392",
   "metadata": {
    "ExecuteTime": {
     "end_time": "2022-04-27T21:59:39.862252Z",
     "start_time": "2022-04-27T21:59:39.844671Z"
    }
   },
   "outputs": [
    {
     "data": {
      "text/plain": [
       "array([[ 0,  1,  2,  6,  3],\n",
       "       [ 1,  7,  7,  7,  5],\n",
       "       [ 3,  6,  7, 12, 11],\n",
       "       [ 1,  5, 17, 12, 13],\n",
       "       [ 1,  6, 11, 10,  9]])"
      ]
     },
     "execution_count": 1394,
     "metadata": {},
     "output_type": "execute_result"
    }
   ],
   "source": [
    "cm=confusion_matrix(cate_G1, predict_P_trivial, labels=[\"A\", \"B\", \"C\",\"D\",\"F\"])\n",
    "labels_name=[\"A\", \"B\", \"C\", \"D\", \"F\"]\n",
    "cm"
   ]
  },
  {
   "cell_type": "code",
   "execution_count": 1395,
   "id": "c3bd5bca",
   "metadata": {
    "ExecuteTime": {
     "end_time": "2022-04-27T21:59:59.537512Z",
     "start_time": "2022-04-27T21:59:59.428625Z"
    },
    "scrolled": true
   },
   "outputs": [
    {
     "data": {
      "image/png": "[encoded data removed]",
      "text/plain": [
       "<Figure size 432x288 with 2 Axes>"
      ]
     },
     "metadata": {
      "needs_background": "light"
     },
     "output_type": "display_data"
    }
   ],
   "source": [
    "plot_confusion_matrix(cm, labels_name, \"Confusion Matrix\")\n",
    "plt.show()"
   ]
  },
  {
   "cell_type": "markdown",
   "id": "5f24daa5",
   "metadata": {},
   "source": [
    "mission 2 and 3"
   ]
  },
  {
   "cell_type": "code",
   "execution_count": 258,
   "id": "995c3599",
   "metadata": {
    "ExecuteTime": {
     "end_time": "2022-04-24T23:46:10.186256Z",
     "start_time": "2022-04-24T23:46:04.919304Z"
    }
   },
   "outputs": [
    {
     "data": {
      "text/plain": [
       "0.2202453987730061"
      ]
     },
     "execution_count": 258,
     "metadata": {},
     "output_type": "execute_result"
    }
   ],
   "source": [
    "trivial_best_G3_P=[]\n",
    "max_P=0\n",
    "for i in range(0,10):\n",
    "    P_trivial_G3, validateList=P_trivial_generate('G3')\n",
    "    temp_P = calculate_accurate(seq, P_trivial_G3,'G3','pred_G3',validateList)\n",
    "    if temp_P > max_P:\n",
    "        trivial_best_G3_P = P_trivial_G3\n",
    "        max_P = temp_P\n",
    "calculate_accurate(seq, trivial_best_G3_P, 'G3', 'pred_G3', totalTestList)"
   ]
  },
  {
   "cell_type": "code",
   "execution_count": 1405,
   "id": "03caa8c3",
   "metadata": {
    "ExecuteTime": {
     "end_time": "2022-04-27T22:04:05.950571Z",
     "start_time": "2022-04-27T22:04:05.934467Z"
    }
   },
   "outputs": [],
   "source": [
    "predict_P_trivial3=[]\n",
    "testlist_wP=[]\n",
    "for i in range(0,len(totalTestList)):\n",
    "    random_P=''\n",
    "    random_P=generate_random_class(seq, trivial_best_G3_P)\n",
    "    predict_P_trivial3.append(random_P)\n",
    "\n",
    "testlist_wP=totalTestList.copy()\n",
    "testlist_wP['pred_G3']=predict_P_trivial3\n",
    "\n",
    "cate_G3=[]\n",
    "for i in testlist_wP['G3']:\n",
    "    if i>=16:\n",
    "        cate_G3.append('A')\n",
    "    elif i<16 and i>=14:\n",
    "        cate_G3.append('B')\n",
    "    elif i<14 and i>=12:\n",
    "        cate_G3.append('C')\n",
    "    elif i<12 and i>=10:\n",
    "        cate_G3.append('D')\n",
    "    else:\n",
    "        cate_G3.append('F')\n"
   ]
  },
  {
   "cell_type": "code",
   "execution_count": 1409,
   "id": "20a5d99b",
   "metadata": {
    "ExecuteTime": {
     "end_time": "2022-04-27T22:04:45.021141Z",
     "start_time": "2022-04-27T22:04:45.016893Z"
    }
   },
   "outputs": [
    {
     "data": {
      "text/plain": [
       "0.18786857055540732"
      ]
     },
     "execution_count": 1409,
     "metadata": {},
     "output_type": "execute_result"
    }
   ],
   "source": [
    "f1_score(cate_G3, predict_P_trivial3, average='macro')"
   ]
  },
  {
   "cell_type": "code",
   "execution_count": 1411,
   "id": "4d47a0d7",
   "metadata": {
    "ExecuteTime": {
     "end_time": "2022-04-27T22:05:01.295964Z",
     "start_time": "2022-04-27T22:05:01.276492Z"
    }
   },
   "outputs": [
    {
     "data": {
      "text/plain": [
       "array([[ 1,  1,  9,  8,  2],\n",
       "       [ 7,  4,  5, 11,  1],\n",
       "       [ 7, 11,  9, 11,  1],\n",
       "       [ 5,  8, 15, 13,  9],\n",
       "       [ 2,  3,  4, 10,  6]])"
      ]
     },
     "execution_count": 1411,
     "metadata": {},
     "output_type": "execute_result"
    }
   ],
   "source": [
    "cm=confusion_matrix(cate_G3, predict_P_trivial3, labels=[\"A\", \"B\", \"C\",\"D\",\"F\"])\n",
    "labels_name=[\"A\", \"B\", \"C\", \"D\", \"F\"]\n",
    "cm"
   ]
  },
  {
   "cell_type": "code",
   "execution_count": 1412,
   "id": "ffbf17b9",
   "metadata": {
    "ExecuteTime": {
     "end_time": "2022-04-27T22:05:10.598336Z",
     "start_time": "2022-04-27T22:05:10.519056Z"
    }
   },
   "outputs": [
    {
     "data": {
      "image/png": "[encoded data removed]",
      "text/plain": [
       "<Figure size 432x288 with 2 Axes>"
      ]
     },
     "metadata": {
      "needs_background": "light"
     },
     "output_type": "display_data"
    }
   ],
   "source": [
    "plot_confusion_matrix(cm, labels_name, \"Confusion Matrix\")\n",
    "plt.show()"
   ]
  },
  {
   "cell_type": "markdown",
   "id": "8fdcdfc5",
   "metadata": {},
   "source": [
    "## Baseline System"
   ]
  },
  {
   "cell_type": "code",
   "execution_count": 1413,
   "id": "8c554de0",
   "metadata": {
    "ExecuteTime": {
     "end_time": "2022-04-27T22:05:40.972577Z",
     "start_time": "2022-04-27T22:05:40.940181Z"
    }
   },
   "outputs": [],
   "source": [
    "# preprocessing data : turning all the non-binary and binary categorial data\n",
    "totalTrainList_wo4=totalTrainList.drop(['Mjob','Fjob','reason','guardian'],axis=1)\n",
    "totalTrainList_wo4_wog123=totalTrainList_wo4.drop(['G1','G2','G3'],axis=1)\n",
    "totalTrainList_wo4_wog3=totalTrainList_wo4.drop(['G3'],axis=1)\n",
    "\n",
    "totalTestList_wo4=totalTestList.drop(['Mjob','Fjob','reason','guardian'],axis=1)\n",
    "totalTestList_wo4_wog123=totalTestList_wo4.drop(['G1','G2','G3'],axis=1)\n",
    "totalTestList_wo4_wog3=totalTestList_wo4.drop(['G3'],axis=1)\n",
    "\n",
    "processed_test=pd.get_dummies(totalTestList_wo4_wog123)\n",
    "processed_test_wo3=pd.get_dummies(totalTestList_wo4_wog3)\n"
   ]
  },
  {
   "cell_type": "code",
   "execution_count": 1414,
   "id": "769c488f",
   "metadata": {
    "ExecuteTime": {
     "end_time": "2022-04-27T22:05:50.177072Z",
     "start_time": "2022-04-27T22:05:50.162416Z"
    }
   },
   "outputs": [],
   "source": [
    "true_P=[]\n",
    "for i in range(0,len(totalTestList_wo4)):\n",
    "    row=totalTestList_wo4[i:i+1]\n",
    "    if row.at[i,'G1']>=16:\n",
    "        true_P.append('A')\n",
    "    elif row.at[i,'G1']>=14 and row.at[i,'G1']<16:\n",
    "        true_P.append('B')\n",
    "    elif row.at[i,'G1']>=12 and row.at[i,'G1']<14:\n",
    "        true_P.append('C')\n",
    "    elif row.at[i,'G1']>=10 and row.at[i,'G1']<12:\n",
    "        true_P.append('D')\n",
    "    elif row.at[i,'G1']<10:\n",
    "        true_P.append('F')"
   ]
  },
  {
   "cell_type": "code",
   "execution_count": 1415,
   "id": "24bceacf",
   "metadata": {
    "ExecuteTime": {
     "end_time": "2022-04-27T22:05:59.510851Z",
     "start_time": "2022-04-27T22:05:59.475788Z"
    }
   },
   "outputs": [],
   "source": [
    "processed_list_A=pd.get_dummies(totalTrainList_wo4_wog123)[totalTrainList_wo4['G1']>=16]\n",
    "processed_list_B=pd.get_dummies(totalTrainList_wo4_wog123)[(totalTrainList_wo4['G1']>=14) & (totalTrainList_wo4['G1']<16)]\n",
    "processed_list_C=pd.get_dummies(totalTrainList_wo4_wog123)[(totalTrainList_wo4['G1']>=12) & (totalTrainList_wo4['G1']<14)]\n",
    "processed_list_D=pd.get_dummies(totalTrainList_wo4_wog123)[(totalTrainList_wo4['G1']>=10) & (totalTrainList_wo4['G1']<12)]\n",
    "processed_list_F=pd.get_dummies(totalTrainList_wo4_wog123)[totalTrainList_wo4['G1']<10]\n",
    "\n",
    "list_A_mean=processed_list_A.mean()\n",
    "list_B_mean=processed_list_B.mean()\n",
    "list_C_mean=processed_list_C.mean()\n",
    "list_D_mean=processed_list_D.mean()\n",
    "list_F_mean=processed_list_F.mean()\n",
    "\n",
    "processed_test=pd.get_dummies(totalTestList_wo4_wog123)"
   ]
  },
  {
   "cell_type": "code",
   "execution_count": 1416,
   "id": "d91ea693",
   "metadata": {
    "ExecuteTime": {
     "end_time": "2022-04-27T22:06:09.185129Z",
     "start_time": "2022-04-27T22:06:08.841204Z"
    }
   },
   "outputs": [],
   "source": [
    "pred_P=[]\n",
    "for i in range(0,len(processed_test)):\n",
    "    row = processed_test[i:i+1]\n",
    "    distA = np.linalg.norm(row-list_A_mean)\n",
    "    distB = np.linalg.norm(row-list_B_mean)\n",
    "    distC = np.linalg.norm(row-list_C_mean)\n",
    "    distD = np.linalg.norm(row-list_D_mean)\n",
    "    distF = np.linalg.norm(row-list_F_mean)\n",
    "    min_dist=min(distA,distB,distC,distD,distF)\n",
    "    if min_dist==distA:\n",
    "        pred_P.append('A')\n",
    "    elif min_dist==distB:\n",
    "        pred_P.append('B')\n",
    "    elif min_dist==distC:\n",
    "        pred_P.append('C')\n",
    "    elif min_dist==distD:\n",
    "        pred_P.append('D')\n",
    "    else:\n",
    "        pred_P.append('F')"
   ]
  },
  {
   "cell_type": "markdown",
   "id": "a262e062",
   "metadata": {
    "ExecuteTime": {
     "end_time": "2022-04-28T00:04:27.824479Z",
     "start_time": "2022-04-28T00:04:27.812616Z"
    }
   },
   "source": [
    "mission 1"
   ]
  },
  {
   "cell_type": "code",
   "execution_count": 532,
   "id": "9e46e821",
   "metadata": {
    "ExecuteTime": {
     "end_time": "2022-04-25T04:55:57.368305Z",
     "start_time": "2022-04-25T04:55:57.356679Z"
    }
   },
   "outputs": [
    {
     "data": {
      "text/plain": [
       "0.25153374233128833"
      ]
     },
     "execution_count": 532,
     "metadata": {},
     "output_type": "execute_result"
    }
   ],
   "source": [
    "num_acc=0\n",
    "for i in range(0,len(totalTestList)):\n",
    "    if true_P[i]==pred_P[i]:\n",
    "        num_acc+=1\n",
    "total_acc_rate=num_acc/len(totalTestList)\n",
    "total_acc_rate"
   ]
  },
  {
   "cell_type": "code",
   "execution_count": 1417,
   "id": "2ef30f02",
   "metadata": {
    "ExecuteTime": {
     "end_time": "2022-04-27T22:06:34.642122Z",
     "start_time": "2022-04-27T22:06:34.627831Z"
    }
   },
   "outputs": [
    {
     "data": {
      "text/plain": [
       "0.2385018737761655"
      ]
     },
     "execution_count": 1417,
     "metadata": {},
     "output_type": "execute_result"
    }
   ],
   "source": [
    "# f1_score(y_true, y_pred, average='macro')\n",
    "f1_score(true_P, pred_P, average='macro')"
   ]
  },
  {
   "cell_type": "code",
   "execution_count": 1418,
   "id": "7c69e704",
   "metadata": {
    "ExecuteTime": {
     "end_time": "2022-04-27T22:07:12.926525Z",
     "start_time": "2022-04-27T22:07:12.812876Z"
    }
   },
   "outputs": [
    {
     "name": "stdout",
     "output_type": "stream",
     "text": [
      "[[10  1  0  0  1]\n",
      " [14  4  1  2  6]\n",
      " [20  2  4  7  6]\n",
      " [21  2  3  7 15]\n",
      " [ 9  3  4  5 16]]\n"
     ]
    },
    {
     "data": {
      "image/png": "[encoded data removed]",
      "text/plain": [
       "<Figure size 432x288 with 2 Axes>"
      ]
     },
     "metadata": {
      "needs_background": "light"
     },
     "output_type": "display_data"
    }
   ],
   "source": [
    "cm=confusion_matrix(true_P, pred_P, labels=[\"A\", \"B\", \"C\",\"D\",\"F\"])\n",
    "labels_name=[\"A\", \"B\", \"C\", \"D\", \"F\"]\n",
    "print(cm)\n",
    "plot_confusion_matrix(cm, labels_name, \"Confusion Matrix\")\n",
    "plt.show()"
   ]
  },
  {
   "cell_type": "code",
   "execution_count": 1420,
   "id": "9b1d84c9",
   "metadata": {
    "ExecuteTime": {
     "end_time": "2022-04-27T22:07:43.808102Z",
     "start_time": "2022-04-27T22:07:43.793512Z"
    }
   },
   "outputs": [],
   "source": [
    "true_P3=[]\n",
    "for i in range(0,len(totalTestList_wo4)):\n",
    "    row=totalTestList_wo4[i:i+1]\n",
    "    if row.at[i,'G3']>=16:\n",
    "        true_P3.append('A')\n",
    "    elif row.at[i,'G3']>=14 and row.at[i,'G3']<16:\n",
    "        true_P3.append('B')\n",
    "    elif row.at[i,'G3']>=12 and row.at[i,'G3']<14:\n",
    "        true_P3.append('C')\n",
    "    elif row.at[i,'G3']>=10 and row.at[i,'G3']<12:\n",
    "        true_P3.append('D')\n",
    "    elif row.at[i,'G3']<10:\n",
    "        true_P3.append('F')"
   ]
  },
  {
   "cell_type": "code",
   "execution_count": 1421,
   "id": "7ebaa8fc",
   "metadata": {
    "ExecuteTime": {
     "end_time": "2022-04-27T22:07:53.362786Z",
     "start_time": "2022-04-27T22:07:53.323403Z"
    }
   },
   "outputs": [],
   "source": [
    "processed_list_A3=pd.get_dummies(totalTrainList_wo4_wog123)[totalTrainList_wo4['G3']>=16]\n",
    "processed_list_B3=pd.get_dummies(totalTrainList_wo4_wog123)[(totalTrainList_wo4['G3']>=14) & (totalTrainList_wo4['G3']<16)]\n",
    "processed_list_C3=pd.get_dummies(totalTrainList_wo4_wog123)[(totalTrainList_wo4['G3']>=12) & (totalTrainList_wo4['G3']<14)]\n",
    "processed_list_D3=pd.get_dummies(totalTrainList_wo4_wog123)[(totalTrainList_wo4['G3']>=10) & (totalTrainList_wo4['G3']<12)]\n",
    "processed_list_F3=pd.get_dummies(totalTrainList_wo4_wog123)[totalTrainList_wo4['G3']<10]\n",
    "\n",
    "list_A_mean3=processed_list_A3.mean()\n",
    "list_B_mean3=processed_list_B3.mean()\n",
    "list_C_mean3=processed_list_C3.mean()\n",
    "list_D_mean3=processed_list_D3.mean()\n",
    "list_F_mean3=processed_list_F3.mean()\n",
    "\n",
    "processed_test=pd.get_dummies(totalTestList_wo4_wog123)\n"
   ]
  },
  {
   "cell_type": "code",
   "execution_count": 1422,
   "id": "361140c5",
   "metadata": {
    "ExecuteTime": {
     "end_time": "2022-04-27T22:08:03.044509Z",
     "start_time": "2022-04-27T22:08:02.700274Z"
    }
   },
   "outputs": [],
   "source": [
    "pred_P3=[]\n",
    "for i in range(0,len(processed_test)):\n",
    "    row = processed_test[i:i+1]\n",
    "    distA = np.linalg.norm(row-list_A_mean3)\n",
    "    distB = np.linalg.norm(row-list_B_mean3)\n",
    "    distC = np.linalg.norm(row-list_C_mean3)\n",
    "    distD = np.linalg.norm(row-list_D_mean3)\n",
    "    distF = np.linalg.norm(row-list_F_mean3)\n",
    "    min_dist=min(distA,distB,distC,distD,distF)\n",
    "    if min_dist==distA:\n",
    "        pred_P3.append('A')\n",
    "    elif min_dist==distB:\n",
    "        pred_P3.append('B')\n",
    "    elif min_dist==distC:\n",
    "        pred_P3.append('C')\n",
    "    elif min_dist==distD:\n",
    "        pred_P3.append('D')\n",
    "    else:\n",
    "        pred_P3.append('F')"
   ]
  },
  {
   "cell_type": "markdown",
   "id": "7683ab98",
   "metadata": {
    "ExecuteTime": {
     "end_time": "2022-04-28T00:04:27.824479Z",
     "start_time": "2022-04-28T00:04:27.812616Z"
    }
   },
   "source": [
    "mission 2"
   ]
  },
  {
   "cell_type": "code",
   "execution_count": 1423,
   "id": "af9a985e",
   "metadata": {
    "ExecuteTime": {
     "end_time": "2022-04-27T22:08:12.375495Z",
     "start_time": "2022-04-27T22:08:12.372527Z"
    }
   },
   "outputs": [
    {
     "data": {
      "text/plain": [
       "0.26993865030674846"
      ]
     },
     "execution_count": 1423,
     "metadata": {},
     "output_type": "execute_result"
    }
   ],
   "source": [
    "num_acc=0\n",
    "for i in range(0,len(totalTestList)):\n",
    "    if true_P3[i]==pred_P3[i]:\n",
    "        num_acc+=1\n",
    "total_acc_rate=num_acc/len(totalTestList)\n",
    "total_acc_rate"
   ]
  },
  {
   "cell_type": "code",
   "execution_count": 1424,
   "id": "de04c1d4",
   "metadata": {
    "ExecuteTime": {
     "end_time": "2022-04-27T22:08:21.802906Z",
     "start_time": "2022-04-27T22:08:21.798504Z"
    }
   },
   "outputs": [
    {
     "data": {
      "text/plain": [
       "0.25615310075831604"
      ]
     },
     "execution_count": 1424,
     "metadata": {},
     "output_type": "execute_result"
    }
   ],
   "source": [
    "# f1_score(y_true, y_pred, average='macro')\n",
    "f1_score(true_P3, pred_P3, average='macro')"
   ]
  },
  {
   "cell_type": "code",
   "execution_count": 1425,
   "id": "9ebfa255",
   "metadata": {
    "ExecuteTime": {
     "end_time": "2022-04-27T22:08:31.345190Z",
     "start_time": "2022-04-27T22:08:31.255345Z"
    }
   },
   "outputs": [
    {
     "name": "stdout",
     "output_type": "stream",
     "text": [
      "[[ 7  1  9  0  4]\n",
      " [ 9  4  8  1  6]\n",
      " [ 6  4 17  6  6]\n",
      " [10  3 16  6 15]\n",
      " [ 4  1  6  4 10]]\n"
     ]
    },
    {
     "data": {
      "image/png": "[encoded data removed]",
      "text/plain": [
       "<Figure size 432x288 with 2 Axes>"
      ]
     },
     "metadata": {
      "needs_background": "light"
     },
     "output_type": "display_data"
    }
   ],
   "source": [
    "cm=confusion_matrix(true_P3, pred_P3, labels=[\"A\", \"B\", \"C\",\"D\",\"F\"])\n",
    "labels_name=[\"A\", \"B\", \"C\", \"D\", \"F\"]\n",
    "print(cm)\n",
    "plot_confusion_matrix(cm, labels_name, \"Confusion Matrix\")\n",
    "plt.show()"
   ]
  },
  {
   "cell_type": "code",
   "execution_count": 1426,
   "id": "b9840565",
   "metadata": {
    "ExecuteTime": {
     "end_time": "2022-04-27T22:08:40.848794Z",
     "start_time": "2022-04-27T22:08:40.835345Z"
    }
   },
   "outputs": [],
   "source": [
    "true_P4=[]\n",
    "for i in range(0,len(totalTestList_wo4)):\n",
    "    row=totalTestList_wo4[i:i+1]\n",
    "    if row.at[i,'G3']>=16:\n",
    "        true_P4.append('A')\n",
    "    elif row.at[i, 'G3']>=14 and row.at[i,'G3']<16:\n",
    "        true_P4.append('B')\n",
    "    elif row.at[i,'G3']>=12 and row.at[i,'G3']<14:\n",
    "        true_P4.append('C')\n",
    "    elif row.at[i,'G3']>=10 and row.at[i,'G3']<12:\n",
    "        true_P4.append('D')\n",
    "    elif row.at[i,'G3']<10:\n",
    "        true_P4.append('F')\n"
   ]
  },
  {
   "cell_type": "code",
   "execution_count": 1427,
   "id": "e58d6f83",
   "metadata": {
    "ExecuteTime": {
     "end_time": "2022-04-27T22:08:50.200294Z",
     "start_time": "2022-04-27T22:08:50.166624Z"
    }
   },
   "outputs": [],
   "source": [
    "processed_list_A=pd.get_dummies(totalTrainList_wo4_wog3)[totalTrainList_wo4['G3']>=16]\n",
    "processed_list_B=pd.get_dummies(totalTrainList_wo4_wog3)[(totalTrainList_wo4['G3']>=14) & (totalTrainList_wo4['G3']<16)]\n",
    "processed_list_C=pd.get_dummies(totalTrainList_wo4_wog3)[(totalTrainList_wo4['G3']>=12) & (totalTrainList_wo4['G3']<14)]\n",
    "processed_list_D=pd.get_dummies(totalTrainList_wo4_wog3)[(totalTrainList_wo4['G3']>=10) & (totalTrainList_wo4['G3']<12)]\n",
    "processed_list_F=pd.get_dummies(totalTrainList_wo4_wog3)[totalTrainList_wo4['G3']<10]\n",
    "\n",
    "list_A_mean4=processed_list_A.mean()\n",
    "list_B_mean4=processed_list_B.mean()\n",
    "list_C_mean4=processed_list_C.mean()\n",
    "list_D_mean4=processed_list_D.mean()\n",
    "list_F_mean4=processed_list_F.mean()\n",
    "\n",
    "processed_test=pd.get_dummies(totalTestList_wo4_wog3)"
   ]
  },
  {
   "cell_type": "code",
   "execution_count": 1428,
   "id": "0572975d",
   "metadata": {
    "ExecuteTime": {
     "end_time": "2022-04-27T22:08:59.925778Z",
     "start_time": "2022-04-27T22:08:59.570917Z"
    }
   },
   "outputs": [],
   "source": [
    "pred_P4=[]\n",
    "for i in range(0,len(processed_test)):\n",
    "    row = processed_test[i:i+1]\n",
    "    distA = np.linalg.norm(row-list_A_mean4)\n",
    "    distB = np.linalg.norm(row-list_B_mean4)\n",
    "    distC = np.linalg.norm(row-list_C_mean4)\n",
    "    distD = np.linalg.norm(row-list_D_mean4)\n",
    "    distF = np.linalg.norm(row-list_F_mean4)mission 1\n",
    "    min_dist=min(distA,distB,distC,distD,distF)\n",
    "    if min_dist==distA:\n",
    "        pred_P4.append('A')\n",
    "    elif min_dist==distB:\n",
    "        pred_P4.append('B')\n",
    "    elif min_dist==distC:\n",
    "        pred_P4.append('C')\n",
    "    elif min_dist==distD:\n",
    "        pred_P4.append('D')\n",
    "    else:\n",
    "        pred_P4.append('F')\n"
   ]
  },
  {
   "cell_type": "markdown",
   "id": "c615384e",
   "metadata": {
    "ExecuteTime": {
     "end_time": "2022-04-28T00:04:27.824479Z",
     "start_time": "2022-04-28T00:04:27.812616Z"
    }
   },
   "source": [
    "mission 3"
   ]
  },
  {
   "cell_type": "code",
   "execution_count": 1429,
   "id": "5b8f5d2c",
   "metadata": {
    "ExecuteTime": {
     "end_time": "2022-04-27T22:09:09.186725Z",
     "start_time": "2022-04-27T22:09:09.183823Z"
    }
   },
   "outputs": [
    {
     "data": {
      "text/plain": [
       "0.6012269938650306"
      ]
     },
     "execution_count": 1429,
     "metadata": {},
     "output_type": "execute_result"
    }
   ],
   "source": [
    "num_acc4=0\n",
    "for i in range(0,len(totalTestList)):\n",
    "    if true_P4[i]==pred_P4[i]:\n",
    "        num_acc4+=1\n",
    "total_acc_rate4=num_acc4/len(totalTestList)\n",
    "total_acc_rate4"
   ]
  },
  {
   "cell_type": "code",
   "execution_count": 1430,
   "id": "9213d0e8",
   "metadata": {
    "ExecuteTime": {
     "end_time": "2022-04-27T22:09:18.611075Z",
     "start_time": "2022-04-27T22:09:18.607476Z"
    }
   },
   "outputs": [
    {
     "data": {
      "text/plain": [
       "0.6150584274113686"
      ]
     },
     "execution_count": 1430,
     "metadata": {},
     "output_type": "execute_result"
    }
   ],
   "source": [
    "# f1_score(y_true, y_pred, average='macro')\n",
    "f1_score(true_P4, pred_P4, average='macro')"
   ]
  },
  {
   "cell_type": "code",
   "execution_count": 1431,
   "id": "f2183f9c",
   "metadata": {
    "ExecuteTime": {
     "end_time": "2022-04-27T22:09:28.140383Z",
     "start_time": "2022-04-27T22:09:28.051104Z"
    }
   },
   "outputs": [
    {
     "name": "stdout",
     "output_type": "stream",
     "text": [
      "[[16  5  0  0  0]\n",
      " [ 8 13  5  2  0]\n",
      " [ 0  5 26  8  0]\n",
      " [ 0  0 18 23  9]\n",
      " [ 0  0  0  5 20]]\n"
     ]
    },
    {
     "data": {
      "image/png": "[encoded data removed]",
      "text/plain": [
       "<Figure size 432x288 with 2 Axes>"
      ]
     },
     "metadata": {
      "needs_background": "light"
     },
     "output_type": "display_data"
    }
   ],
   "source": [
    "cm=confusion_matrix(true_P4, pred_P4, labels=[\"A\", \"B\", \"C\",\"D\",\"F\"])\n",
    "labels_name=[\"A\", \"B\", \"C\", \"D\", \"F\"]\n",
    "print(cm)\n",
    "plot_confusion_matrix(cm, labels_name, \"Confusion Matrix\")\n",
    "plt.show()"
   ]
  },
  {
   "cell_type": "markdown",
   "id": "f8234b4a",
   "metadata": {},
   "source": [
    "preprocessing"
   ]
  },
  {
   "cell_type": "code",
   "execution_count": 1432,
   "id": "f6cec9f1",
   "metadata": {
    "ExecuteTime": {
     "end_time": "2022-04-27T22:10:34.842412Z",
     "start_time": "2022-04-27T22:10:34.827888Z"
    }
   },
   "outputs": [],
   "source": [
    "def normalize(df):\n",
    "    result = df.copy()\n",
    "    for feature_name in df.columns:\n",
    "        max_value = df[feature_name].max()\n",
    "        min_value = df[feature_name].min()\n",
    "        if feature_name == 'G1' or feature_name == 'G2' or feature_name == 'G3':\n",
    "            result[feature_name] = df[feature_name] \n",
    "#         else:\n",
    "        elif max_value > 0 and max_value != min_value:\n",
    "#             max_value = df[feature_name].max()\n",
    "#             min_value = df[feature_name].min()\n",
    "            result[feature_name] = (df[feature_name] - min_value) / (max_value - min_value)\n",
    "        elif max_value == min_value:\n",
    "            result[feature_name] = max_value\n",
    "    return result"
   ]
  },
  {
   "cell_type": "code",
   "execution_count": 1433,
   "id": "29d25296",
   "metadata": {
    "ExecuteTime": {
     "end_time": "2022-04-27T22:10:44.063089Z",
     "start_time": "2022-04-27T22:10:44.008064Z"
    }
   },
   "outputs": [],
   "source": [
    "totalTrainList_wog123=totalTrainList.drop(['G1','G2','G3'],axis=1)\n",
    "totalTrainList_wog123_processed=pd.get_dummies(totalTrainList_wog123)\n",
    "x = totalTrainList_wog123_processed.values #returns a numpy array\n",
    "min_max_scaler = preprocessing.MinMaxScaler()\n",
    "x_scaled = min_max_scaler.fit_transform(x)\n",
    "totalTrainList_wog123_processed = pd.DataFrame(x_scaled,columns=totalTrainList_wog123_processed.columns)\n",
    "\n",
    "totalTrainList_wclass=totalTrainList.copy()\n",
    "\n",
    "totalTestList_wog123=totalTestList.drop(['G1','G2','G3'],axis=1)\n",
    "totalTestList_wog123_processed=pd.get_dummies(totalTestList_wog123)\n",
    "x = totalTestList_wog123_processed.values #returns a numpy array\n",
    "min_max_scaler = preprocessing.MinMaxScaler()\n",
    "x_scaled = min_max_scaler.fit_transform(x)\n",
    "totalTestList_wog123_processed = pd.DataFrame(x_scaled,columns=totalTestList_wog123_processed.columns)\n",
    "\n",
    "\n",
    "totalTestList_wog3=totalTestList.drop(['G3'],axis=1)\n",
    "totalTestList_wog3_processed=pd.get_dummies(totalTestList_wog3)\n",
    "totalTestList_wog3_processed=normalize(totalTestList_wog3_processed)\n",
    "\n",
    "\n",
    "totalTrainList_processed=pd.get_dummies(totalTrainList)\n",
    "totalTrainList_processed=normalize(totalTrainList_processed)"
   ]
  },
  {
   "cell_type": "markdown",
   "id": "e5ceac79",
   "metadata": {},
   "source": [
    "## SVM"
   ]
  },
  {
   "cell_type": "code",
   "execution_count": 1674,
   "id": "fd45b39f",
   "metadata": {
    "ExecuteTime": {
     "end_time": "2022-04-28T00:07:14.998220Z",
     "start_time": "2022-04-28T00:07:14.980648Z"
    }
   },
   "outputs": [],
   "source": [
    "def create_shuffle(target_g):\n",
    "    shuffle_train,shuffle_validate=shuffle_data(totalTrainList_processed)\n",
    "    shuffle_train.reset_index(drop=True)\n",
    "    train_class=[]\n",
    "    for i in range(0,len(shuffle_train)):\n",
    "\n",
    "        if shuffle_train.iloc[i][target_g]>=16:\n",
    "            train_class.append('A')\n",
    "        elif shuffle_train.iloc[i][target_g]>=14 and shuffle_train.iloc[i][target_g]<16:\n",
    "            train_class.append('B')\n",
    "        elif shuffle_train.iloc[i][target_g]>=12 and shuffle_train.iloc[i][target_g]<14:\n",
    "            train_class.append('C')\n",
    "        elif shuffle_train.iloc[i][target_g]>=10 and shuffle_train.iloc[i][target_g]<12:\n",
    "            train_class.append('D')\n",
    "        elif shuffle_train.iloc[i][target_g]<10:\n",
    "            train_class.append('F')\n",
    "    shuffle_train=shuffle_train.drop(['G1','G2','G3'],axis=1)\n",
    "    shuffle_train_wclass=shuffle_train.copy()\n",
    "    shuffle_train_wclass['class_g']=train_class\n",
    "\n",
    "    shuffle_validate.reset_index(drop=True)\n",
    "    validate_class=[]\n",
    "    for i in range(0,len(shuffle_validate)):\n",
    "\n",
    "        if shuffle_validate.iloc[i][target_g]>=16:\n",
    "            validate_class.append('A')\n",
    "        elif shuffle_validate.iloc[i][target_g]>=14 and shuffle_validate.iloc[i][target_g]<16:\n",
    "            validate_class.append('B')\n",
    "        elif shuffle_validate.iloc[i][target_g]>=12 and shuffle_validate.iloc[i][target_g]<14:\n",
    "            validate_class.append('C')\n",
    "        elif shuffle_validate.iloc[i][target_g]>=10 and shuffle_validate.iloc[i][target_g]<12:\n",
    "            validate_class.append('D')\n",
    "        elif shuffle_validate.iloc[i][target_g]<10:\n",
    "            validate_class.append('F')\n",
    "    shuffle_validate=shuffle_validate.drop(['G1','G2','G3'],axis=1)\n",
    "    shuffle_validate_wclass=shuffle_validate.copy()\n",
    "    shuffle_validate_wclass['class_g']=validate_class\n",
    "    return shuffle_train,shuffle_train_wclass,shuffle_validate,validate_class"
   ]
  },
  {
   "cell_type": "code",
   "execution_count": 1675,
   "id": "a9873573",
   "metadata": {
    "ExecuteTime": {
     "end_time": "2022-04-28T00:07:24.338685Z",
     "start_time": "2022-04-28T00:07:24.336259Z"
    },
    "code_folding": []
   },
   "outputs": [],
   "source": [
    "# sklearn.svm.SVC(C=1.0, kernel=’rbf’, degree=3, gamma=’auto’, \n",
    "# coef0=0.0, shrinking=True, probability=False, tol=0.001, cache_size=200, class_weight=None, \n",
    "# verbose=False, max_iter=-1, decision_function_shape=None, random_state=None)\n",
    "\n",
    "def SVM(train,train_wclass,test,class_g):\n",
    "    svm_X=train\n",
    "    svm_Y=train_wclass[class_g]\n",
    "    clf = svm.SVC()\n",
    "    clf.fit(svm_X, svm_Y)\n",
    "    result = clf.predict(test)\n",
    "    return result"
   ]
  },
  {
   "cell_type": "code",
   "execution_count": 1676,
   "id": "6b848976",
   "metadata": {
    "ExecuteTime": {
     "end_time": "2022-04-28T00:07:33.709766Z",
     "start_time": "2022-04-28T00:07:33.676375Z"
    }
   },
   "outputs": [],
   "source": [
    "classes_g1=[]\n",
    "for i in range(0,len(totalTrainList_wo4)):\n",
    "    row=totalTrainList_wo4[i:i+1]\n",
    "    if row.at[i,'G1']>=16:\n",
    "        classes_g1.append('A')\n",
    "    elif row.at[i,'G1']>=14 and row.at[i,'G1']<16:\n",
    "        classes_g1.append('B')\n",
    "    elif row.at[i,'G1']>=12 and row.at[i,'G1']<14:\n",
    "        classes_g1.append('C')\n",
    "    elif row.at[i,'G1']>=10 and row.at[i,'G1']<12:\n",
    "        classes_g1.append('D')\n",
    "    elif row.at[i,'G1']<10:\n",
    "        classes_g1.append('F')"
   ]
  },
  {
   "cell_type": "code",
   "execution_count": 1677,
   "id": "66935aaf",
   "metadata": {
    "ExecuteTime": {
     "end_time": "2022-04-28T00:07:43.033988Z",
     "start_time": "2022-04-28T00:07:43.000629Z"
    }
   },
   "outputs": [],
   "source": [
    "classes_g3=[]\n",
    "for i in range(0,len(totalTrainList_wo4)):\n",
    "    row=totalTrainList_wo4[i:i+1]\n",
    "    if row.at[i,'G3']>=16:\n",
    "        classes_g3.append('A')\n",
    "    elif row.at[i,'G3']>=14 and row.at[i,'G3']<16:\n",
    "        classes_g3.append('B')\n",
    "    elif row.at[i,'G3']>=12 and row.at[i,'G3']<14:\n",
    "        classes_g3.append('C')\n",
    "    elif row.at[i,'G3']>=10 and row.at[i,'G3']<12:\n",
    "        classes_g3.append('D')\n",
    "    elif row.at[i,'G3']<10:\n",
    "        classes_g3.append('F')"
   ]
  },
  {
   "cell_type": "code",
   "execution_count": 1678,
   "id": "97a6fbca",
   "metadata": {
    "ExecuteTime": {
     "end_time": "2022-04-28T00:08:04.000028Z",
     "start_time": "2022-04-28T00:07:52.320700Z"
    }
   },
   "outputs": [],
   "source": [
    "max_acc_rate=0\n",
    "\n",
    "for i in range(10):\n",
    "    shuffle_train,shuffle_train_wclass,shuffle_validate,validate_class=create_shuffle('G1')\n",
    "    result=SVM(shuffle_train,shuffle_train_wclass,shuffle_validate,'class_g')\n",
    "    num_acc=0\n",
    "    for i in range(0,len(validate_class)):\n",
    "        if validate_class[i]==result[i]:\n",
    "            num_acc+=1\n",
    "    total_acc_rate=num_acc/len(validate_class)\n",
    "    if total_acc_rate>max_acc_rate:\n",
    "        max_acc_rate=total_acc_rate\n",
    "        final_train=shuffle_train\n",
    "        final_train_wclass=shuffle_train_wclass"
   ]
  },
  {
   "cell_type": "code",
   "execution_count": 1682,
   "id": "58246d27",
   "metadata": {
    "ExecuteTime": {
     "end_time": "2022-04-28T00:12:59.776308Z",
     "start_time": "2022-04-28T00:12:59.731485Z"
    }
   },
   "outputs": [],
   "source": [
    "svm_X=final_train\n",
    "svm_Y=final_train_wclass['class_g']\n",
    "clf = svm.SVC()\n",
    "clf.fit(svm_X, svm_Y)\n",
    "result = clf.predict(totalTestList_wog123_processed)"
   ]
  },
  {
   "cell_type": "markdown",
   "id": "0dba54e3",
   "metadata": {
    "ExecuteTime": {
     "end_time": "2022-04-28T00:04:27.824479Z",
     "start_time": "2022-04-28T00:04:27.812616Z"
    }
   },
   "source": [
    "mission 1"
   ]
  },
  {
   "cell_type": "code",
   "execution_count": 1683,
   "id": "8855949b",
   "metadata": {
    "ExecuteTime": {
     "end_time": "2022-04-28T00:13:09.639686Z",
     "start_time": "2022-04-28T00:13:09.636771Z"
    }
   },
   "outputs": [
    {
     "data": {
      "text/plain": [
       "0.34355828220858897"
      ]
     },
     "execution_count": 1683,
     "metadata": {},
     "output_type": "execute_result"
    }
   ],
   "source": [
    "num_acc=0\n",
    "for i in range(0,len(totalTestList)):\n",
    "    if true_P[i]==result[i]:\n",
    "        num_acc+=1\n",
    "total_acc_rate=num_acc/len(totalTestList)\n",
    "total_acc_rate"
   ]
  },
  {
   "cell_type": "code",
   "execution_count": 1684,
   "id": "89c8c462",
   "metadata": {
    "ExecuteTime": {
     "end_time": "2022-04-28T00:13:19.171396Z",
     "start_time": "2022-04-28T00:13:19.167269Z"
    }
   },
   "outputs": [
    {
     "data": {
      "text/plain": [
       "0.2606928815507453"
      ]
     },
     "execution_count": 1684,
     "metadata": {},
     "output_type": "execute_result"
    }
   ],
   "source": [
    "# f1_score(y_true, y_pred, average='macro')\n",
    "f1_score(true_P, result, average='macro')"
   ]
  },
  {
   "cell_type": "code",
   "execution_count": 1685,
   "id": "b0161e02",
   "metadata": {
    "ExecuteTime": {
     "end_time": "2022-04-28T00:13:28.755219Z",
     "start_time": "2022-04-28T00:13:28.676240Z"
    }
   },
   "outputs": [
    {
     "name": "stdout",
     "output_type": "stream",
     "text": [
      "[[ 0  2  5  3  2]\n",
      " [ 0  3 10 12  2]\n",
      " [ 0  3 11 19  6]\n",
      " [ 0  4  8 24 12]\n",
      " [ 0  0  9 10 18]]\n"
     ]
    },
    {
     "data": {
      "image/png": "[encoded data removed]",
      "text/plain": [
       "<Figure size 432x288 with 2 Axes>"
      ]
     },
     "metadata": {
      "needs_background": "light"
     },
     "output_type": "display_data"
    }
   ],
   "source": [
    "cm=confusion_matrix(true_P, result, labels=[\"A\", \"B\", \"C\",\"D\",\"F\"])\n",
    "labels_name=[\"A\", \"B\", \"C\", \"D\", \"F\"]\n",
    "print(cm)\n",
    "plot_confusion_matrix(cm, labels_name, \"Confusion Matrix\")\n",
    "plt.show()"
   ]
  },
  {
   "cell_type": "code",
   "execution_count": 1686,
   "id": "f6f05a7c",
   "metadata": {
    "ExecuteTime": {
     "end_time": "2022-04-28T00:13:50.101866Z",
     "start_time": "2022-04-28T00:13:38.397320Z"
    }
   },
   "outputs": [],
   "source": [
    "max_acc_rate=0\n",
    "\n",
    "for i in range(10):\n",
    "    shuffle_train,shuffle_train_wclass,shuffle_validate,validate_class=create_shuffle('G3')\n",
    "    result=SVM(shuffle_train,shuffle_train_wclass,shuffle_validate,'class_g')\n",
    "    num_acc=0\n",
    "    for i in range(0,len(validate_class)):\n",
    "        if validate_class[i]==result[i]:\n",
    "            num_acc+=1\n",
    "    total_acc_rate=num_acc/len(validate_class)\n",
    "    if total_acc_rate>max_acc_rate:\n",
    "        max_acc_rate=total_acc_rate\n",
    "        final_train=shuffle_train\n",
    "        final_train_wclass=shuffle_train_wclass"
   ]
  },
  {
   "cell_type": "code",
   "execution_count": 1444,
   "id": "144aa564",
   "metadata": {
    "ExecuteTime": {
     "end_time": "2022-04-27T22:12:53.009553Z",
     "start_time": "2022-04-27T22:12:52.977831Z"
    }
   },
   "outputs": [],
   "source": [
    "svm_X=final_train\n",
    "svm_Y=final_train_wclass['class_g']\n",
    "clf = svm.SVC()\n",
    "clf.fit(svm_X, svm_Y)\n",
    "result = clf.predict(totalTestList_wog123_processed)"
   ]
  },
  {
   "cell_type": "markdown",
   "id": "1c5502b0",
   "metadata": {},
   "source": [
    "mission 2"
   ]
  },
  {
   "cell_type": "code",
   "execution_count": 1445,
   "id": "beb912d8",
   "metadata": {
    "ExecuteTime": {
     "end_time": "2022-04-27T22:13:02.714076Z",
     "start_time": "2022-04-27T22:13:02.710826Z"
    }
   },
   "outputs": [
    {
     "data": {
      "text/plain": [
       "0.34355828220858897"
      ]
     },
     "execution_count": 1445,
     "metadata": {},
     "output_type": "execute_result"
    }
   ],
   "source": [
    "num_acc=0\n",
    "for i in range(0,len(totalTestList)):\n",
    "    if true_P3[i]==result[i]:\n",
    "        num_acc+=1\n",
    "total_acc_rate=num_acc/len(totalTestList)\n",
    "total_acc_rate"
   ]
  },
  {
   "cell_type": "code",
   "execution_count": 1446,
   "id": "948112f7",
   "metadata": {
    "ExecuteTime": {
     "end_time": "2022-04-27T22:13:12.338956Z",
     "start_time": "2022-04-27T22:13:12.334868Z"
    }
   },
   "outputs": [
    {
     "data": {
      "text/plain": [
       "0.20857245337159253"
      ]
     },
     "execution_count": 1446,
     "metadata": {},
     "output_type": "execute_result"
    }
   ],
   "source": [
    "# f1_score(y_true, y_pred, average='macro')\n",
    "f1_score(true_P, result, average='macro')"
   ]
  },
  {
   "cell_type": "code",
   "execution_count": 1447,
   "id": "60692423",
   "metadata": {
    "ExecuteTime": {
     "end_time": "2022-04-27T22:13:22.113418Z",
     "start_time": "2022-04-27T22:13:22.028575Z"
    }
   },
   "outputs": [
    {
     "name": "stdout",
     "output_type": "stream",
     "text": [
      "[[ 0  7  9  5  0]\n",
      " [ 0  6 14  8  0]\n",
      " [ 0  2 21 16  0]\n",
      " [ 0  5 16 27  2]\n",
      " [ 0  1  3 19  2]]\n"
     ]
    },
    {
     "data": {
      "image/png": "[encoded data removed]",
      "text/plain": [
       "<Figure size 432x288 with 2 Axes>"
      ]
     },
     "metadata": {
      "needs_background": "light"
     },
     "output_type": "display_data"
    }
   ],
   "source": [
    "cm=confusion_matrix(true_P3, result, labels=[\"A\", \"B\", \"C\",\"D\",\"F\"])\n",
    "labels_name=[\"A\", \"B\", \"C\", \"D\", \"F\"]\n",
    "print(cm)\n",
    "plot_confusion_matrix(cm, labels_name, \"Confusion Matrix\")\n",
    "plt.show()"
   ]
  },
  {
   "cell_type": "code",
   "execution_count": 883,
   "id": "7c6d5fb6",
   "metadata": {
    "ExecuteTime": {
     "end_time": "2022-04-25T20:59:37.190399Z",
     "start_time": "2022-04-25T20:59:37.173666Z"
    }
   },
   "outputs": [],
   "source": [
    "def create_shuffle2(target_g):\n",
    "    shuffle_train,shuffle_validate=shuffle_data(totalTrainList_processed)\n",
    "    shuffle_train.reset_index(drop=True)\n",
    "    train_class=[]\n",
    "    for i in range(0,len(shuffle_train)):\n",
    "\n",
    "        if shuffle_train.iloc[i][target_g]>=16:\n",
    "            train_class.append('A')\n",
    "        elif shuffle_train.iloc[i][target_g]>=14 and shuffle_train.iloc[i][target_g]<16:\n",
    "            train_class.append('B')\n",
    "        elif shuffle_train.iloc[i][target_g]>=12 and shuffle_train.iloc[i][target_g]<14:\n",
    "            train_class.append('C')\n",
    "        elif shuffle_train.iloc[i][target_g]>=10 and shuffle_train.iloc[i][target_g]<12:\n",
    "            train_class.append('D')\n",
    "        elif shuffle_train.iloc[i][target_g]<10:\n",
    "            train_class.append('F')\n",
    "    shuffle_train=shuffle_train.drop(['G3'],axis=1)\n",
    "    shuffle_train_wclass=shuffle_train.copy()\n",
    "    shuffle_train_wclass['class_g']=train_class\n",
    "    shuffle_train=normalize(shuffle_train)\n",
    "\n",
    "    \n",
    "    shuffle_validate.reset_index(drop=True)\n",
    "    validate_class=[]\n",
    "    for i in range(0,len(shuffle_validate)):\n",
    "\n",
    "        if shuffle_validate.iloc[i][target_g]>=16:\n",
    "            validate_class.append('A')\n",
    "        elif shuffle_validate.iloc[i][target_g]>=14 and shuffle_validate.iloc[i][target_g]<16:\n",
    "            validate_class.append('B')\n",
    "        elif shuffle_validate.iloc[i][target_g]>=12 and shuffle_validate.iloc[i][target_g]<14:\n",
    "            validate_class.append('C')\n",
    "        elif shuffle_validate.iloc[i][target_g]>=10 and shuffle_validate.iloc[i][target_g]<12:\n",
    "            validate_class.append('D')\n",
    "        elif shuffle_validate.iloc[i][target_g]<10:\n",
    "            validate_class.append('F')\n",
    "    shuffle_validate=shuffle_validate.drop(['G3'],axis=1)\n",
    "    shuffle_validate_wclass=shuffle_validate.copy()\n",
    "    shuffle_validate_wclass['class_g']=validate_class\n",
    "    shuffle_validate=normalize(shuffle_validate)\n",
    "    return shuffle_train,shuffle_train_wclass,shuffle_validate,validate_class"
   ]
  },
  {
   "cell_type": "code",
   "execution_count": 884,
   "id": "48bcd8d1",
   "metadata": {
    "ExecuteTime": {
     "end_time": "2022-04-25T20:59:49.363329Z",
     "start_time": "2022-04-25T20:59:40.358670Z"
    }
   },
   "outputs": [],
   "source": [
    "max_acc_rate=0\n",
    "\n",
    "for i in range(10):\n",
    "    shuffle_train,shuffle_train_wclass,shuffle_validate,validate_class=create_shuffle2('G3')\n",
    "    \n",
    "    result=SVM(shuffle_train,shuffle_train_wclass,shuffle_validate,'class_g')\n",
    "    num_acc=0\n",
    "    for i in range(0,len(validate_class)):\n",
    "        if validate_class[i]==result[i]:\n",
    "            num_acc+=1\n",
    "    total_acc_rate=num_acc/len(validate_class)\n",
    "    if total_acc_rate>max_acc_rate:\n",
    "        max_acc_rate=total_acc_rate\n",
    "        final_train=shuffle_train\n",
    "        final_train_wclass=shuffle_train_wclass"
   ]
  },
  {
   "cell_type": "code",
   "execution_count": 885,
   "id": "2a5ea0fe",
   "metadata": {
    "ExecuteTime": {
     "end_time": "2022-04-25T20:59:52.335460Z",
     "start_time": "2022-04-25T20:59:52.313262Z"
    }
   },
   "outputs": [],
   "source": [
    "svm_X=final_train\n",
    "svm_Y=final_train_wclass['class_g']\n",
    "clf = svm.SVC()\n",
    "clf.fit(svm_X, svm_Y)\n",
    "result = clf.predict(totalTestList_wog3_processed)"
   ]
  },
  {
   "cell_type": "markdown",
   "id": "e7fd331f",
   "metadata": {},
   "source": [
    "mission 3"
   ]
  },
  {
   "cell_type": "code",
   "execution_count": 886,
   "id": "de087f3c",
   "metadata": {
    "ExecuteTime": {
     "end_time": "2022-04-25T20:59:55.220783Z",
     "start_time": "2022-04-25T20:59:55.217835Z"
    }
   },
   "outputs": [
    {
     "data": {
      "text/plain": [
       "0.7177914110429447"
      ]
     },
     "execution_count": 886,
     "metadata": {},
     "output_type": "execute_result"
    }
   ],
   "source": [
    "num_acc=0\n",
    "for i in range(0,len(totalTestList)):\n",
    "    if true_P4[i]==result[i]:\n",
    "        num_acc+=1\n",
    "total_acc_rate=num_acc/len(totalTestList)\n",
    "total_acc_rate"
   ]
  },
  {
   "cell_type": "code",
   "execution_count": 887,
   "id": "af3cf84d",
   "metadata": {
    "ExecuteTime": {
     "end_time": "2022-04-25T20:59:58.130859Z",
     "start_time": "2022-04-25T20:59:58.127241Z"
    }
   },
   "outputs": [
    {
     "data": {
      "text/plain": [
       "0.7157410260800091"
      ]
     },
     "execution_count": 887,
     "metadata": {},
     "output_type": "execute_result"
    }
   ],
   "source": [
    "# f1_score(y_true, y_pred, average='macro')\n",
    "f1_score(true_P4, result, average='macro')"
   ]
  },
  {
   "cell_type": "code",
   "execution_count": 888,
   "id": "38db4fe0",
   "metadata": {
    "ExecuteTime": {
     "end_time": "2022-04-25T21:00:01.050087Z",
     "start_time": "2022-04-25T21:00:01.046837Z"
    }
   },
   "outputs": [
    {
     "data": {
      "text/plain": [
       "array([[16,  5,  0,  0,  0],\n",
       "       [ 3, 17,  6,  2,  0],\n",
       "       [ 0,  4, 21, 14,  0],\n",
       "       [ 0,  0,  0, 45,  5],\n",
       "       [ 0,  0,  0,  7, 18]])"
      ]
     },
     "execution_count": 888,
     "metadata": {},
     "output_type": "execute_result"
    }
   ],
   "source": [
    "# confusion_matrix(y_true, y_pred)\n",
    "cm=confusion_matrix(true_P4, result, labels=[\"A\", \"B\", \"C\",\"D\",\"F\"])\n",
    "labels_name=[\"A\", \"B\", \"C\", \"D\", \"F\"]\n",
    "cm"
   ]
  },
  {
   "cell_type": "code",
   "execution_count": 889,
   "id": "6db98b9e",
   "metadata": {
    "ExecuteTime": {
     "end_time": "2022-04-25T21:00:04.047764Z",
     "start_time": "2022-04-25T21:00:03.964240Z"
    }
   },
   "outputs": [
    {
     "data": {
      "image/png": "[encoded data removed]",
      "text/plain": [
       "<Figure size 432x288 with 2 Axes>"
      ]
     },
     "metadata": {
      "needs_background": "light"
     },
     "output_type": "display_data"
    }
   ],
   "source": [
    "def plot_confusion_matrix(cm, labels_name, title):\n",
    "    cm = cm.astype('float') / cm.sum(axis=1)[:, np.newaxis]   \n",
    "    plt.imshow(cm, interpolation='nearest')   \n",
    "    plt.title(title)    \n",
    "    plt.colorbar()\n",
    "    num_local = np.array(range(len(labels_name)))    \n",
    "    plt.xticks(num_local, labels_name, rotation=90)    \n",
    "    plt.yticks(num_local, labels_name)    \n",
    "    plt.ylabel('True label')    \n",
    "    plt.xlabel('Predicted label')\n",
    "\n",
    "plot_confusion_matrix(cm, labels_name, \"Confusion Matrix\")\n",
    "\n",
    "plt.show()"
   ]
  },
  {
   "cell_type": "markdown",
   "id": "dba353e3",
   "metadata": {},
   "source": [
    "## kNN"
   ]
  },
  {
   "cell_type": "code",
   "execution_count": 1454,
   "id": "ff7deb68",
   "metadata": {
    "ExecuteTime": {
     "end_time": "2022-04-27T22:15:11.415839Z",
     "start_time": "2022-04-27T22:15:11.405296Z"
    }
   },
   "outputs": [],
   "source": [
    "def kNN_Model_1(target_g,neighbors):\n",
    "    max_acc_rate=0\n",
    "    for i in range(10):\n",
    "        shuffle_train,shuffle_train_wclass,shuffle_validate,validate_class=create_shuffle(target_g)\n",
    "        \n",
    "        knn_model = KNeighborsClassifier(n_neighbors=neighbors)\n",
    "        knn_model.fit(shuffle_train, shuffle_train_wclass['class_g'])\n",
    "        test_preds = knn_model.predict(shuffle_validate)\n",
    "        num_acc=0\n",
    "        for i in range(0,len(validate_class)):\n",
    "            if validate_class[i]==test_preds[i]:\n",
    "                num_acc+=1\n",
    "        total_acc_rate=num_acc/len(validate_class)\n",
    "        if total_acc_rate>max_acc_rate:\n",
    "            max_acc_rate=total_acc_rate\n",
    "            final_train=shuffle_train\n",
    "            final_train_wclass=shuffle_train_wclass\n",
    "    return final_train,final_train_wclass"
   ]
  },
  {
   "cell_type": "code",
   "execution_count": 1455,
   "id": "33f52e53",
   "metadata": {
    "ExecuteTime": {
     "end_time": "2022-04-27T22:15:32.602224Z",
     "start_time": "2022-04-27T22:15:21.045227Z"
    }
   },
   "outputs": [],
   "source": [
    "final_train,final_train_wclass=kNN_Model_1('G1',5)\n",
    "knn_model = KNeighborsClassifier(n_neighbors=5)\n",
    "knn_model.fit(shuffle_train, shuffle_train_wclass['class_g'])\n",
    "test_preds = knn_model.predict(totalTestList_wog123_processed)"
   ]
  },
  {
   "cell_type": "markdown",
   "id": "e29ff223",
   "metadata": {
    "ExecuteTime": {
     "end_time": "2022-04-28T00:14:57.455743Z",
     "start_time": "2022-04-28T00:14:57.446357Z"
    }
   },
   "source": [
    "mission 1"
   ]
  },
  {
   "cell_type": "code",
   "execution_count": 1456,
   "id": "b2e98fa8",
   "metadata": {
    "ExecuteTime": {
     "end_time": "2022-04-27T22:15:42.312208Z",
     "start_time": "2022-04-27T22:15:42.309232Z"
    }
   },
   "outputs": [
    {
     "data": {
      "text/plain": [
       "0.25153374233128833"
      ]
     },
     "execution_count": 1456,
     "metadata": {},
     "output_type": "execute_result"
    }
   ],
   "source": [
    "num_acc=0\n",
    "for i in range(0,len(totalTestList)):\n",
    "    if true_P[i]==test_preds[i]:\n",
    "        num_acc+=1\n",
    "total_acc_rate=num_acc/len(totalTestList)\n",
    "total_acc_rate"
   ]
  },
  {
   "cell_type": "code",
   "execution_count": 1457,
   "id": "932aed0c",
   "metadata": {
    "ExecuteTime": {
     "end_time": "2022-04-27T22:15:52.068206Z",
     "start_time": "2022-04-27T22:15:52.064572Z"
    }
   },
   "outputs": [
    {
     "data": {
      "text/plain": [
       "0.23498248471965621"
      ]
     },
     "execution_count": 1457,
     "metadata": {},
     "output_type": "execute_result"
    }
   ],
   "source": [
    "# f1_score(y_true, y_pred, average='macro')\n",
    "f1_score(true_P, test_preds, average='macro')"
   ]
  },
  {
   "cell_type": "code",
   "execution_count": 1458,
   "id": "b1e2ee1f",
   "metadata": {
    "ExecuteTime": {
     "end_time": "2022-04-27T22:16:02.239855Z",
     "start_time": "2022-04-27T22:16:02.163763Z"
    }
   },
   "outputs": [
    {
     "name": "stdout",
     "output_type": "stream",
     "text": [
      "[[ 4  3  2  2  1]\n",
      " [ 4  6  8  7  2]\n",
      " [ 6  8 12 12  1]\n",
      " [ 9  7 15 15  2]\n",
      " [ 5  5  5 18  4]]\n"
     ]
    },
    {
     "data": {
      "image/png": "[encoded data removed]",
      "text/plain": [
       "<Figure size 432x288 with 2 Axes>"
      ]
     },
     "metadata": {
      "needs_background": "light"
     },
     "output_type": "display_data"
    }
   ],
   "source": [
    "cm=confusion_matrix(true_P, test_preds, labels=[\"A\", \"B\", \"C\",\"D\",\"F\"])\n",
    "labels_name=[\"A\", \"B\", \"C\", \"D\", \"F\"]\n",
    "print(cm)\n",
    "plot_confusion_matrix(cm, labels_name, \"Confusion Matrix\")\n",
    "plt.show()"
   ]
  },
  {
   "cell_type": "code",
   "execution_count": 1459,
   "id": "03a5b47c",
   "metadata": {
    "ExecuteTime": {
     "end_time": "2022-04-27T22:16:23.477090Z",
     "start_time": "2022-04-27T22:16:12.066955Z"
    }
   },
   "outputs": [],
   "source": [
    "final_train,final_train_wclass=kNN_Model_1('G3',5)\n",
    "knn_model = KNeighborsClassifier(n_neighbors=5)\n",
    "knn_model.fit(final_train, final_train_wclass['class_g'])\n",
    "test_preds = knn_model.predict(totalTestList_wog123_processed)"
   ]
  },
  {
   "cell_type": "markdown",
   "id": "2a3609c3",
   "metadata": {},
   "source": [
    "mission 2"
   ]
  },
  {
   "cell_type": "code",
   "execution_count": 1460,
   "id": "b3739da3",
   "metadata": {
    "ExecuteTime": {
     "end_time": "2022-04-27T22:16:33.183552Z",
     "start_time": "2022-04-27T22:16:33.180568Z"
    }
   },
   "outputs": [
    {
     "data": {
      "text/plain": [
       "0.3006134969325153"
      ]
     },
     "execution_count": 1460,
     "metadata": {},
     "output_type": "execute_result"
    }
   ],
   "source": [
    "num_acc=0\n",
    "for i in range(0,len(totalTestList)):\n",
    "    if true_P3[i]==test_preds[i]:\n",
    "        num_acc+=1\n",
    "total_acc_rate=num_acc/len(totalTestList)\n",
    "total_acc_rate"
   ]
  },
  {
   "cell_type": "code",
   "execution_count": 1461,
   "id": "f3173397",
   "metadata": {
    "ExecuteTime": {
     "end_time": "2022-04-27T22:16:42.871950Z",
     "start_time": "2022-04-27T22:16:42.867645Z"
    }
   },
   "outputs": [
    {
     "data": {
      "text/plain": [
       "0.28521549863964724"
      ]
     },
     "execution_count": 1461,
     "metadata": {},
     "output_type": "execute_result"
    }
   ],
   "source": [
    "# f1_score(y_true, y_pred, average='macro')\n",
    "f1_score(true_P3, test_preds, average='macro')"
   ]
  },
  {
   "cell_type": "code",
   "execution_count": 1463,
   "id": "a636a603",
   "metadata": {
    "ExecuteTime": {
     "end_time": "2022-04-27T22:17:02.313184Z",
     "start_time": "2022-04-27T22:17:02.222816Z"
    }
   },
   "outputs": [
    {
     "name": "stdout",
     "output_type": "stream",
     "text": [
      "[[ 6  6  5  4  0]\n",
      " [ 6  9  7  4  2]\n",
      " [ 4 12 12 11  0]\n",
      " [ 9  8 13 18  2]\n",
      " [ 4  5  4  8  4]]\n"
     ]
    },
    {
     "data": {
      "image/png": "[encoded data removed]",
      "text/plain": [
       "<Figure size 432x288 with 2 Axes>"
      ]
     },
     "metadata": {
      "needs_background": "light"
     },
     "output_type": "display_data"
    }
   ],
   "source": [
    "cm=confusion_matrix(true_P3, test_preds, labels=[\"A\", \"B\", \"C\",\"D\",\"F\"])\n",
    "labels_name=[\"A\", \"B\", \"C\", \"D\", \"F\"]\n",
    "print(cm)\n",
    "plot_confusion_matrix(cm, labels_name, \"Confusion Matrix\")\n",
    "plt.show()"
   ]
  },
  {
   "cell_type": "code",
   "execution_count": 1464,
   "id": "198efdfb",
   "metadata": {
    "ExecuteTime": {
     "end_time": "2022-04-27T22:17:11.896882Z",
     "start_time": "2022-04-27T22:17:11.893312Z"
    }
   },
   "outputs": [],
   "source": [
    "def kNN_Model_2(target_g,neighbors):\n",
    "    max_acc_rate=0\n",
    "    for i in range(10):\n",
    "        shuffle_train,shuffle_train_wclass,shuffle_validate,validate_class=create_shuffle2(target_g)\n",
    "        \n",
    "        knn_model = KNeighborsClassifier(n_neighbors=neighbors)\n",
    "        knn_model.fit(shuffle_train, shuffle_train_wclass['class_g'])\n",
    "        test_preds = knn_model.predict(shuffle_validate)\n",
    "        num_acc=0\n",
    "        for i in range(0,len(validate_class)):\n",
    "            if validate_class[i]==test_preds[i]:\n",
    "                num_acc+=1\n",
    "        total_acc_rate=num_acc/len(validate_class)\n",
    "        if total_acc_rate>max_acc_rate:\n",
    "            max_acc_rate=total_acc_rate\n",
    "            final_train=shuffle_train\n",
    "            final_train_wclass=shuffle_train_wclass\n",
    "    return final_train,final_train_wclass"
   ]
  },
  {
   "cell_type": "code",
   "execution_count": 1465,
   "id": "bb07ef87",
   "metadata": {
    "ExecuteTime": {
     "end_time": "2022-04-27T22:17:32.829865Z",
     "start_time": "2022-04-27T22:17:21.368817Z"
    },
    "scrolled": true
   },
   "outputs": [],
   "source": [
    "final_train,final_train_wclass=kNN_Model_2('G3',5)\n",
    "knn_model = KNeighborsClassifier(n_neighbors=5)\n",
    "knn_model.fit(final_train, final_train_wclass['class_g'])\n",
    "test_preds = knn_model.predict(totalTestList_wog3_processed)"
   ]
  },
  {
   "cell_type": "markdown",
   "id": "87383b67",
   "metadata": {},
   "source": [
    "mission 3"
   ]
  },
  {
   "cell_type": "code",
   "execution_count": 1466,
   "id": "42c35ed7",
   "metadata": {
    "ExecuteTime": {
     "end_time": "2022-04-27T22:17:42.306546Z",
     "start_time": "2022-04-27T22:17:42.303571Z"
    }
   },
   "outputs": [
    {
     "data": {
      "text/plain": [
       "0.6809815950920245"
      ]
     },
     "execution_count": 1466,
     "metadata": {},
     "output_type": "execute_result"
    }
   ],
   "source": [
    "num_acc=0\n",
    "for i in range(0,len(totalTestList)):\n",
    "    if true_P4[i]==test_preds[i]:\n",
    "        num_acc+=1\n",
    "total_acc_rate=num_acc/len(totalTestList)\n",
    "total_acc_rate"
   ]
  },
  {
   "cell_type": "code",
   "execution_count": 1467,
   "id": "d6cd3bce",
   "metadata": {
    "ExecuteTime": {
     "end_time": "2022-04-27T22:17:52.009292Z",
     "start_time": "2022-04-27T22:17:52.005076Z"
    }
   },
   "outputs": [
    {
     "data": {
      "text/plain": [
       "0.6833368347338935"
      ]
     },
     "execution_count": 1467,
     "metadata": {},
     "output_type": "execute_result"
    }
   ],
   "source": [
    "# f1_score(y_true, y_pred, average='macro')\n",
    "f1_score(true_P4, test_preds, average='macro')"
   ]
  },
  {
   "cell_type": "code",
   "execution_count": 1468,
   "id": "22c7a597",
   "metadata": {
    "ExecuteTime": {
     "end_time": "2022-04-27T22:18:01.442016Z",
     "start_time": "2022-04-27T22:18:01.361610Z"
    }
   },
   "outputs": [
    {
     "name": "stdout",
     "output_type": "stream",
     "text": [
      "[[16  5  0  0  0]\n",
      " [ 5 17  5  1  0]\n",
      " [ 0 13 19  7  0]\n",
      " [ 0  1  5 39  5]\n",
      " [ 0  0  0  5 20]]\n"
     ]
    },
    {
     "data": {
      "image/png": "[encoded data removed]",
      "text/plain": [
       "<Figure size 432x288 with 2 Axes>"
      ]
     },
     "metadata": {
      "needs_background": "light"
     },
     "output_type": "display_data"
    }
   ],
   "source": [
    "cm=confusion_matrix(true_P4, test_preds, labels=[\"A\", \"B\", \"C\",\"D\",\"F\"])\n",
    "labels_name=[\"A\", \"B\", \"C\", \"D\", \"F\"]\n",
    "print(cm)\n",
    "plot_confusion_matrix(cm, labels_name, \"Confusion Matrix\")\n",
    "plt.show()"
   ]
  },
  {
   "cell_type": "markdown",
   "id": "9639a38d",
   "metadata": {},
   "source": [
    "## Naive Bayes\n"
   ]
  },
  {
   "cell_type": "code",
   "execution_count": 1469,
   "id": "be2d4f5d",
   "metadata": {
    "ExecuteTime": {
     "end_time": "2022-04-27T22:18:38.433088Z",
     "start_time": "2022-04-27T22:18:38.417202Z"
    }
   },
   "outputs": [],
   "source": [
    "def Bayes_Model_1(target_g):\n",
    "    max_acc_rate=0\n",
    "    for i in range(10):\n",
    "        shuffle_train,shuffle_train_wclass,shuffle_validate,validate_class=create_shuffle(target_g)\n",
    "        mnb = MultinomialNB()\n",
    "        mnb.fit(shuffle_train,shuffle_train_wclass['class_g'])\n",
    "        y_pre = mnb.predict(shuffle_validate)\n",
    "        num_acc=0\n",
    "        for i in range(0,len(validate_class)):\n",
    "            if validate_class[i]==y_pre[i]:\n",
    "                num_acc+=1\n",
    "        total_acc_rate=num_acc/len(validate_class)\n",
    "        if total_acc_rate>max_acc_rate:\n",
    "            max_acc_rate=total_acc_rate\n",
    "            final_train=shuffle_train\n",
    "            final_train_wclass=shuffle_train_wclass\n",
    "    return final_train,final_train_wclass"
   ]
  },
  {
   "cell_type": "code",
   "execution_count": 1470,
   "id": "c6911960",
   "metadata": {
    "ExecuteTime": {
     "end_time": "2022-04-27T22:18:59.354075Z",
     "start_time": "2022-04-27T22:18:47.908637Z"
    }
   },
   "outputs": [],
   "source": [
    "final_train,final_train_wclass=Bayes_Model_1('G1')\n",
    "mnb = MultinomialNB()\n",
    "mnb.fit(shuffle_train,shuffle_train_wclass['class_g'])\n",
    "y_pre = mnb.predict(totalTestList_wog123_processed)"
   ]
  },
  {
   "cell_type": "markdown",
   "id": "ca4860c8",
   "metadata": {},
   "source": [
    "mission 1"
   ]
  },
  {
   "cell_type": "code",
   "execution_count": 1471,
   "id": "75296f7d",
   "metadata": {
    "ExecuteTime": {
     "end_time": "2022-04-27T22:19:08.957122Z",
     "start_time": "2022-04-27T22:19:08.953933Z"
    }
   },
   "outputs": [
    {
     "data": {
      "text/plain": [
       "0.3067484662576687"
      ]
     },
     "execution_count": 1471,
     "metadata": {},
     "output_type": "execute_result"
    }
   ],
   "source": [
    "num_acc=0\n",
    "for i in range(0,len(totalTestList)):\n",
    "    if true_P[i]==y_pre[i]:\n",
    "        num_acc+=1\n",
    "total_acc_rate=num_acc/len(totalTestList)\n",
    "total_acc_rate"
   ]
  },
  {
   "cell_type": "code",
   "execution_count": 1472,
   "id": "867c567f",
   "metadata": {
    "ExecuteTime": {
     "end_time": "2022-04-27T22:19:18.577602Z",
     "start_time": "2022-04-27T22:19:18.573788Z"
    }
   },
   "outputs": [
    {
     "data": {
      "text/plain": [
       "0.2973419607475335"
      ]
     },
     "execution_count": 1472,
     "metadata": {},
     "output_type": "execute_result"
    }
   ],
   "source": [
    "# f1_score(y_true, y_pred, average='macro')\n",
    "f1_score(true_P, y_pre, average='macro')"
   ]
  },
  {
   "cell_type": "code",
   "execution_count": 1473,
   "id": "1f1d105f",
   "metadata": {
    "ExecuteTime": {
     "end_time": "2022-04-27T22:19:28.222037Z",
     "start_time": "2022-04-27T22:19:28.141715Z"
    }
   },
   "outputs": [
    {
     "name": "stdout",
     "output_type": "stream",
     "text": [
      "[[ 3  2  3  4  0]\n",
      " [ 4  6 10  7  0]\n",
      " [ 0  7 16 16  0]\n",
      " [ 1 11 12 17  7]\n",
      " [ 1  4  5 19  8]]\n"
     ]
    },
    {
     "data": {
      "image/png": "[encoded data removed]",
      "text/plain": [
       "<Figure size 432x288 with 2 Axes>"
      ]
     },
     "metadata": {
      "needs_background": "light"
     },
     "output_type": "display_data"
    }
   ],
   "source": [
    "cm=confusion_matrix(true_P, y_pre, labels=[\"A\", \"B\", \"C\",\"D\",\"F\"])\n",
    "labels_name=[\"A\", \"B\", \"C\", \"D\", \"F\"]\n",
    "print(cm)\n",
    "plot_confusion_matrix(cm, labels_name, \"Confusion Matrix\")\n",
    "plt.show()"
   ]
  },
  {
   "cell_type": "code",
   "execution_count": 1474,
   "id": "73c0fb71",
   "metadata": {
    "ExecuteTime": {
     "end_time": "2022-04-27T22:19:49.712027Z",
     "start_time": "2022-04-27T22:19:37.935406Z"
    }
   },
   "outputs": [],
   "source": [
    "final_train,final_train_wclass=Bayes_Model_1('G3')\n",
    "mnb = MultinomialNB()\n",
    "mnb.fit(final_train,final_train_wclass['class_g'])\n",
    "y_pre = mnb.predict(totalTestList_wog123_processed)"
   ]
  },
  {
   "cell_type": "markdown",
   "id": "53c297d7",
   "metadata": {},
   "source": [
    "mission 2"
   ]
  },
  {
   "cell_type": "code",
   "execution_count": 1475,
   "id": "0dd29a15",
   "metadata": {
    "ExecuteTime": {
     "end_time": "2022-04-27T22:19:59.354659Z",
     "start_time": "2022-04-27T22:19:59.351466Z"
    }
   },
   "outputs": [
    {
     "data": {
      "text/plain": [
       "0.3067484662576687"
      ]
     },
     "execution_count": 1475,
     "metadata": {},
     "output_type": "execute_result"
    }
   ],
   "source": [
    "num_acc=0\n",
    "for i in range(0,len(totalTestList)):\n",
    "    if true_P3[i]==y_pre[i]:\n",
    "        num_acc+=1\n",
    "total_acc_rate=num_acc/len(totalTestList)\n",
    "total_acc_rate"
   ]
  },
  {
   "cell_type": "code",
   "execution_count": 1476,
   "id": "926ed1d7",
   "metadata": {
    "ExecuteTime": {
     "end_time": "2022-04-27T22:20:08.829884Z",
     "start_time": "2022-04-27T22:20:08.825862Z"
    }
   },
   "outputs": [
    {
     "data": {
      "text/plain": [
       "0.27925483684397095"
      ]
     },
     "execution_count": 1476,
     "metadata": {},
     "output_type": "execute_result"
    }
   ],
   "source": [
    "# f1_score(y_true, y_pred, average='macro')\n",
    "f1_score(true_P3, y_pre, average='macro')"
   ]
  },
  {
   "cell_type": "code",
   "execution_count": 1482,
   "id": "fabe2007",
   "metadata": {
    "ExecuteTime": {
     "end_time": "2022-04-27T22:21:17.455494Z",
     "start_time": "2022-04-27T22:21:17.375862Z"
    }
   },
   "outputs": [
    {
     "name": "stdout",
     "output_type": "stream",
     "text": [
      "[[ 6  8  5  2  0]\n",
      " [ 4  7 15  2  0]\n",
      " [ 0  3 23 13  0]\n",
      " [ 0  2 16 30  2]\n",
      " [ 0  0  1 13 11]]\n"
     ]
    },
    {
     "data": {
      "image/png": "[encoded data removed]",
      "text/plain": [
       "<Figure size 432x288 with 2 Axes>"
      ]
     },
     "metadata": {
      "needs_background": "light"
     },
     "output_type": "display_data"
    }
   ],
   "source": [
    "cm=confusion_matrix(true_P3, y_pre, labels=[\"A\", \"B\", \"C\",\"D\",\"F\"])\n",
    "labels_name=[\"A\", \"B\", \"C\", \"D\", \"F\"]\n",
    "print(cm)\n",
    "plot_confusion_matrix(cm, labels_name, \"Confusion Matrix\")\n",
    "plt.show()"
   ]
  },
  {
   "cell_type": "code",
   "execution_count": 1483,
   "id": "be3c7501",
   "metadata": {
    "ExecuteTime": {
     "end_time": "2022-04-27T22:21:27.050438Z",
     "start_time": "2022-04-27T22:21:27.047258Z"
    }
   },
   "outputs": [],
   "source": [
    "def Bayes_Model_2(target_g):\n",
    "    max_acc_rate=0\n",
    "    for i in range(10):\n",
    "        shuffle_train,shuffle_train_wclass,shuffle_validate,validate_class=create_shuffle2(target_g)\n",
    "        mnb = MultinomialNB()\n",
    "        mnb.fit(shuffle_train,shuffle_train_wclass['class_g'])\n",
    "        y_pre = mnb.predict(shuffle_validate)\n",
    "        num_acc=0\n",
    "        for i in range(0,len(validate_class)):\n",
    "            if validate_class[i]==y_pre[i]:\n",
    "                num_acc+=1\n",
    "        total_acc_rate=num_acc/len(validate_class)\n",
    "        if total_acc_rate>max_acc_rate:\n",
    "            max_acc_rate=total_acc_rate\n",
    "            final_train=shuffle_train\n",
    "            final_train_wclass=shuffle_train_wclass\n",
    "    return final_train,final_train_wclass"
   ]
  },
  {
   "cell_type": "code",
   "execution_count": 1484,
   "id": "14098942",
   "metadata": {
    "ExecuteTime": {
     "end_time": "2022-04-27T22:21:48.257613Z",
     "start_time": "2022-04-27T22:21:36.726479Z"
    }
   },
   "outputs": [],
   "source": [
    "final_train,final_train_wclass=Bayes_Model_2('G3')\n",
    "mnb = MultinomialNB()\n",
    "mnb.fit(final_train,final_train_wclass['class_g'])\n",
    "y_pre = mnb.predict(totalTestList_wog3_processed)"
   ]
  },
  {
   "cell_type": "markdown",
   "id": "1db9191d",
   "metadata": {},
   "source": [
    "mission 3"
   ]
  },
  {
   "cell_type": "code",
   "execution_count": 1485,
   "id": "b9f31b25",
   "metadata": {
    "ExecuteTime": {
     "end_time": "2022-04-27T22:21:57.793381Z",
     "start_time": "2022-04-27T22:21:57.790500Z"
    }
   },
   "outputs": [
    {
     "data": {
      "text/plain": [
       "0.43558282208588955"
      ]
     },
     "execution_count": 1485,
     "metadata": {},
     "output_type": "execute_result"
    }
   ],
   "source": [
    "num_acc=0\n",
    "for i in range(0,len(totalTestList)):\n",
    "    if true_P4[i]==y_pre[i]:\n",
    "        num_acc+=1\n",
    "total_acc_rate=num_acc/len(totalTestList)\n",
    "total_acc_rate"
   ]
  },
  {
   "cell_type": "code",
   "execution_count": 1486,
   "id": "23ab0c22",
   "metadata": {
    "ExecuteTime": {
     "end_time": "2022-04-27T22:22:07.291204Z",
     "start_time": "2022-04-27T22:22:07.287261Z"
    }
   },
   "outputs": [
    {
     "data": {
      "text/plain": [
       "0.4208640455152083"
      ]
     },
     "execution_count": 1486,
     "metadata": {},
     "output_type": "execute_result"
    }
   ],
   "source": [
    "# f1_score(y_true, y_pred, average='macro')\n",
    "f1_score(true_P4, y_pre, average='macro')"
   ]
  },
  {
   "cell_type": "code",
   "execution_count": 1487,
   "id": "261a5e8a",
   "metadata": {
    "ExecuteTime": {
     "end_time": "2022-04-27T22:22:17.017479Z",
     "start_time": "2022-04-27T22:22:16.931055Z"
    }
   },
   "outputs": [
    {
     "name": "stdout",
     "output_type": "stream",
     "text": [
      "[[ 8  9  3  1  0]\n",
      " [ 7  9 10  2  0]\n",
      " [ 2  4 19 14  0]\n",
      " [ 3  2 15 27  3]\n",
      " [ 1  0  0 16  8]]\n"
     ]
    },
    {
     "data": {
      "image/png": "[encoded data removed]",
      "text/plain": [
       "<Figure size 432x288 with 2 Axes>"
      ]
     },
     "metadata": {
      "needs_background": "light"
     },
     "output_type": "display_data"
    }
   ],
   "source": [
    "cm=confusion_matrix(true_P4, y_pre, labels=[\"A\", \"B\", \"C\",\"D\",\"F\"])\n",
    "labels_name=[\"A\", \"B\", \"C\", \"D\", \"F\"]\n",
    "print(cm)\n",
    "plot_confusion_matrix(cm, labels_name, \"Confusion Matrix\")\n",
    "plt.show()"
   ]
  },
  {
   "cell_type": "markdown",
   "id": "4d20e7ce",
   "metadata": {},
   "source": [
    "## decision tree"
   ]
  },
  {
   "cell_type": "code",
   "execution_count": 1035,
   "id": "5459b125",
   "metadata": {
    "ExecuteTime": {
     "end_time": "2022-04-25T23:39:30.138285Z",
     "start_time": "2022-04-25T23:39:30.123669Z"
    }
   },
   "outputs": [],
   "source": [
    "def dtree_Model_1(target_g):\n",
    "    max_acc_rate=0\n",
    "    for i in range(10):\n",
    "        shuffle_train,shuffle_train_wclass,shuffle_validate,validate_class=create_shuffle(target_g)\n",
    "        clf = tree.DecisionTreeClassifier()\n",
    "        clf = clf.fit(shuffle_train, shuffle_train_wclass['class_g'])\n",
    "        decision_tree=clf.predict(shuffle_validate)\n",
    "#         mnb = MultinomialNB()\n",
    "#         mnb.fit(shuffle_train,shuffle_train_wclass['class_g'])\n",
    "#         y_pre = mnb.predict(shuffle_validate)\n",
    "        num_acc=0\n",
    "        for i in range(0,len(validate_class)):\n",
    "            if validate_class[i]==y_pre[i]:\n",
    "                num_acc+=1\n",
    "        total_acc_rate=num_acc/len(validate_class)\n",
    "        if total_acc_rate>max_acc_rate:\n",
    "            max_acc_rate=total_acc_rate\n",
    "            final_train=shuffle_train\n",
    "            final_train_wclass=shuffle_train_wclass\n",
    "    return final_train,final_train_wclass"
   ]
  },
  {
   "cell_type": "code",
   "execution_count": 1488,
   "id": "002e34f3",
   "metadata": {
    "ExecuteTime": {
     "end_time": "2022-04-27T22:22:38.226653Z",
     "start_time": "2022-04-27T22:22:26.682823Z"
    }
   },
   "outputs": [],
   "source": [
    "final_train,final_train_wclass=dtree_Model_1('G1')\n",
    "clf = tree.DecisionTreeClassifier()\n",
    "clf = clf.fit(final_train, final_train_wclass['class_g'])\n",
    "decision_tree=clf.predict(totalTestList_wog123_processed)"
   ]
  },
  {
   "cell_type": "markdown",
   "id": "066b1b11",
   "metadata": {},
   "source": [
    "mission 1"
   ]
  },
  {
   "cell_type": "code",
   "execution_count": 1489,
   "id": "7a43b652",
   "metadata": {
    "ExecuteTime": {
     "end_time": "2022-04-27T22:22:47.888773Z",
     "start_time": "2022-04-27T22:22:47.885750Z"
    }
   },
   "outputs": [
    {
     "data": {
      "text/plain": [
       "0.32515337423312884"
      ]
     },
     "execution_count": 1489,
     "metadata": {},
     "output_type": "execute_result"
    }
   ],
   "source": [
    "num_acc=0\n",
    "for i in range(0,len(totalTestList)):\n",
    "    if true_P[i]==decision_tree[i]:\n",
    "        num_acc+=1\n",
    "total_acc_rate=num_acc/len(totalTestList)\n",
    "total_acc_rate"
   ]
  },
  {
   "cell_type": "code",
   "execution_count": 1490,
   "id": "d04fbd74",
   "metadata": {
    "ExecuteTime": {
     "end_time": "2022-04-27T22:22:57.507081Z",
     "start_time": "2022-04-27T22:22:57.502552Z"
    }
   },
   "outputs": [
    {
     "data": {
      "text/plain": [
       "0.28918378756114604"
      ]
     },
     "execution_count": 1490,
     "metadata": {},
     "output_type": "execute_result"
    }
   ],
   "source": [
    "# f1_score(y_true, y_pred, average='macro')\n",
    "f1_score(true_P, decision_tree, average='macro')"
   ]
  },
  {
   "cell_type": "code",
   "execution_count": 1491,
   "id": "32535d29",
   "metadata": {
    "ExecuteTime": {
     "end_time": "2022-04-27T22:23:07.246838Z",
     "start_time": "2022-04-27T22:23:07.163522Z"
    }
   },
   "outputs": [
    {
     "name": "stdout",
     "output_type": "stream",
     "text": [
      "[[ 1  0  7  3  1]\n",
      " [ 2  6  6 11  2]\n",
      " [ 1  2 12 21  3]\n",
      " [ 2  2 10 18 16]\n",
      " [ 6  3  7  5 16]]\n"
     ]
    },
    {
     "data": {
      "image/png": "[encoded data removed]",
      "text/plain": [
       "<Figure size 432x288 with 2 Axes>"
      ]
     },
     "metadata": {
      "needs_background": "light"
     },
     "output_type": "display_data"
    }
   ],
   "source": [
    "cm=confusion_matrix(true_P, decision_tree, labels=[\"A\", \"B\", \"C\",\"D\",\"F\"])\n",
    "labels_name=[\"A\", \"B\", \"C\", \"D\", \"F\"]\n",
    "print(cm)\n",
    "plot_confusion_matrix(cm, labels_name, \"Confusion Matrix\")\n",
    "plt.show()"
   ]
  },
  {
   "cell_type": "code",
   "execution_count": 1492,
   "id": "f7f51df2",
   "metadata": {
    "ExecuteTime": {
     "end_time": "2022-04-27T22:23:27.698957Z",
     "start_time": "2022-04-27T22:23:16.699541Z"
    }
   },
   "outputs": [],
   "source": [
    "final_train,final_train_wclass=dtree_Model_1('G3')\n",
    "clf = tree.DecisionTreeClassifier()\n",
    "clf = clf.fit(final_train, final_train_wclass['class_g'])\n",
    "decision_tree=clf.predict(totalTestList_wog123_processed)"
   ]
  },
  {
   "cell_type": "markdown",
   "id": "50224de5",
   "metadata": {},
   "source": [
    "mission 2"
   ]
  },
  {
   "cell_type": "code",
   "execution_count": 1493,
   "id": "7939f353",
   "metadata": {
    "ExecuteTime": {
     "end_time": "2022-04-27T22:23:37.309567Z",
     "start_time": "2022-04-27T22:23:37.306317Z"
    }
   },
   "outputs": [
    {
     "data": {
      "text/plain": [
       "0.27607361963190186"
      ]
     },
     "execution_count": 1493,
     "metadata": {},
     "output_type": "execute_result"
    }
   ],
   "source": [
    "num_acc=0\n",
    "for i in range(0,len(totalTestList)):\n",
    "    if true_P3[i]==decision_tree[i]:\n",
    "        num_acc+=1\n",
    "total_acc_rate=num_acc/len(totalTestList)\n",
    "total_acc_rate"
   ]
  },
  {
   "cell_type": "code",
   "execution_count": 1494,
   "id": "319e29de",
   "metadata": {
    "ExecuteTime": {
     "end_time": "2022-04-27T22:23:46.913135Z",
     "start_time": "2022-04-27T22:23:46.908860Z"
    }
   },
   "outputs": [
    {
     "data": {
      "text/plain": [
       "0.2697223811766782"
      ]
     },
     "execution_count": 1494,
     "metadata": {},
     "output_type": "execute_result"
    }
   ],
   "source": [
    "# f1_score(y_true, y_pred, average='macro')\n",
    "f1_score(true_P3, decision_tree, average='macro')"
   ]
  },
  {
   "cell_type": "code",
   "execution_count": 1495,
   "id": "4b7597ec",
   "metadata": {
    "ExecuteTime": {
     "end_time": "2022-04-27T22:23:56.671883Z",
     "start_time": "2022-04-27T22:23:56.588235Z"
    }
   },
   "outputs": [
    {
     "name": "stdout",
     "output_type": "stream",
     "text": [
      "[[ 3 10  4  4  0]\n",
      " [ 9  8  6  3  2]\n",
      " [ 5 13  9  7  5]\n",
      " [ 4  8 13 14 11]\n",
      " [ 3  2  2  7 11]]\n"
     ]
    },
    {
     "data": {
      "image/png": "[encoded data removed]",
      "text/plain": [
       "<Figure size 432x288 with 2 Axes>"
      ]
     },
     "metadata": {
      "needs_background": "light"
     },
     "output_type": "display_data"
    }
   ],
   "source": [
    "cm=confusion_matrix(true_P3, decision_tree, labels=[\"A\", \"B\", \"C\",\"D\",\"F\"])\n",
    "labels_name=[\"A\", \"B\", \"C\", \"D\", \"F\"]\n",
    "print(cm)\n",
    "plot_confusion_matrix(cm, labels_name, \"Confusion Matrix\")\n",
    "plt.show()"
   ]
  },
  {
   "cell_type": "code",
   "execution_count": 1042,
   "id": "c739e4dc",
   "metadata": {
    "ExecuteTime": {
     "end_time": "2022-04-25T23:41:33.073844Z",
     "start_time": "2022-04-25T23:41:33.053914Z"
    }
   },
   "outputs": [],
   "source": [
    "def dtree_Model_2(target_g):\n",
    "    max_acc_rate=0\n",
    "    for i in range(10):\n",
    "        shuffle_train,shuffle_train_wclass,shuffle_validate,validate_class=create_shuffle2(target_g)\n",
    "        clf = tree.DecisionTreeClassifier()\n",
    "        clf = clf.fit(shuffle_train, shuffle_train_wclass['class_g'])\n",
    "        decision_tree=clf.predict(shuffle_validate)\n",
    "#         mnb = MultinomialNB()\n",
    "#         mnb.fit(shuffle_train,shuffle_train_wclass['class_g'])\n",
    "#         y_pre = mnb.predict(shuffle_validate)\n",
    "        num_acc=0\n",
    "        for i in range(0,len(validate_class)):\n",
    "            if validate_class[i]==y_pre[i]:\n",
    "                num_acc+=1\n",
    "        total_acc_rate=num_acc/len(validate_class)\n",
    "        if total_acc_rate>max_acc_rate:\n",
    "            max_acc_rate=total_acc_rate\n",
    "            final_train=shuffle_train\n",
    "            final_train_wclass=shuffle_train_wclass\n",
    "    return final_train,final_train_wclass"
   ]
  },
  {
   "cell_type": "code",
   "execution_count": 1496,
   "id": "0ccf3ebd",
   "metadata": {
    "ExecuteTime": {
     "end_time": "2022-04-27T22:24:18.401673Z",
     "start_time": "2022-04-27T22:24:06.520375Z"
    }
   },
   "outputs": [],
   "source": [
    "final_train,final_train_wclass=dtree_Model_2('G3')\n",
    "clf = tree.DecisionTreeClassifier()\n",
    "clf = clf.fit(final_train, final_train_wclass['class_g'])\n",
    "decision_tree=clf.predict(totalTestList_wog3_processed)"
   ]
  },
  {
   "cell_type": "markdown",
   "id": "5a0eb241",
   "metadata": {},
   "source": [
    "mission 3"
   ]
  },
  {
   "cell_type": "code",
   "execution_count": 1497,
   "id": "1d14dc52",
   "metadata": {
    "ExecuteTime": {
     "end_time": "2022-04-27T22:24:27.841263Z",
     "start_time": "2022-04-27T22:24:27.838385Z"
    }
   },
   "outputs": [
    {
     "data": {
      "text/plain": [
       "0.6380368098159509"
      ]
     },
     "execution_count": 1497,
     "metadata": {},
     "output_type": "execute_result"
    }
   ],
   "source": [
    "num_acc=0\n",
    "for i in range(0,len(totalTestList)):\n",
    "    if true_P4[i]==decision_tree[i]:\n",
    "        num_acc+=1\n",
    "total_acc_rate=num_acc/len(totalTestList)\n",
    "total_acc_rate"
   ]
  },
  {
   "cell_type": "code",
   "execution_count": 1498,
   "id": "512bae77",
   "metadata": {
    "ExecuteTime": {
     "end_time": "2022-04-27T22:24:37.274806Z",
     "start_time": "2022-04-27T22:24:37.270920Z"
    }
   },
   "outputs": [
    {
     "data": {
      "text/plain": [
       "0.5585057882802242"
      ]
     },
     "execution_count": 1498,
     "metadata": {},
     "output_type": "execute_result"
    }
   ],
   "source": [
    "# f1_score(y_true, y_pred, average='macro')\n",
    "f1_score(true_P, decision_tree, average='macro')"
   ]
  },
  {
   "cell_type": "code",
   "execution_count": 1499,
   "id": "d272baa3",
   "metadata": {
    "ExecuteTime": {
     "end_time": "2022-04-27T22:24:47.000087Z",
     "start_time": "2022-04-27T22:24:46.909989Z"
    }
   },
   "outputs": [
    {
     "name": "stdout",
     "output_type": "stream",
     "text": [
      "[[16  5  0  0  0]\n",
      " [10 12  5  1  0]\n",
      " [ 0 10 20  8  1]\n",
      " [ 0  0  6 36  8]\n",
      " [ 0  0  0  5 20]]\n"
     ]
    },
    {
     "data": {
      "image/png": "[encoded data removed]",
      "text/plain": [
       "<Figure size 432x288 with 2 Axes>"
      ]
     },
     "metadata": {
      "needs_background": "light"
     },
     "output_type": "display_data"
    }
   ],
   "source": [
    "cm=confusion_matrix(true_P4, decision_tree, labels=[\"A\", \"B\", \"C\",\"D\",\"F\"])\n",
    "labels_name=[\"A\", \"B\", \"C\", \"D\", \"F\"]\n",
    "print(cm)\n",
    "plot_confusion_matrix(cm, labels_name, \"Confusion Matrix\")\n",
    "plt.show()"
   ]
  },
  {
   "cell_type": "markdown",
   "id": "84681911",
   "metadata": {},
   "source": [
    "## PCA+Random Forest"
   ]
  },
  {
   "cell_type": "code",
   "execution_count": 1500,
   "id": "9e1b37b0",
   "metadata": {
    "ExecuteTime": {
     "end_time": "2022-04-27T22:24:58.989073Z",
     "start_time": "2022-04-27T22:24:58.975170Z"
    }
   },
   "outputs": [],
   "source": [
    "def RF_Model_1(target_g):\n",
    "    max_acc_rate=0\n",
    "    for i in range(10):\n",
    "        shuffle_train,shuffle_train_wclass,shuffle_validate,validate_class=create_shuffle(target_g)\n",
    "        \n",
    "        pca = PCA(n_components=20)\n",
    "        shuffle_train = pca.fit_transform(shuffle_train)\n",
    "        shuffle_validate = pca.transform(shuffle_validate)\n",
    "        \n",
    "        classifier = RandomForestClassifier(random_state=0)\n",
    "        classifier.fit(shuffle_train, shuffle_train_wclass['class_g'])\n",
    "        # Predicting the Test set results\n",
    "        y_pred = classifier.predict(shuffle_validate)\n",
    "        \n",
    "        num_acc=0\n",
    "        for i in range(0,len(validate_class)):\n",
    "            if validate_class[i]==y_pred[i]:\n",
    "                num_acc+=1\n",
    "        total_acc_rate=num_acc/len(validate_class)\n",
    "        if total_acc_rate>max_acc_rate:\n",
    "            max_acc_rate=total_acc_rate\n",
    "            final_train=shuffle_train\n",
    "            final_train_wclass=shuffle_train_wclass\n",
    "    return final_train,final_train_wclass"
   ]
  },
  {
   "cell_type": "code",
   "execution_count": 1501,
   "id": "deec74aa",
   "metadata": {
    "ExecuteTime": {
     "end_time": "2022-04-27T22:25:08.711165Z",
     "start_time": "2022-04-27T22:25:08.699333Z"
    }
   },
   "outputs": [],
   "source": [
    "totalTestList_wog123=totalTestList.drop(['G1','G2','G3'],axis=1)\n",
    "totalTestList_wog123_processed=pd.get_dummies(totalTestList_wog123)\n",
    "x = totalTestList_wog123_processed.values #returns a numpy array\n",
    "min_max_scaler = preprocessing.MinMaxScaler()\n",
    "x_scaled = min_max_scaler.fit_transform(x)\n",
    "totalTestList_wog123_processed = pd.DataFrame(x_scaled,columns=totalTestList_wog123_processed.columns)"
   ]
  },
  {
   "cell_type": "code",
   "execution_count": 1502,
   "id": "26ef1d20",
   "metadata": {
    "ExecuteTime": {
     "end_time": "2022-04-27T22:25:29.972705Z",
     "start_time": "2022-04-27T22:25:18.432410Z"
    }
   },
   "outputs": [],
   "source": [
    "final_train,final_train_wclass=dtree_Model_1('G1')\n",
    "\n",
    "pca = PCA(n_components=25)\n",
    "final_train = pca.fit_transform(final_train)\n",
    "totalTestList_wog123_processed = pca.transform(totalTestList_wog123_processed)\n",
    "\n",
    "classifier = RandomForestClassifier(random_state=0)\n",
    "classifier.fit(final_train, final_train_wclass['class_g'])\n",
    "# Predicting the Test set results\n",
    "y_pred = classifier.predict(totalTestList_wog123_processed)"
   ]
  },
  {
   "cell_type": "markdown",
   "id": "3b1e23aa",
   "metadata": {},
   "source": [
    "mission 1"
   ]
  },
  {
   "cell_type": "code",
   "execution_count": 1503,
   "id": "5dbd2a08",
   "metadata": {
    "ExecuteTime": {
     "end_time": "2022-04-27T22:25:39.423506Z",
     "start_time": "2022-04-27T22:25:39.420529Z"
    }
   },
   "outputs": [
    {
     "data": {
      "text/plain": [
       "0.3374233128834356"
      ]
     },
     "execution_count": 1503,
     "metadata": {},
     "output_type": "execute_result"
    }
   ],
   "source": [
    "num_acc=0\n",
    "for i in range(0,len(totalTestList)):\n",
    "    if true_P[i]==y_pred[i]:\n",
    "        num_acc+=1\n",
    "total_acc_rate=num_acc/len(totalTestList)\n",
    "total_acc_rate"
   ]
  },
  {
   "cell_type": "code",
   "execution_count": 1505,
   "id": "28ce0ce1",
   "metadata": {
    "ExecuteTime": {
     "end_time": "2022-04-27T22:25:57.501157Z",
     "start_time": "2022-04-27T22:25:57.497478Z"
    }
   },
   "outputs": [
    {
     "data": {
      "text/plain": [
       "0.2430945573672846"
      ]
     },
     "execution_count": 1505,
     "metadata": {},
     "output_type": "execute_result"
    }
   ],
   "source": [
    "# f1_score(y_true, y_pred, average='macro')\n",
    "f1_score(true_P, y_pred, average='macro')"
   ]
  },
  {
   "cell_type": "code",
   "execution_count": 1506,
   "id": "6fe852e9",
   "metadata": {
    "ExecuteTime": {
     "end_time": "2022-04-27T22:26:06.881163Z",
     "start_time": "2022-04-27T22:26:06.800929Z"
    }
   },
   "outputs": [
    {
     "name": "stdout",
     "output_type": "stream",
     "text": [
      "[[ 0  1  6  3  2]\n",
      " [ 0  1 11 14  1]\n",
      " [ 1  3  9 18  8]\n",
      " [ 0  4 10 26  8]\n",
      " [ 0  1  5 12 19]]\n"
     ]
    },
    {
     "data": {
      "image/png": "[encoded data removed]",
      "text/plain": [
       "<Figure size 432x288 with 2 Axes>"
      ]
     },
     "metadata": {
      "needs_background": "light"
     },
     "output_type": "display_data"
    }
   ],
   "source": [
    "cm=confusion_matrix(true_P, y_pred, labels=[\"A\", \"B\", \"C\",\"D\",\"F\"])\n",
    "labels_name=[\"A\", \"B\", \"C\", \"D\", \"F\"]\n",
    "print(cm)\n",
    "plot_confusion_matrix(cm, labels_name, \"Confusion Matrix\")\n",
    "plt.show()"
   ]
  },
  {
   "cell_type": "code",
   "execution_count": 1507,
   "id": "719b307d",
   "metadata": {
    "ExecuteTime": {
     "end_time": "2022-04-27T22:26:16.140926Z",
     "start_time": "2022-04-27T22:26:16.129509Z"
    }
   },
   "outputs": [],
   "source": [
    "totalTestList_wog123=totalTestList.drop(['G1','G2','G3'],axis=1)\n",
    "totalTestList_wog123_processed=pd.get_dummies(totalTestList_wog123)\n",
    "x = totalTestList_wog123_processed.values #returns a numpy array\n",
    "min_max_scaler = preprocessing.MinMaxScaler()\n",
    "x_scaled = min_max_scaler.fit_transform(x)\n",
    "totalTestList_wog123_processed = pd.DataFrame(x_scaled,columns=totalTestList_wog123_processed.columns)"
   ]
  },
  {
   "cell_type": "code",
   "execution_count": 1508,
   "id": "b1dd5735",
   "metadata": {
    "ExecuteTime": {
     "end_time": "2022-04-27T22:26:36.930719Z",
     "start_time": "2022-04-27T22:26:25.647592Z"
    }
   },
   "outputs": [],
   "source": [
    "final_train,final_train_wclass=dtree_Model_1('G3')\n",
    "\n",
    "pca = PCA(n_components=25)\n",
    "final_train = pca.fit_transform(final_train)\n",
    "totalTestList_wog123_processed = pca.transform(totalTestList_wog123_processed)\n",
    "\n",
    "classifier = RandomForestClassifier(random_state=0)\n",
    "classifier.fit(final_train, final_train_wclass['class_g'])\n",
    "# Predicting the Test set results\n",
    "y_pred = classifier.predict(totalTestList_wog123_processed)"
   ]
  },
  {
   "cell_type": "markdown",
   "id": "06a36e3e",
   "metadata": {},
   "source": [
    "mission 2"
   ]
  },
  {
   "cell_type": "code",
   "execution_count": 1509,
   "id": "1fb0918c",
   "metadata": {
    "ExecuteTime": {
     "end_time": "2022-04-27T22:26:46.101299Z",
     "start_time": "2022-04-27T22:26:46.098291Z"
    }
   },
   "outputs": [
    {
     "data": {
      "text/plain": [
       "0.38650306748466257"
      ]
     },
     "execution_count": 1509,
     "metadata": {},
     "output_type": "execute_result"
    }
   ],
   "source": [
    "num_acc=0\n",
    "for i in range(0,len(totalTestList)):\n",
    "    if true_P3[i]==y_pred[i]:\n",
    "        num_acc+=1\n",
    "total_acc_rate=num_acc/len(totalTestList)\n",
    "total_acc_rate"
   ]
  },
  {
   "cell_type": "code",
   "execution_count": 1510,
   "id": "bd6356e1",
   "metadata": {
    "ExecuteTime": {
     "end_time": "2022-04-27T22:26:55.600687Z",
     "start_time": "2022-04-27T22:26:55.597111Z"
    }
   },
   "outputs": [
    {
     "data": {
      "text/plain": [
       "0.3077309223120464"
      ]
     },
     "execution_count": 1510,
     "metadata": {},
     "output_type": "execute_result"
    }
   ],
   "source": [
    "# f1_score(y_true, y_pred, average='macro')\n",
    "f1_score(true_P3, y_pred, average='macro')"
   ]
  },
  {
   "cell_type": "code",
   "execution_count": 1511,
   "id": "0c6e8454",
   "metadata": {
    "ExecuteTime": {
     "end_time": "2022-04-27T22:27:05.044908Z",
     "start_time": "2022-04-27T22:27:04.956684Z"
    }
   },
   "outputs": [
    {
     "name": "stdout",
     "output_type": "stream",
     "text": [
      "[[ 1  3  7 10  0]\n",
      " [ 2  7  6 13  0]\n",
      " [ 0  3 19 16  1]\n",
      " [ 0  7  8 32  3]\n",
      " [ 0  1  3 17  4]]\n"
     ]
    },
    {
     "data": {
      "image/png": "[encoded data removed]",
      "text/plain": [
       "<Figure size 432x288 with 2 Axes>"
      ]
     },
     "metadata": {
      "needs_background": "light"
     },
     "output_type": "display_data"
    }
   ],
   "source": [
    "cm=confusion_matrix(true_P3, y_pred, labels=[\"A\", \"B\", \"C\",\"D\",\"F\"])\n",
    "labels_name=[\"A\", \"B\", \"C\", \"D\", \"F\"]\n",
    "print(cm)\n",
    "plot_confusion_matrix(cm, labels_name, \"Confusion Matrix\")\n",
    "plt.show()"
   ]
  },
  {
   "cell_type": "code",
   "execution_count": 1512,
   "id": "214cebe0",
   "metadata": {
    "ExecuteTime": {
     "end_time": "2022-04-27T22:27:14.227235Z",
     "start_time": "2022-04-27T22:27:14.223652Z"
    }
   },
   "outputs": [],
   "source": [
    "def RF_Model_2(target_g):\n",
    "    max_acc_rate=0\n",
    "    for i in range(10):\n",
    "        shuffle_train,shuffle_train_wclass,shuffle_validate,validate_class=create_shuffle2(target_g)\n",
    "        \n",
    "        pca = PCA(n_components=20)\n",
    "        shuffle_train = pca.fit_transform(shuffle_train)\n",
    "        shuffle_validate = pca.transform(shuffle_validate)\n",
    "        \n",
    "        classifier = RandomForestClassifier(random_state=0)\n",
    "        classifier.fit(shuffle_train, shuffle_train_wclass['class_g'])\n",
    "        # Predicting the Test set results\n",
    "        y_pred = classifier.predict(shuffle_validate)\n",
    "        \n",
    "        num_acc=0\n",
    "        for i in range(0,len(validate_class)):\n",
    "            if validate_class[i]==y_pred[i]:\n",
    "                num_acc+=1\n",
    "        total_acc_rate=num_acc/len(validate_class)\n",
    "        if total_acc_rate>max_acc_rate:\n",
    "            max_acc_rate=total_acc_rate\n",
    "            final_train=shuffle_train\n",
    "            final_train_wclass=shuffle_train_wclass\n",
    "    return final_train,final_train_wclass"
   ]
  },
  {
   "cell_type": "code",
   "execution_count": 1513,
   "id": "e50b496f",
   "metadata": {
    "ExecuteTime": {
     "end_time": "2022-04-27T22:27:23.767246Z",
     "start_time": "2022-04-27T22:27:23.741645Z"
    }
   },
   "outputs": [],
   "source": [
    "totalTestList_wog3=totalTestList.drop(['G3'],axis=1)\n",
    "totalTestList_wog3_processed=pd.get_dummies(totalTestList_wog3)\n",
    "totalTestList_wog3_processed=normalize(totalTestList_wog3_processed)"
   ]
  },
  {
   "cell_type": "code",
   "execution_count": 1514,
   "id": "d318356f",
   "metadata": {
    "ExecuteTime": {
     "end_time": "2022-04-27T22:27:44.915076Z",
     "start_time": "2022-04-27T22:27:33.284148Z"
    }
   },
   "outputs": [],
   "source": [
    "final_train,final_train_wclass=dtree_Model_2('G3')\n",
    "pca = PCA(n_components=25)\n",
    "final_train = pca.fit_transform(final_train)\n",
    "totalTestList_wog3_processed = pca.transform(totalTestList_wog3_processed)\n",
    "classifier = RandomForestClassifier(random_state=0)\n",
    "classifier.fit(final_train, final_train_wclass['class_g'])\n",
    "# Predicting the Test set results\n",
    "y_pred = classifier.predict(totalTestList_wog3_processed)"
   ]
  },
  {
   "cell_type": "markdown",
   "id": "7bf1f29b",
   "metadata": {},
   "source": [
    "mission 3"
   ]
  },
  {
   "cell_type": "code",
   "execution_count": 1515,
   "id": "6dc138b8",
   "metadata": {
    "ExecuteTime": {
     "end_time": "2022-04-27T22:27:54.325801Z",
     "start_time": "2022-04-27T22:27:54.322670Z"
    }
   },
   "outputs": [
    {
     "data": {
      "text/plain": [
       "0.7055214723926381"
      ]
     },
     "execution_count": 1515,
     "metadata": {},
     "output_type": "execute_result"
    }
   ],
   "source": [
    "num_acc=0\n",
    "for i in range(0,len(totalTestList)):\n",
    "    if true_P3[i]==y_pred[i]:\n",
    "        num_acc+=1\n",
    "total_acc_rate=num_acc/len(totalTestList)\n",
    "total_acc_rate"
   ]
  },
  {
   "cell_type": "code",
   "execution_count": 1516,
   "id": "a871499b",
   "metadata": {
    "ExecuteTime": {
     "end_time": "2022-04-27T22:28:03.805573Z",
     "start_time": "2022-04-27T22:28:03.800850Z"
    }
   },
   "outputs": [
    {
     "data": {
      "text/plain": [
       "0.681784246149443"
      ]
     },
     "execution_count": 1516,
     "metadata": {},
     "output_type": "execute_result"
    }
   ],
   "source": [
    "# f1_score(y_true, y_pred, average='macro')\n",
    "f1_score(true_P4, y_pred, average='macro')"
   ]
  },
  {
   "cell_type": "code",
   "execution_count": 1517,
   "id": "11c195d8",
   "metadata": {
    "ExecuteTime": {
     "end_time": "2022-04-27T22:28:13.133693Z",
     "start_time": "2022-04-27T22:28:13.055192Z"
    }
   },
   "outputs": [
    {
     "name": "stdout",
     "output_type": "stream",
     "text": [
      "[[15  6  0  0  0]\n",
      " [ 8 12  6  2  0]\n",
      " [ 0  5 26  8  0]\n",
      " [ 0  0  2 46  2]\n",
      " [ 0  0  0  9 16]]\n"
     ]
    },
    {
     "data": {
      "image/png": "[encoded data removed]",
      "text/plain": [
       "<Figure size 432x288 with 2 Axes>"
      ]
     },
     "metadata": {
      "needs_background": "light"
     },
     "output_type": "display_data"
    }
   ],
   "source": [
    "cm=confusion_matrix(true_P4, y_pred, labels=[\"A\", \"B\", \"C\",\"D\",\"F\"])\n",
    "labels_name=[\"A\", \"B\", \"C\", \"D\", \"F\"]\n",
    "print(cm)\n",
    "plot_confusion_matrix(cm, labels_name, \"Confusion Matrix\")\n",
    "plt.show()"
   ]
  },
  {
   "cell_type": "markdown",
   "id": "d5d4ab0e",
   "metadata": {},
   "source": [
    "# Regression"
   ]
  },
  {
   "cell_type": "code",
   "execution_count": 1518,
   "id": "fa0ca1a4",
   "metadata": {
    "ExecuteTime": {
     "end_time": "2022-04-27T22:28:45.820441Z",
     "start_time": "2022-04-27T22:28:45.800507Z"
    }
   },
   "outputs": [],
   "source": [
    "totalTrainList=pd.read_csv(\"/Users/jiazhidai/Downloads/python3/student_performance_train.csv\",delimiter=',')\n",
    "totalTestList=pd.read_csv(\"/Users/jiazhidai/Downloads/python3/student_performance_test.csv\",delimiter=',')"
   ]
  },
  {
   "cell_type": "code",
   "execution_count": 1519,
   "id": "1f884e4a",
   "metadata": {
    "ExecuteTime": {
     "end_time": "2022-04-27T22:28:54.857767Z",
     "start_time": "2022-04-27T22:28:54.784221Z"
    }
   },
   "outputs": [],
   "source": [
    "totalTrainList_wog123=totalTrainList.drop(['G1','G2','G3'],axis=1)\n",
    "totalTrainList_wog123_processed=pd.get_dummies(totalTrainList_wog123)\n",
    "x = totalTrainList_wog123_processed.values #returns a numpy array\n",
    "min_max_scaler = preprocessing.MinMaxScaler()\n",
    "x_scaled = min_max_scaler.fit_transform(x)\n",
    "totalTrainList_wog123_processed = pd.DataFrame(x_scaled,columns=totalTrainList_wog123_processed.columns)\n",
    "\n",
    "totalTestList_wog123=totalTestList.drop(['G1','G2','G3'],axis=1)\n",
    "totalTestList_wog123_processed=pd.get_dummies(totalTestList_wog123)\n",
    "x = totalTestList_wog123_processed.values #returns a numpy array\n",
    "min_max_scaler = preprocessing.MinMaxScaler()\n",
    "x_scaled = min_max_scaler.fit_transform(x)\n",
    "totalTestList_wog123_processed = pd.DataFrame(x_scaled,columns=totalTestList_wog123_processed.columns)\n",
    "\n",
    "\n",
    "totalTestList_wog3=totalTestList.drop(['G3'],axis=1)\n",
    "totalTestList_wog3_processed=pd.get_dummies(totalTestList_wog3)\n",
    "totalTestList_wog3_processed=normalize(totalTestList_wog3_processed)\n",
    "\n",
    "\n",
    "totalTrainList_processed=pd.get_dummies(totalTrainList)\n",
    "totalTrainList_processed=normalize(totalTrainList_processed)\n",
    "\n",
    "totalTestList_processed=pd.get_dummies(totalTestList)\n",
    "totalTestList_processed=normalize(totalTestList_processed)"
   ]
  },
  {
   "cell_type": "markdown",
   "id": "4d06fc0a",
   "metadata": {},
   "source": [
    "## Trivial System "
   ]
  },
  {
   "cell_type": "code",
   "execution_count": 1520,
   "id": "e9694b01",
   "metadata": {
    "ExecuteTime": {
     "end_time": "2022-04-27T22:33:30.531706Z",
     "start_time": "2022-04-27T22:33:30.519821Z"
    }
   },
   "outputs": [],
   "source": [
    "def trivial_regressor(target_g):\n",
    "#     final_out=0\n",
    "    for i in range(0,10):\n",
    "        MSE=0\n",
    "        shuffle_train, shuffle_validate=shuffle_data(totalTrainList)\n",
    "        \n",
    "        train_mean=shuffle_train[target_g].mean()\n",
    "        validate_output=shuffle_validate[target_g]\n",
    "        for j in validate_output:\n",
    "            MSE+=(j-train_mean)**2\n",
    "        if i==0:\n",
    "            min_MSE=400*400\n",
    "            result=train_mean\n",
    "        if min_MSE>MSE:\n",
    "            min_MSE=MSE\n",
    "            result=train_mean\n",
    "    return result"
   ]
  },
  {
   "cell_type": "code",
   "execution_count": 1522,
   "id": "dea87bae",
   "metadata": {
    "ExecuteTime": {
     "end_time": "2022-04-27T22:33:47.204685Z",
     "start_time": "2022-04-27T22:33:42.628766Z"
    }
   },
   "outputs": [],
   "source": [
    "final_mean_pred=[]\n",
    "final_mean=trivial_regressor('G1')\n",
    "for i in range(len(totalTestList)):\n",
    "    final_mean_pred.append(final_mean)"
   ]
  },
  {
   "cell_type": "code",
   "execution_count": 1524,
   "id": "52598317",
   "metadata": {
    "ExecuteTime": {
     "end_time": "2022-04-27T22:35:07.828202Z",
     "start_time": "2022-04-27T22:35:07.816738Z"
    }
   },
   "outputs": [],
   "source": [
    "final_MSE=mean_squared_error(totalTestList_processed['G1'], final_mean_pred)"
   ]
  },
  {
   "cell_type": "markdown",
   "id": "068fc7b8",
   "metadata": {},
   "source": [
    "mission 1"
   ]
  },
  {
   "cell_type": "code",
   "execution_count": 1527,
   "id": "20fef0ef",
   "metadata": {
    "ExecuteTime": {
     "end_time": "2022-04-27T22:35:49.376692Z",
     "start_time": "2022-04-27T22:35:49.373996Z"
    }
   },
   "outputs": [
    {
     "data": {
      "text/plain": [
       "2.8404314672678512"
      ]
     },
     "execution_count": 1527,
     "metadata": {},
     "output_type": "execute_result"
    }
   ],
   "source": [
    "final_RMSE=np.sqrt(final_MSE)\n",
    "final_RMSE"
   ]
  },
  {
   "cell_type": "code",
   "execution_count": 1529,
   "id": "0da806cb",
   "metadata": {
    "ExecuteTime": {
     "end_time": "2022-04-27T22:38:25.818309Z",
     "start_time": "2022-04-27T22:38:25.806209Z"
    }
   },
   "outputs": [
    {
     "data": {
      "text/plain": [
       "2.2437423312883435"
      ]
     },
     "execution_count": 1529,
     "metadata": {},
     "output_type": "execute_result"
    }
   ],
   "source": [
    "# mean_absolute_error(y_true, y_pred)\n",
    "mean_absolute_error(totalTestList_processed['G1'], final_mean_pred)"
   ]
  },
  {
   "cell_type": "code",
   "execution_count": 1530,
   "id": "af8cc4ad",
   "metadata": {
    "ExecuteTime": {
     "end_time": "2022-04-27T22:38:52.239254Z",
     "start_time": "2022-04-27T22:38:52.228152Z"
    }
   },
   "outputs": [
    {
     "data": {
      "text/plain": [
       "-9.53964862526746e-06"
      ]
     },
     "execution_count": 1530,
     "metadata": {},
     "output_type": "execute_result"
    }
   ],
   "source": [
    "# r2_score(y_true, y_pred)\n",
    "r2_score(totalTestList_processed['G1'], final_mean_pred)"
   ]
  },
  {
   "cell_type": "code",
   "execution_count": 1531,
   "id": "6b0acaf0",
   "metadata": {
    "ExecuteTime": {
     "end_time": "2022-04-27T22:43:15.113570Z",
     "start_time": "2022-04-27T22:43:10.480571Z"
    }
   },
   "outputs": [],
   "source": [
    "final_mean_pred=[]\n",
    "final_mean=trivial_regressor('G3')\n",
    "for i in range(len(totalTestList)):\n",
    "    final_mean_pred.append(final_mean)"
   ]
  },
  {
   "cell_type": "code",
   "execution_count": 1532,
   "id": "75524c70",
   "metadata": {
    "ExecuteTime": {
     "end_time": "2022-04-27T22:43:24.317446Z",
     "start_time": "2022-04-27T22:43:24.315328Z"
    }
   },
   "outputs": [],
   "source": [
    "final_MSE=mean_squared_error(totalTestList_processed['G3'], final_mean_pred)"
   ]
  },
  {
   "cell_type": "markdown",
   "id": "a1eb6548",
   "metadata": {},
   "source": [
    "mission 2 and 3"
   ]
  },
  {
   "cell_type": "code",
   "execution_count": 1533,
   "id": "59a08d96",
   "metadata": {
    "ExecuteTime": {
     "end_time": "2022-04-27T22:43:33.589240Z",
     "start_time": "2022-04-27T22:43:33.586744Z"
    }
   },
   "outputs": [
    {
     "data": {
      "text/plain": [
       "3.1755148367670407"
      ]
     },
     "execution_count": 1533,
     "metadata": {},
     "output_type": "execute_result"
    }
   ],
   "source": [
    "final_RMSE=np.sqrt(final_MSE)\n",
    "final_RMSE"
   ]
  },
  {
   "cell_type": "code",
   "execution_count": 1534,
   "id": "03d37214",
   "metadata": {
    "ExecuteTime": {
     "end_time": "2022-04-27T22:43:42.872259Z",
     "start_time": "2022-04-27T22:43:42.869177Z"
    }
   },
   "outputs": [
    {
     "data": {
      "text/plain": [
       "2.4712883435582818"
      ]
     },
     "execution_count": 1534,
     "metadata": {},
     "output_type": "execute_result"
    }
   ],
   "source": [
    "# mean_absolute_error(y_true, y_pred)\n",
    "mean_absolute_error(totalTestList_processed['G3'], final_mean_pred)"
   ]
  },
  {
   "cell_type": "code",
   "execution_count": 1535,
   "id": "c2522446",
   "metadata": {
    "ExecuteTime": {
     "end_time": "2022-04-27T22:43:52.212670Z",
     "start_time": "2022-04-27T22:43:52.210031Z"
    }
   },
   "outputs": [
    {
     "data": {
      "text/plain": [
       "-0.0007133822386899968"
      ]
     },
     "execution_count": 1535,
     "metadata": {},
     "output_type": "execute_result"
    }
   ],
   "source": [
    "# r2_score(y_true, y_pred)\n",
    "r2_score(totalTestList_processed['G3'], final_mean_pred)"
   ]
  },
  {
   "cell_type": "markdown",
   "id": "e4f8d751",
   "metadata": {},
   "source": [
    "## Baseline model"
   ]
  },
  {
   "cell_type": "markdown",
   "id": "80c1a976",
   "metadata": {},
   "source": [
    "### 1NN"
   ]
  },
  {
   "cell_type": "code",
   "execution_count": 1598,
   "id": "8fc7d643",
   "metadata": {
    "ExecuteTime": {
     "end_time": "2022-04-27T23:37:36.425908Z",
     "start_time": "2022-04-27T23:37:36.411326Z"
    }
   },
   "outputs": [],
   "source": [
    "def pred_y_1NN(target_g):\n",
    "    min_MSE=400*400\n",
    "    for i in range(10):\n",
    "        shuffle_train, shuffle_validate=shuffle_data(totalTrainList_processed)\n",
    "        \n",
    "        shuffle_train_wog123=shuffle_train.drop(['G1','G2','G3'],axis=1)\n",
    "        shuffle_train_gclass=shuffle_train[target_g]\n",
    "        shuffle_validate_wog123=shuffle_validate.drop(['G1','G2','G3'],axis=1)\n",
    "        shuffle_validate_gclass=shuffle_validate[target_g]\n",
    "        \n",
    "        neigh = KNeighborsRegressor(n_neighbors=1)\n",
    "        neigh.fit(shuffle_train_wog123, shuffle_train_gclass)\n",
    "        pred_y=neigh.predict(shuffle_validate_wog123)\n",
    "        test_y=shuffle_validate_gclass\n",
    "        \n",
    "        final_MSE=mean_squared_error(test_y, pred_y)\n",
    "        if i==0:\n",
    "            min_MSE=final_MSE\n",
    "            \n",
    "            final_neigh=neigh\n",
    "        if final_MSE<min_MSE:\n",
    "            min_MSE=final_MSE\n",
    "            \n",
    "            final_neigh=neigh\n",
    "    \n",
    "    \n",
    "    final_pred_y=final_neigh.predict(totalTestList_wog123_processed)\n",
    "    \n",
    "    return final_pred_y\n",
    "        "
   ]
  },
  {
   "cell_type": "code",
   "execution_count": 1599,
   "id": "adf928a3",
   "metadata": {
    "ExecuteTime": {
     "end_time": "2022-04-27T23:37:55.175837Z",
     "start_time": "2022-04-27T23:37:45.769886Z"
    }
   },
   "outputs": [],
   "source": [
    "pred_y=pred_y_1NN('G1')\n",
    "test_y=totalTestList['G1']"
   ]
  },
  {
   "cell_type": "markdown",
   "id": "be3b0f11",
   "metadata": {},
   "source": [
    "mission 1"
   ]
  },
  {
   "cell_type": "code",
   "execution_count": 1600,
   "id": "82c7ca26",
   "metadata": {
    "ExecuteTime": {
     "end_time": "2022-04-27T23:38:04.750234Z",
     "start_time": "2022-04-27T23:38:04.747151Z"
    }
   },
   "outputs": [
    {
     "data": {
      "text/plain": [
       "3.1748629263681596"
      ]
     },
     "execution_count": 1600,
     "metadata": {},
     "output_type": "execute_result"
    }
   ],
   "source": [
    "final_MSE=mean_squared_error(test_y, pred_y)\n",
    "final_RMSE=np.sqrt(final_MSE)\n",
    "final_RMSE"
   ]
  },
  {
   "cell_type": "code",
   "execution_count": 1601,
   "id": "bf330cf6",
   "metadata": {
    "ExecuteTime": {
     "end_time": "2022-04-27T23:38:13.920515Z",
     "start_time": "2022-04-27T23:38:13.917899Z"
    }
   },
   "outputs": [
    {
     "data": {
      "text/plain": [
       "2.3865030674846626"
      ]
     },
     "execution_count": 1601,
     "metadata": {},
     "output_type": "execute_result"
    }
   ],
   "source": [
    "# mean_absolute_error(y_true, y_pred)\n",
    "mean_absolute_error(test_y, pred_y)"
   ]
  },
  {
   "cell_type": "code",
   "execution_count": 1602,
   "id": "da15295d",
   "metadata": {
    "ExecuteTime": {
     "end_time": "2022-04-27T23:38:23.044020Z",
     "start_time": "2022-04-27T23:38:23.041391Z"
    }
   },
   "outputs": [
    {
     "data": {
      "text/plain": [
       "-0.2493538846229204"
      ]
     },
     "execution_count": 1602,
     "metadata": {},
     "output_type": "execute_result"
    }
   ],
   "source": [
    "# r2_score(y_true, y_pred)\n",
    "r2_score(test_y, pred_y)"
   ]
  },
  {
   "cell_type": "code",
   "execution_count": 1603,
   "id": "54a5a079",
   "metadata": {
    "ExecuteTime": {
     "end_time": "2022-04-27T23:38:41.580513Z",
     "start_time": "2022-04-27T23:38:32.165531Z"
    }
   },
   "outputs": [],
   "source": [
    "pred_y=pred_y_1NN('G3')\n",
    "test_y=totalTestList['G3']"
   ]
  },
  {
   "cell_type": "markdown",
   "id": "5db36627",
   "metadata": {},
   "source": [
    "mission 2"
   ]
  },
  {
   "cell_type": "code",
   "execution_count": 1604,
   "id": "30e0416a",
   "metadata": {
    "ExecuteTime": {
     "end_time": "2022-04-27T23:38:50.927078Z",
     "start_time": "2022-04-27T23:38:50.924417Z"
    }
   },
   "outputs": [
    {
     "data": {
      "text/plain": [
       "3.2700537508949807"
      ]
     },
     "execution_count": 1604,
     "metadata": {},
     "output_type": "execute_result"
    }
   ],
   "source": [
    "final_MSE=mean_squared_error(test_y, pred_y)\n",
    "final_RMSE=np.sqrt(final_MSE)\n",
    "final_RMSE"
   ]
  },
  {
   "cell_type": "code",
   "execution_count": 1605,
   "id": "a3bc75c6",
   "metadata": {
    "ExecuteTime": {
     "end_time": "2022-04-27T23:39:00.140657Z",
     "start_time": "2022-04-27T23:39:00.137837Z"
    }
   },
   "outputs": [
    {
     "data": {
      "text/plain": [
       "2.496932515337423"
      ]
     },
     "execution_count": 1605,
     "metadata": {},
     "output_type": "execute_result"
    }
   ],
   "source": [
    "# mean_absolute_error(y_true, y_pred)\n",
    "mean_absolute_error(test_y, pred_y)"
   ]
  },
  {
   "cell_type": "code",
   "execution_count": 1606,
   "id": "0799e46c",
   "metadata": {
    "ExecuteTime": {
     "end_time": "2022-04-27T23:39:09.276255Z",
     "start_time": "2022-04-27T23:39:09.273664Z"
    }
   },
   "outputs": [
    {
     "data": {
      "text/plain": [
       "-0.06118523277356114"
      ]
     },
     "execution_count": 1606,
     "metadata": {},
     "output_type": "execute_result"
    }
   ],
   "source": [
    "# r2_score(y_true, y_pred)\n",
    "r2_score(test_y, pred_y)"
   ]
  },
  {
   "cell_type": "code",
   "execution_count": 1577,
   "id": "c9ea3a17",
   "metadata": {
    "ExecuteTime": {
     "end_time": "2022-04-27T23:24:04.847179Z",
     "start_time": "2022-04-27T23:24:04.832208Z"
    }
   },
   "outputs": [],
   "source": [
    "def pred_y_1NN2(target_g):\n",
    "    min_MSE=400*400\n",
    "    for i in range(10):\n",
    "        shuffle_train, shuffle_validate=shuffle_data(totalTrainList_processed)\n",
    "        \n",
    "        shuffle_train_wog3=shuffle_train.drop(['G3'],axis=1)\n",
    "        shuffle_train_gclass=shuffle_train[target_g]\n",
    "        shuffle_validate_wog3=shuffle_validate.drop(['G3'],axis=1)\n",
    "        shuffle_validate_gclass=shuffle_validate[target_g]\n",
    "        \n",
    "        neigh = KNeighborsRegressor(n_neighbors=1)\n",
    "        neigh.fit(shuffle_train_wog3, shuffle_train_gclass)\n",
    "        pred_y=neigh.predict(shuffle_validate_wog3)\n",
    "        test_y=shuffle_validate_gclass\n",
    "        \n",
    "        final_MSE=mean_squared_error(test_y, pred_y)\n",
    "        if i==0:\n",
    "            min_MSE=final_MSE\n",
    "            \n",
    "            final_neigh=neigh\n",
    "        if final_MSE<min_MSE:\n",
    "            min_MSE=final_MSE\n",
    "            \n",
    "            final_neigh=neigh\n",
    "    \n",
    "    \n",
    "    final_pred_y=final_neigh.predict(totalTestList_wog3_processed)\n",
    "    \n",
    "    return final_pred_y"
   ]
  },
  {
   "cell_type": "code",
   "execution_count": 1578,
   "id": "6d852524",
   "metadata": {
    "ExecuteTime": {
     "end_time": "2022-04-27T23:24:23.646436Z",
     "start_time": "2022-04-27T23:24:14.110173Z"
    }
   },
   "outputs": [],
   "source": [
    "pred_y=pred_y_1NN2('G3')\n",
    "test_y=totalTestList['G3']"
   ]
  },
  {
   "cell_type": "markdown",
   "id": "d1a82a7f",
   "metadata": {},
   "source": [
    "mission 3"
   ]
  },
  {
   "cell_type": "code",
   "execution_count": 1579,
   "id": "ce3d1d89",
   "metadata": {
    "ExecuteTime": {
     "end_time": "2022-04-27T23:24:32.847178Z",
     "start_time": "2022-04-27T23:24:32.844345Z"
    }
   },
   "outputs": [
    {
     "data": {
      "text/plain": [
       "1.3566468949384038"
      ]
     },
     "execution_count": 1579,
     "metadata": {},
     "output_type": "execute_result"
    }
   ],
   "source": [
    "final_MSE=mean_squared_error(test_y, pred_y)\n",
    "final_RMSE=np.sqrt(final_MSE)\n",
    "final_RMSE"
   ]
  },
  {
   "cell_type": "code",
   "execution_count": 1580,
   "id": "98ec5656",
   "metadata": {
    "ExecuteTime": {
     "end_time": "2022-04-27T23:24:41.971289Z",
     "start_time": "2022-04-27T23:24:41.968522Z"
    }
   },
   "outputs": [
    {
     "data": {
      "text/plain": [
       "0.9447852760736196"
      ]
     },
     "execution_count": 1580,
     "metadata": {},
     "output_type": "execute_result"
    }
   ],
   "source": [
    "# mean_absolute_error(y_true, y_pred)\n",
    "mean_absolute_error(test_y, pred_y)"
   ]
  },
  {
   "cell_type": "code",
   "execution_count": 1581,
   "id": "71babc2d",
   "metadata": {
    "ExecuteTime": {
     "end_time": "2022-04-27T23:24:51.091581Z",
     "start_time": "2022-04-27T23:24:51.089095Z"
    }
   },
   "outputs": [
    {
     "data": {
      "text/plain": [
       "0.8173519392816591"
      ]
     },
     "execution_count": 1581,
     "metadata": {},
     "output_type": "execute_result"
    }
   ],
   "source": [
    "# r2_score(y_true, y_pred)\n",
    "r2_score(test_y, pred_y)"
   ]
  },
  {
   "cell_type": "markdown",
   "id": "eeb9724e",
   "metadata": {},
   "source": [
    "### Linear Regression"
   ]
  },
  {
   "cell_type": "code",
   "execution_count": 1582,
   "id": "68a07d8d",
   "metadata": {
    "ExecuteTime": {
     "end_time": "2022-04-27T23:29:27.622925Z",
     "start_time": "2022-04-27T23:29:27.611893Z"
    }
   },
   "outputs": [],
   "source": [
    "def pred_y_LR(target_g):\n",
    "    min_MSE=400*400\n",
    "    for i in range(10):\n",
    "        shuffle_train, shuffle_validate=shuffle_data(totalTrainList_processed)\n",
    "        \n",
    "        shuffle_train_wog123=shuffle_train.drop(['G1','G2','G3'],axis=1)\n",
    "        shuffle_train_gclass=shuffle_train[target_g]\n",
    "        shuffle_validate_wog123=shuffle_validate.drop(['G1','G2','G3'],axis=1)\n",
    "        shuffle_validate_gclass=shuffle_validate[target_g]\n",
    "        \n",
    "        reg = LinearRegression().fit(shuffle_train_wog123, shuffle_train_gclass)\n",
    "        pred_y=reg.predict(shuffle_validate_wog123)\n",
    "        test_y=shuffle_validate_gclass\n",
    "        \n",
    "        final_MSE=mean_squared_error(test_y, pred_y)\n",
    "        if i==0:\n",
    "            min_MSE=final_MSE\n",
    "            \n",
    "            final_reg=reg\n",
    "        if final_MSE<min_MSE:\n",
    "            min_MSE=final_MSE\n",
    "            \n",
    "            final_reg=reg\n",
    "    \n",
    "    \n",
    "    final_pred_y=final_reg.predict(totalTestList_wog123_processed)\n",
    "    \n",
    "    return final_pred_y\n",
    "        "
   ]
  },
  {
   "cell_type": "code",
   "execution_count": 1583,
   "id": "55381853",
   "metadata": {
    "ExecuteTime": {
     "end_time": "2022-04-27T23:29:46.646513Z",
     "start_time": "2022-04-27T23:29:37.152057Z"
    }
   },
   "outputs": [],
   "source": [
    "pred_y=pred_y_LR('G1')\n",
    "test_y=totalTestList['G1']"
   ]
  },
  {
   "cell_type": "markdown",
   "id": "c8c09077",
   "metadata": {},
   "source": [
    "mission 1"
   ]
  },
  {
   "cell_type": "code",
   "execution_count": 1584,
   "id": "31443d0f",
   "metadata": {
    "ExecuteTime": {
     "end_time": "2022-04-27T23:29:55.915785Z",
     "start_time": "2022-04-27T23:29:55.912875Z"
    }
   },
   "outputs": [
    {
     "data": {
      "text/plain": [
       "2.416933844796481"
      ]
     },
     "execution_count": 1584,
     "metadata": {},
     "output_type": "execute_result"
    }
   ],
   "source": [
    "final_MSE=mean_squared_error(test_y, pred_y)\n",
    "final_RMSE=np.sqrt(final_MSE)\n",
    "final_RMSE"
   ]
  },
  {
   "cell_type": "code",
   "execution_count": 1585,
   "id": "6c90a8f9",
   "metadata": {
    "ExecuteTime": {
     "end_time": "2022-04-27T23:30:05.050652Z",
     "start_time": "2022-04-27T23:30:05.048022Z"
    }
   },
   "outputs": [
    {
     "data": {
      "text/plain": [
       "1.7657208588957056"
      ]
     },
     "execution_count": 1585,
     "metadata": {},
     "output_type": "execute_result"
    }
   ],
   "source": [
    "# mean_absolute_error(y_true, y_pred)\n",
    "mean_absolute_error(test_y, pred_y)"
   ]
  },
  {
   "cell_type": "code",
   "execution_count": 1586,
   "id": "bd43f667",
   "metadata": {
    "ExecuteTime": {
     "end_time": "2022-04-27T23:30:14.180925Z",
     "start_time": "2022-04-27T23:30:14.178133Z"
    }
   },
   "outputs": [
    {
     "data": {
      "text/plain": [
       "0.2759558666168279"
      ]
     },
     "execution_count": 1586,
     "metadata": {},
     "output_type": "execute_result"
    }
   ],
   "source": [
    "# r2_score(y_true, y_pred)\n",
    "r2_score(test_y, pred_y)"
   ]
  },
  {
   "cell_type": "markdown",
   "id": "34efa1b5",
   "metadata": {},
   "source": [
    "mission 2"
   ]
  },
  {
   "cell_type": "code",
   "execution_count": 1587,
   "id": "e21195df",
   "metadata": {
    "ExecuteTime": {
     "end_time": "2022-04-27T23:31:13.270413Z",
     "start_time": "2022-04-27T23:31:03.530998Z"
    }
   },
   "outputs": [],
   "source": [
    "pred_y=pred_y_LR('G3')\n",
    "test_y=totalTestList['G3']"
   ]
  },
  {
   "cell_type": "code",
   "execution_count": 1588,
   "id": "4fe3dbf5",
   "metadata": {
    "ExecuteTime": {
     "end_time": "2022-04-27T23:31:22.808361Z",
     "start_time": "2022-04-27T23:31:22.805376Z"
    }
   },
   "outputs": [
    {
     "data": {
      "text/plain": [
       "2.7177813220377347"
      ]
     },
     "execution_count": 1588,
     "metadata": {},
     "output_type": "execute_result"
    }
   ],
   "source": [
    "final_MSE=mean_squared_error(test_y, pred_y)\n",
    "final_RMSE=np.sqrt(final_MSE)\n",
    "final_RMSE"
   ]
  },
  {
   "cell_type": "code",
   "execution_count": 1589,
   "id": "cfae663e",
   "metadata": {
    "ExecuteTime": {
     "end_time": "2022-04-27T23:31:32.240053Z",
     "start_time": "2022-04-27T23:31:32.237532Z"
    }
   },
   "outputs": [
    {
     "data": {
      "text/plain": [
       "1.9497699386503067"
      ]
     },
     "execution_count": 1589,
     "metadata": {},
     "output_type": "execute_result"
    }
   ],
   "source": [
    "# mean_absolute_error(y_true, y_pred)\n",
    "mean_absolute_error(test_y, pred_y)"
   ]
  },
  {
   "cell_type": "code",
   "execution_count": 1590,
   "id": "d6f3273f",
   "metadata": {
    "ExecuteTime": {
     "end_time": "2022-04-27T23:31:41.684394Z",
     "start_time": "2022-04-27T23:31:41.681704Z"
    }
   },
   "outputs": [
    {
     "data": {
      "text/plain": [
       "0.26698909726009235"
      ]
     },
     "execution_count": 1590,
     "metadata": {},
     "output_type": "execute_result"
    }
   ],
   "source": [
    "# r2_score(y_true, y_pred)\n",
    "r2_score(test_y, pred_y)"
   ]
  },
  {
   "cell_type": "code",
   "execution_count": 1591,
   "id": "6782d735",
   "metadata": {
    "ExecuteTime": {
     "end_time": "2022-04-27T23:32:37.295519Z",
     "start_time": "2022-04-27T23:32:37.281973Z"
    }
   },
   "outputs": [],
   "source": [
    "def pred_y_LR2(target_g):\n",
    "    min_MSE=400*400\n",
    "    for i in range(10):\n",
    "        shuffle_train, shuffle_validate=shuffle_data(totalTrainList_processed)\n",
    "        \n",
    "        shuffle_train_wog3=shuffle_train.drop(['G3'],axis=1)\n",
    "        shuffle_train_gclass=shuffle_train[target_g]\n",
    "        shuffle_validate_wog3=shuffle_validate.drop(['G3'],axis=1)\n",
    "        shuffle_validate_gclass=shuffle_validate[target_g]\n",
    "        \n",
    "        reg = LinearRegression().fit(shuffle_train_wog3, shuffle_train_gclass)\n",
    "        pred_y=reg.predict(shuffle_validate_wog3)\n",
    "        test_y=shuffle_validate_gclass\n",
    "        \n",
    "        final_MSE=mean_squared_error(test_y, pred_y)\n",
    "        if i==0:\n",
    "            min_MSE=final_MSE\n",
    "            \n",
    "            final_reg=reg\n",
    "        if final_MSE<min_MSE:\n",
    "            min_MSE=final_MSE\n",
    "            \n",
    "            final_reg=reg\n",
    "    \n",
    "    \n",
    "    final_pred_y=final_reg.predict(totalTestList_wog3_processed)\n",
    "    \n",
    "    return final_pred_y"
   ]
  },
  {
   "cell_type": "code",
   "execution_count": 1592,
   "id": "2f1910bb",
   "metadata": {
    "ExecuteTime": {
     "end_time": "2022-04-27T23:32:56.434413Z",
     "start_time": "2022-04-27T23:32:46.696555Z"
    }
   },
   "outputs": [],
   "source": [
    "pred_y=pred_y_LR2('G3')\n",
    "test_y=totalTestList['G3']"
   ]
  },
  {
   "cell_type": "markdown",
   "id": "0b7a9f6f",
   "metadata": {
    "ExecuteTime": {
     "end_time": "2022-04-28T00:20:51.927931Z",
     "start_time": "2022-04-28T00:20:51.912302Z"
    }
   },
   "source": [
    "mission 3"
   ]
  },
  {
   "cell_type": "code",
   "execution_count": 1593,
   "id": "9a64ac2d",
   "metadata": {
    "ExecuteTime": {
     "end_time": "2022-04-27T23:33:05.757867Z",
     "start_time": "2022-04-27T23:33:05.755121Z"
    }
   },
   "outputs": [
    {
     "data": {
      "text/plain": [
       "1.0827802572551912"
      ]
     },
     "execution_count": 1593,
     "metadata": {},
     "output_type": "execute_result"
    }
   ],
   "source": [
    "final_MSE=mean_squared_error(test_y, pred_y)\n",
    "final_RMSE=np.sqrt(final_MSE)\n",
    "final_RMSE"
   ]
  },
  {
   "cell_type": "code",
   "execution_count": 1594,
   "id": "3e22e105",
   "metadata": {
    "ExecuteTime": {
     "end_time": "2022-04-27T23:33:14.892504Z",
     "start_time": "2022-04-27T23:33:14.889875Z"
    }
   },
   "outputs": [
    {
     "data": {
      "text/plain": [
       "0.7977257476993865"
      ]
     },
     "execution_count": 1594,
     "metadata": {},
     "output_type": "execute_result"
    }
   ],
   "source": [
    "# mean_absolute_error(y_true, y_pred)\n",
    "mean_absolute_error(test_y, pred_y)"
   ]
  },
  {
   "cell_type": "code",
   "execution_count": 1595,
   "id": "83c697d2",
   "metadata": {
    "ExecuteTime": {
     "end_time": "2022-04-27T23:33:24.044649Z",
     "start_time": "2022-04-27T23:33:24.041793Z"
    }
   },
   "outputs": [
    {
     "data": {
      "text/plain": [
       "0.8836511561409621"
      ]
     },
     "execution_count": 1595,
     "metadata": {},
     "output_type": "execute_result"
    }
   ],
   "source": [
    "# r2_score(y_true, y_pred)\n",
    "r2_score(test_y, pred_y)"
   ]
  },
  {
   "cell_type": "markdown",
   "id": "286544b7",
   "metadata": {},
   "source": [
    "## kNN"
   ]
  },
  {
   "cell_type": "code",
   "execution_count": 1607,
   "id": "07c7e4fb",
   "metadata": {
    "ExecuteTime": {
     "end_time": "2022-04-27T23:39:18.428520Z",
     "start_time": "2022-04-27T23:39:18.424982Z"
    }
   },
   "outputs": [],
   "source": [
    "def pred_y_kNN(target_g,neighbor):\n",
    "    min_MSE=400*400\n",
    "    for i in range(10):\n",
    "        shuffle_train, shuffle_validate=shuffle_data(totalTrainList_processed)\n",
    "        \n",
    "        shuffle_train_wog123=shuffle_train.drop(['G1','G2','G3'],axis=1)\n",
    "        shuffle_train_gclass=shuffle_train[target_g]\n",
    "        shuffle_validate_wog123=shuffle_validate.drop(['G1','G2','G3'],axis=1)\n",
    "        shuffle_validate_gclass=shuffle_validate[target_g]\n",
    "        \n",
    "        neigh = KNeighborsRegressor(n_neighbors=neighbor)\n",
    "        neigh.fit(shuffle_train_wog123, shuffle_train_gclass)\n",
    "        pred_y=neigh.predict(shuffle_validate_wog123)\n",
    "        test_y=shuffle_validate_gclass\n",
    "        \n",
    "        final_MSE=mean_squared_error(test_y, pred_y)\n",
    "        if i==0:\n",
    "            min_MSE=final_MSE\n",
    "            \n",
    "            final_neigh=neigh\n",
    "        if final_MSE<min_MSE:\n",
    "            min_MSE=final_MSE\n",
    "            \n",
    "            final_neigh=neigh\n",
    "    \n",
    "    \n",
    "    final_pred_y=final_neigh.predict(totalTestList_wog123_processed)\n",
    "    \n",
    "    return final_pred_y\n",
    "        "
   ]
  },
  {
   "cell_type": "code",
   "execution_count": 1608,
   "id": "d487b151",
   "metadata": {
    "ExecuteTime": {
     "end_time": "2022-04-27T23:39:37.373927Z",
     "start_time": "2022-04-27T23:39:27.907284Z"
    }
   },
   "outputs": [],
   "source": [
    "pred_y=pred_y_kNN('G1',15)\n",
    "test_y=totalTestList['G1']"
   ]
  },
  {
   "cell_type": "markdown",
   "id": "e74006a9",
   "metadata": {},
   "source": [
    "mission 1"
   ]
  },
  {
   "cell_type": "code",
   "execution_count": 1609,
   "id": "0e6b270b",
   "metadata": {
    "ExecuteTime": {
     "end_time": "2022-04-27T23:39:46.492474Z",
     "start_time": "2022-04-27T23:39:46.489649Z"
    }
   },
   "outputs": [
    {
     "data": {
      "text/plain": [
       "2.6475490588630404"
      ]
     },
     "execution_count": 1609,
     "metadata": {},
     "output_type": "execute_result"
    }
   ],
   "source": [
    "final_MSE=mean_squared_error(test_y, pred_y)\n",
    "final_RMSE=np.sqrt(final_MSE)\n",
    "final_RMSE"
   ]
  },
  {
   "cell_type": "code",
   "execution_count": 1610,
   "id": "29364cbe",
   "metadata": {
    "ExecuteTime": {
     "end_time": "2022-04-27T23:39:55.712446Z",
     "start_time": "2022-04-27T23:39:55.709554Z"
    }
   },
   "outputs": [
    {
     "data": {
      "text/plain": [
       "2.0482617586912064"
      ]
     },
     "execution_count": 1610,
     "metadata": {},
     "output_type": "execute_result"
    }
   ],
   "source": [
    "# mean_absolute_error(y_true, y_pred)\n",
    "mean_absolute_error(test_y, pred_y)"
   ]
  },
  {
   "cell_type": "code",
   "execution_count": 1611,
   "id": "6595379b",
   "metadata": {
    "ExecuteTime": {
     "end_time": "2022-04-27T23:40:04.899728Z",
     "start_time": "2022-04-27T23:40:04.897005Z"
    }
   },
   "outputs": [
    {
     "data": {
      "text/plain": [
       "0.13119253253384022"
      ]
     },
     "execution_count": 1611,
     "metadata": {},
     "output_type": "execute_result"
    }
   ],
   "source": [
    "# r2_score(y_true, y_pred)\n",
    "r2_score(test_y, pred_y)"
   ]
  },
  {
   "cell_type": "markdown",
   "id": "2e89f59e",
   "metadata": {},
   "source": [
    "mission 2"
   ]
  },
  {
   "cell_type": "code",
   "execution_count": 1612,
   "id": "4e92627b",
   "metadata": {
    "ExecuteTime": {
     "end_time": "2022-04-27T23:40:43.062284Z",
     "start_time": "2022-04-27T23:40:33.234351Z"
    }
   },
   "outputs": [],
   "source": [
    "pred_y=pred_y_kNN('G3',15)\n",
    "test_y=totalTestList['G3']"
   ]
  },
  {
   "cell_type": "code",
   "execution_count": 1613,
   "id": "b1aa0f21",
   "metadata": {
    "ExecuteTime": {
     "end_time": "2022-04-27T23:40:52.607570Z",
     "start_time": "2022-04-27T23:40:52.604241Z"
    }
   },
   "outputs": [
    {
     "data": {
      "text/plain": [
       "2.9182966523396106"
      ]
     },
     "execution_count": 1613,
     "metadata": {},
     "output_type": "execute_result"
    }
   ],
   "source": [
    "final_MSE=mean_squared_error(test_y, pred_y)\n",
    "final_RMSE=np.sqrt(final_MSE)\n",
    "final_RMSE"
   ]
  },
  {
   "cell_type": "code",
   "execution_count": 1614,
   "id": "b12f4a46",
   "metadata": {
    "ExecuteTime": {
     "end_time": "2022-04-27T23:41:01.989176Z",
     "start_time": "2022-04-27T23:41:01.986343Z"
    }
   },
   "outputs": [
    {
     "data": {
      "text/plain": [
       "2.2482617586912066"
      ]
     },
     "execution_count": 1614,
     "metadata": {},
     "output_type": "execute_result"
    }
   ],
   "source": [
    "# mean_absolute_error(y_true, y_pred)\n",
    "mean_absolute_error(test_y, pred_y)"
   ]
  },
  {
   "cell_type": "code",
   "execution_count": 1615,
   "id": "86e3849f",
   "metadata": {
    "ExecuteTime": {
     "end_time": "2022-04-27T23:41:11.270494Z",
     "start_time": "2022-04-27T23:41:11.267293Z"
    }
   },
   "outputs": [
    {
     "data": {
      "text/plain": [
       "0.15483736395811332"
      ]
     },
     "execution_count": 1615,
     "metadata": {},
     "output_type": "execute_result"
    }
   ],
   "source": [
    "# r2_score(y_true, y_pred)\n",
    "r2_score(test_y, pred_y)"
   ]
  },
  {
   "cell_type": "code",
   "execution_count": 1618,
   "id": "a5156538",
   "metadata": {
    "ExecuteTime": {
     "end_time": "2022-04-27T23:42:52.303292Z",
     "start_time": "2022-04-27T23:42:52.286379Z"
    }
   },
   "outputs": [],
   "source": [
    "def pred_y_kNN2(target_g,neighbor):\n",
    "    min_MSE=400*400\n",
    "    for i in range(10):\n",
    "        shuffle_train, shuffle_validate=shuffle_data(totalTrainList_processed)\n",
    "        \n",
    "        shuffle_train_wog3=shuffle_train.drop(['G3'],axis=1)\n",
    "        shuffle_train_gclass=shuffle_train[target_g]\n",
    "        shuffle_validate_wog3=shuffle_validate.drop(['G3'],axis=1)\n",
    "        shuffle_validate_gclass=shuffle_validate[target_g]\n",
    "        \n",
    "        neigh = KNeighborsRegressor(n_neighbors=neighbor)\n",
    "        neigh.fit(shuffle_train_wog3, shuffle_train_gclass)\n",
    "        pred_y=neigh.predict(shuffle_validate_wog3)\n",
    "        test_y=shuffle_validate_gclass\n",
    "        \n",
    "        final_MSE=mean_squared_error(test_y, pred_y)\n",
    "        if i==0:\n",
    "            min_MSE=final_MSE\n",
    "            \n",
    "            final_neigh=neigh\n",
    "        if final_MSE<min_MSE:\n",
    "            min_MSE=final_MSE\n",
    "            \n",
    "            final_neigh=neigh\n",
    "    \n",
    "    \n",
    "    final_pred_y=final_neigh.predict(totalTestList_wog3_processed)\n",
    "    \n",
    "    return final_pred_y\n",
    "        "
   ]
  },
  {
   "cell_type": "code",
   "execution_count": 1619,
   "id": "4eab3c84",
   "metadata": {
    "ExecuteTime": {
     "end_time": "2022-04-27T23:43:11.347989Z",
     "start_time": "2022-04-27T23:43:01.735019Z"
    }
   },
   "outputs": [],
   "source": [
    "pred_y=pred_y_kNN2('G3',15)\n",
    "test_y=totalTestList['G3']"
   ]
  },
  {
   "cell_type": "markdown",
   "id": "01d49bbe",
   "metadata": {},
   "source": [
    "mission 3"
   ]
  },
  {
   "cell_type": "code",
   "execution_count": 1620,
   "id": "162769dd",
   "metadata": {
    "ExecuteTime": {
     "end_time": "2022-04-27T23:43:20.723912Z",
     "start_time": "2022-04-27T23:43:20.721116Z"
    }
   },
   "outputs": [
    {
     "data": {
      "text/plain": [
       "1.1161820210081388"
      ]
     },
     "execution_count": 1620,
     "metadata": {},
     "output_type": "execute_result"
    }
   ],
   "source": [
    "final_MSE=mean_squared_error(test_y, pred_y)\n",
    "final_RMSE=np.sqrt(final_MSE)\n",
    "final_RMSE"
   ]
  },
  {
   "cell_type": "code",
   "execution_count": 1621,
   "id": "d3b6b3d0",
   "metadata": {
    "ExecuteTime": {
     "end_time": "2022-04-27T23:43:30.218412Z",
     "start_time": "2022-04-27T23:43:30.215580Z"
    }
   },
   "outputs": [
    {
     "data": {
      "text/plain": [
       "0.7918200408997955"
      ]
     },
     "execution_count": 1621,
     "metadata": {},
     "output_type": "execute_result"
    }
   ],
   "source": [
    "# mean_absolute_error(y_true, y_pred)\n",
    "mean_absolute_error(test_y, pred_y)"
   ]
  },
  {
   "cell_type": "code",
   "execution_count": 1622,
   "id": "f2ea0c1b",
   "metadata": {
    "ExecuteTime": {
     "end_time": "2022-04-27T23:43:39.418535Z",
     "start_time": "2022-04-27T23:43:39.415634Z"
    }
   },
   "outputs": [
    {
     "data": {
      "text/plain": [
       "0.8763621453282602"
      ]
     },
     "execution_count": 1622,
     "metadata": {},
     "output_type": "execute_result"
    }
   ],
   "source": [
    "# r2_score(y_true, y_pred)\n",
    "r2_score(test_y, pred_y)"
   ]
  },
  {
   "cell_type": "markdown",
   "id": "e2657429",
   "metadata": {},
   "source": [
    "## SVR"
   ]
  },
  {
   "cell_type": "code",
   "execution_count": 1623,
   "id": "2f3a695f",
   "metadata": {
    "ExecuteTime": {
     "end_time": "2022-04-27T23:45:47.694858Z",
     "start_time": "2022-04-27T23:45:47.678022Z"
    }
   },
   "outputs": [],
   "source": [
    "def pred_y_SVR(target_g):\n",
    "    min_MSE=400*400\n",
    "    for i in range(10):\n",
    "        shuffle_train, shuffle_validate=shuffle_data(totalTrainList_processed)\n",
    "        \n",
    "        shuffle_train_wog123=shuffle_train.drop(['G1','G2','G3'],axis=1)\n",
    "        shuffle_train_gclass=shuffle_train[target_g]\n",
    "        shuffle_validate_wog123=shuffle_validate.drop(['G1','G2','G3'],axis=1)\n",
    "        shuffle_validate_gclass=shuffle_validate[target_g]\n",
    "        \n",
    "        clf = SVR(C=1.0, epsilon=0.2)\n",
    "        clf.fit(shuffle_train_wog123, shuffle_train_gclass)\n",
    "        pred_y = clf.predict(shuffle_validate_wog123)\n",
    "        test_y = shuffle_validate_gclass\n",
    "        \n",
    "        final_MSE=mean_squared_error(test_y, pred_y)\n",
    "        if i==0:\n",
    "            min_MSE=final_MSE\n",
    "            \n",
    "            final_clf=clf\n",
    "        if final_MSE<min_MSE:\n",
    "            min_MSE=final_MSE\n",
    "            \n",
    "            final_clf=clf\n",
    "    \n",
    "    \n",
    "    final_pred_y=final_clf.predict(totalTestList_wog123_processed)\n",
    "    \n",
    "    return final_pred_y\n",
    "        "
   ]
  },
  {
   "cell_type": "code",
   "execution_count": 1624,
   "id": "6782c74c",
   "metadata": {
    "ExecuteTime": {
     "end_time": "2022-04-27T23:46:19.548266Z",
     "start_time": "2022-04-27T23:46:09.643643Z"
    }
   },
   "outputs": [],
   "source": [
    "pred_y=pred_y_SVR('G1')\n",
    "test_y=totalTestList['G1']"
   ]
  },
  {
   "cell_type": "markdown",
   "id": "0eb11477",
   "metadata": {},
   "source": [
    "mission 1"
   ]
  },
  {
   "cell_type": "code",
   "execution_count": 1625,
   "id": "a7734b4b",
   "metadata": {
    "ExecuteTime": {
     "end_time": "2022-04-27T23:46:29.150102Z",
     "start_time": "2022-04-27T23:46:29.147083Z"
    }
   },
   "outputs": [
    {
     "data": {
      "text/plain": [
       "2.4635431673726536"
      ]
     },
     "execution_count": 1625,
     "metadata": {},
     "output_type": "execute_result"
    }
   ],
   "source": [
    "final_MSE=mean_squared_error(test_y, pred_y)\n",
    "final_RMSE=np.sqrt(final_MSE)\n",
    "final_RMSE"
   ]
  },
  {
   "cell_type": "code",
   "execution_count": 1626,
   "id": "f30900d9",
   "metadata": {
    "ExecuteTime": {
     "end_time": "2022-04-27T23:46:38.730294Z",
     "start_time": "2022-04-27T23:46:38.727625Z"
    }
   },
   "outputs": [
    {
     "data": {
      "text/plain": [
       "1.866445700093324"
      ]
     },
     "execution_count": 1626,
     "metadata": {},
     "output_type": "execute_result"
    }
   ],
   "source": [
    "# mean_absolute_error(y_true, y_pred)\n",
    "mean_absolute_error(test_y, pred_y)"
   ]
  },
  {
   "cell_type": "code",
   "execution_count": 1627,
   "id": "a2ebce56",
   "metadata": {
    "ExecuteTime": {
     "end_time": "2022-04-27T23:46:48.234459Z",
     "start_time": "2022-04-27T23:46:48.231430Z"
    }
   },
   "outputs": [
    {
     "data": {
      "text/plain": [
       "0.24776096555919092"
      ]
     },
     "execution_count": 1627,
     "metadata": {},
     "output_type": "execute_result"
    }
   ],
   "source": [
    "# r2_score(y_true, y_pred)\n",
    "r2_score(test_y, pred_y)"
   ]
  },
  {
   "cell_type": "code",
   "execution_count": 1628,
   "id": "91858a97",
   "metadata": {
    "ExecuteTime": {
     "end_time": "2022-04-27T23:47:35.559027Z",
     "start_time": "2022-04-27T23:47:25.954057Z"
    }
   },
   "outputs": [],
   "source": [
    "pred_y=pred_y_SVR('G3')\n",
    "test_y=totalTestList['G3']"
   ]
  },
  {
   "cell_type": "markdown",
   "id": "34352e10",
   "metadata": {},
   "source": [
    "mission 2"
   ]
  },
  {
   "cell_type": "code",
   "execution_count": 1629,
   "id": "bdcb8caa",
   "metadata": {
    "ExecuteTime": {
     "end_time": "2022-04-27T23:47:44.930519Z",
     "start_time": "2022-04-27T23:47:44.927718Z"
    }
   },
   "outputs": [
    {
     "data": {
      "text/plain": [
       "2.781410856820877"
      ]
     },
     "execution_count": 1629,
     "metadata": {},
     "output_type": "execute_result"
    }
   ],
   "source": [
    "final_MSE=mean_squared_error(test_y, pred_y)\n",
    "final_RMSE=np.sqrt(final_MSE)\n",
    "final_RMSE"
   ]
  },
  {
   "cell_type": "code",
   "execution_count": 1630,
   "id": "19ac2e39",
   "metadata": {
    "ExecuteTime": {
     "end_time": "2022-04-27T23:47:54.252832Z",
     "start_time": "2022-04-27T23:47:54.250318Z"
    }
   },
   "outputs": [
    {
     "data": {
      "text/plain": [
       "2.0635657789287816"
      ]
     },
     "execution_count": 1630,
     "metadata": {},
     "output_type": "execute_result"
    }
   ],
   "source": [
    "# mean_absolute_error(y_true, y_pred)\n",
    "mean_absolute_error(test_y, pred_y)"
   ]
  },
  {
   "cell_type": "code",
   "execution_count": 1631,
   "id": "c7318bd6",
   "metadata": {
    "ExecuteTime": {
     "end_time": "2022-04-27T23:48:03.517976Z",
     "start_time": "2022-04-27T23:48:03.515169Z"
    }
   },
   "outputs": [
    {
     "data": {
      "text/plain": [
       "0.2322643526596242"
      ]
     },
     "execution_count": 1631,
     "metadata": {},
     "output_type": "execute_result"
    }
   ],
   "source": [
    "# r2_score(y_true, y_pred)\n",
    "r2_score(test_y, pred_y)"
   ]
  },
  {
   "cell_type": "code",
   "execution_count": 1632,
   "id": "544c5de9",
   "metadata": {
    "ExecuteTime": {
     "end_time": "2022-04-27T23:48:12.835429Z",
     "start_time": "2022-04-27T23:48:12.831883Z"
    }
   },
   "outputs": [],
   "source": [
    "def pred_y_SVR2(target_g):\n",
    "    min_MSE=400*400\n",
    "    for i in range(10):\n",
    "        shuffle_train, shuffle_validate=shuffle_data(totalTrainList_processed)\n",
    "        \n",
    "        shuffle_train_wog3=shuffle_train.drop(['G3'],axis=1)\n",
    "        shuffle_train_gclass=shuffle_train[target_g]\n",
    "        shuffle_validate_wog3=shuffle_validate.drop(['G3'],axis=1)\n",
    "        shuffle_validate_gclass=shuffle_validate[target_g]\n",
    "        \n",
    "        clf = SVR(C=1.0, epsilon=0.2)\n",
    "        clf.fit(shuffle_train_wog3, shuffle_train_gclass)\n",
    "        pred_y = clf.predict(shuffle_validate_wog3)\n",
    "        test_y = shuffle_validate_gclass\n",
    "        \n",
    "        final_MSE=mean_squared_error(test_y, pred_y)\n",
    "        if i==0:\n",
    "            min_MSE=final_MSE\n",
    "            \n",
    "            final_clf=clf\n",
    "        if final_MSE<min_MSE:\n",
    "            min_MSE=final_MSE\n",
    "            \n",
    "            final_clf=clf\n",
    "    \n",
    "    \n",
    "    final_pred_y=final_clf.predict(totalTestList_wog3_processed)\n",
    "    \n",
    "    return final_pred_y\n",
    "        "
   ]
  },
  {
   "cell_type": "code",
   "execution_count": 1637,
   "id": "06b31834",
   "metadata": {
    "ExecuteTime": {
     "end_time": "2022-04-27T23:49:19.492016Z",
     "start_time": "2022-04-27T23:49:09.577863Z"
    }
   },
   "outputs": [],
   "source": [
    "pred_y=pred_y_SVR2('G3')\n",
    "test_y=totalTestList['G3']"
   ]
  },
  {
   "cell_type": "markdown",
   "id": "3d500bb5",
   "metadata": {},
   "source": [
    "mission 3"
   ]
  },
  {
   "cell_type": "code",
   "execution_count": 1638,
   "id": "0f71d865",
   "metadata": {
    "ExecuteTime": {
     "end_time": "2022-04-27T23:49:29.093331Z",
     "start_time": "2022-04-27T23:49:29.090519Z"
    }
   },
   "outputs": [
    {
     "data": {
      "text/plain": [
       "1.1327874635928095"
      ]
     },
     "execution_count": 1638,
     "metadata": {},
     "output_type": "execute_result"
    }
   ],
   "source": [
    "final_MSE=mean_squared_error(test_y, pred_y)\n",
    "final_RMSE=np.sqrt(final_MSE)\n",
    "final_RMSE"
   ]
  },
  {
   "cell_type": "code",
   "execution_count": 1639,
   "id": "a2d02a2c",
   "metadata": {
    "ExecuteTime": {
     "end_time": "2022-04-27T23:49:38.592858Z",
     "start_time": "2022-04-27T23:49:38.590054Z"
    }
   },
   "outputs": [
    {
     "data": {
      "text/plain": [
       "0.7317108847387506"
      ]
     },
     "execution_count": 1639,
     "metadata": {},
     "output_type": "execute_result"
    }
   ],
   "source": [
    "# mean_absolute_error(y_true, y_pred)\n",
    "mean_absolute_error(test_y, pred_y)"
   ]
  },
  {
   "cell_type": "code",
   "execution_count": 1640,
   "id": "f2578d7a",
   "metadata": {
    "ExecuteTime": {
     "end_time": "2022-04-27T23:49:48.111414Z",
     "start_time": "2022-04-27T23:49:48.108956Z"
    }
   },
   "outputs": [
    {
     "data": {
      "text/plain": [
       "0.8726560598385871"
      ]
     },
     "execution_count": 1640,
     "metadata": {},
     "output_type": "execute_result"
    }
   ],
   "source": [
    "# r2_score(y_true, y_pred)\n",
    "r2_score(test_y, pred_y)"
   ]
  },
  {
   "cell_type": "markdown",
   "id": "8d7657fe",
   "metadata": {},
   "source": [
    "## Ridge Regression"
   ]
  },
  {
   "cell_type": "code",
   "execution_count": 1658,
   "id": "3faa2125",
   "metadata": {
    "ExecuteTime": {
     "end_time": "2022-04-27T23:53:43.224976Z",
     "start_time": "2022-04-27T23:53:43.221241Z"
    }
   },
   "outputs": [],
   "source": [
    "def pred_y_RR(target_g):\n",
    "#     min_MSE=float('inf')\n",
    "    for i in range(10):\n",
    "        shuffle_train, shuffle_validate=shuffle_data(totalTrainList_processed)\n",
    "        \n",
    "        shuffle_train_wog123=shuffle_train.drop(['G1','G2','G3'],axis=1)\n",
    "        shuffle_train_gclass=shuffle_train[target_g]\n",
    "        shuffle_validate_wog123=shuffle_validate.drop(['G1','G2','G3'],axis=1)\n",
    "        shuffle_validate_gclass=shuffle_validate[target_g]\n",
    "        \n",
    "        clf = Ridge(alpha=1.0)\n",
    "        clf.fit(shuffle_train_wog123, shuffle_train_gclass)\n",
    "        pred_y = clf.predict(shuffle_validate_wog123)\n",
    "        test_y = shuffle_validate_gclass\n",
    "        \n",
    "        final_MSE=mean_squared_error(test_y, pred_y)\n",
    "        if i==0:\n",
    "            min_MSE=final_MSE\n",
    "            \n",
    "            final_clf=clf\n",
    "        if final_MSE<min_MSE:\n",
    "            min_MSE=final_MSE\n",
    "            \n",
    "            final_clf=clf\n",
    "    \n",
    "    \n",
    "    final_pred_y=final_clf.predict(totalTestList_wog123_processed)\n",
    "    \n",
    "    return final_pred_y\n",
    "        "
   ]
  },
  {
   "cell_type": "code",
   "execution_count": 1643,
   "id": "27b0e0eb",
   "metadata": {
    "ExecuteTime": {
     "end_time": "2022-04-27T23:51:01.847207Z",
     "start_time": "2022-04-27T23:50:52.335659Z"
    }
   },
   "outputs": [],
   "source": [
    "pred_y=pred_y_RR('G1')\n",
    "test_y=totalTestList['G1']"
   ]
  },
  {
   "cell_type": "markdown",
   "id": "6a7e59dd",
   "metadata": {},
   "source": [
    "mission 1"
   ]
  },
  {
   "cell_type": "code",
   "execution_count": 1644,
   "id": "9894f01f",
   "metadata": {
    "ExecuteTime": {
     "end_time": "2022-04-27T23:51:11.343963Z",
     "start_time": "2022-04-27T23:51:11.341027Z"
    }
   },
   "outputs": [
    {
     "data": {
      "text/plain": [
       "2.4337974822889024"
      ]
     },
     "execution_count": 1644,
     "metadata": {},
     "output_type": "execute_result"
    }
   ],
   "source": [
    "final_MSE=mean_squared_error(test_y, pred_y)\n",
    "final_RMSE=np.sqrt(final_MSE)\n",
    "final_RMSE"
   ]
  },
  {
   "cell_type": "code",
   "execution_count": 1645,
   "id": "0e2e4ab1",
   "metadata": {
    "ExecuteTime": {
     "end_time": "2022-04-27T23:51:21.009163Z",
     "start_time": "2022-04-27T23:51:21.006214Z"
    }
   },
   "outputs": [
    {
     "data": {
      "text/plain": [
       "1.8318525944561834"
      ]
     },
     "execution_count": 1645,
     "metadata": {},
     "output_type": "execute_result"
    }
   ],
   "source": [
    "# mean_absolute_error(y_true, y_pred)\n",
    "mean_absolute_error(test_y, pred_y)"
   ]
  },
  {
   "cell_type": "code",
   "execution_count": 1646,
   "id": "ce7fb15c",
   "metadata": {
    "ExecuteTime": {
     "end_time": "2022-04-27T23:51:30.399681Z",
     "start_time": "2022-04-27T23:51:30.396854Z"
    }
   },
   "outputs": [
    {
     "data": {
      "text/plain": [
       "0.26581689304882683"
      ]
     },
     "execution_count": 1646,
     "metadata": {},
     "output_type": "execute_result"
    }
   ],
   "source": [
    "# r2_score(y_true, y_pred)\n",
    "r2_score(test_y, pred_y)"
   ]
  },
  {
   "cell_type": "markdown",
   "id": "4cddb67a",
   "metadata": {},
   "source": [
    "mission 2"
   ]
  },
  {
   "cell_type": "code",
   "execution_count": 1647,
   "id": "85344156",
   "metadata": {
    "ExecuteTime": {
     "end_time": "2022-04-27T23:51:49.413213Z",
     "start_time": "2022-04-27T23:51:39.765826Z"
    }
   },
   "outputs": [],
   "source": [
    "pred_y=pred_y_RR('G3')\n",
    "test_y=totalTestList['G3']"
   ]
  },
  {
   "cell_type": "code",
   "execution_count": 1648,
   "id": "1048f417",
   "metadata": {
    "ExecuteTime": {
     "end_time": "2022-04-27T23:51:58.883140Z",
     "start_time": "2022-04-27T23:51:58.880147Z"
    }
   },
   "outputs": [
    {
     "data": {
      "text/plain": [
       "2.771181679570248"
      ]
     },
     "execution_count": 1648,
     "metadata": {},
     "output_type": "execute_result"
    }
   ],
   "source": [
    "final_MSE=mean_squared_error(test_y, pred_y)\n",
    "final_RMSE=np.sqrt(final_MSE)\n",
    "final_RMSE"
   ]
  },
  {
   "cell_type": "code",
   "execution_count": 1649,
   "id": "e0f5e56b",
   "metadata": {
    "ExecuteTime": {
     "end_time": "2022-04-27T23:52:08.455031Z",
     "start_time": "2022-04-27T23:52:08.452201Z"
    }
   },
   "outputs": [
    {
     "data": {
      "text/plain": [
       "2.0378447488164904"
      ]
     },
     "execution_count": 1649,
     "metadata": {},
     "output_type": "execute_result"
    }
   ],
   "source": [
    "# mean_absolute_error(y_true, y_pred)\n",
    "mean_absolute_error(test_y, pred_y)"
   ]
  },
  {
   "cell_type": "code",
   "execution_count": 1650,
   "id": "0602ef22",
   "metadata": {
    "ExecuteTime": {
     "end_time": "2022-04-27T23:52:18.474578Z",
     "start_time": "2022-04-27T23:52:18.471571Z"
    }
   },
   "outputs": [
    {
     "data": {
      "text/plain": [
       "0.23790096184707987"
      ]
     },
     "execution_count": 1650,
     "metadata": {},
     "output_type": "execute_result"
    }
   ],
   "source": [
    "# r2_score(y_true, y_pred)\n",
    "r2_score(test_y, pred_y)"
   ]
  },
  {
   "cell_type": "code",
   "execution_count": 1653,
   "id": "c29a9090",
   "metadata": {
    "ExecuteTime": {
     "end_time": "2022-04-27T23:52:45.471154Z",
     "start_time": "2022-04-27T23:52:45.456380Z"
    }
   },
   "outputs": [],
   "source": [
    "def pred_y_RR2(target_g):\n",
    "    min_MSE=400*400\n",
    "    for i in range(10):\n",
    "        shuffle_train, shuffle_validate=shuffle_data(totalTrainList_processed)\n",
    "        \n",
    "        shuffle_train_wog3=shuffle_train.drop(['G3'],axis=1)\n",
    "        shuffle_train_gclass=shuffle_train[target_g]\n",
    "        shuffle_validate_wog3=shuffle_validate.drop(['G3'],axis=1)\n",
    "        shuffle_validate_gclass=shuffle_validate[target_g]\n",
    "        \n",
    "        clf = Ridge(alpha=1.0)\n",
    "        clf.fit(shuffle_train_wog3, shuffle_train_gclass)\n",
    "        pred_y = clf.predict(shuffle_validate_wog3)\n",
    "        test_y = shuffle_validate_gclass\n",
    "        \n",
    "        final_MSE=mean_squared_error(test_y, pred_y)\n",
    "        if i==0:\n",
    "            min_MSE=final_MSE\n",
    "            \n",
    "            final_clf=clf\n",
    "        if final_MSE<min_MSE:\n",
    "            min_MSE=final_MSE\n",
    "            \n",
    "            final_clf=clf\n",
    "    \n",
    "    \n",
    "    final_pred_y=final_clf.predict(totalTestList_wog3_processed)\n",
    "    \n",
    "    return final_pred_y\n",
    "        "
   ]
  },
  {
   "cell_type": "code",
   "execution_count": 1654,
   "id": "af25a387",
   "metadata": {
    "ExecuteTime": {
     "end_time": "2022-04-27T23:53:04.587779Z",
     "start_time": "2022-04-27T23:52:55.103692Z"
    }
   },
   "outputs": [],
   "source": [
    "pred_y=pred_y_RR2('G3')\n",
    "test_y=totalTestList['G3']"
   ]
  },
  {
   "cell_type": "markdown",
   "id": "681cddd5",
   "metadata": {},
   "source": [
    "mission 3"
   ]
  },
  {
   "cell_type": "code",
   "execution_count": 1655,
   "id": "87515fcf",
   "metadata": {
    "ExecuteTime": {
     "end_time": "2022-04-27T23:53:14.341850Z",
     "start_time": "2022-04-27T23:53:14.338639Z"
    }
   },
   "outputs": [
    {
     "data": {
      "text/plain": [
       "1.071758998540313"
      ]
     },
     "execution_count": 1655,
     "metadata": {},
     "output_type": "execute_result"
    }
   ],
   "source": [
    "final_MSE=mean_squared_error(test_y, pred_y)\n",
    "final_RMSE=np.sqrt(final_MSE)\n",
    "final_RMSE"
   ]
  },
  {
   "cell_type": "code",
   "execution_count": 1656,
   "id": "5184dff4",
   "metadata": {
    "ExecuteTime": {
     "end_time": "2022-04-27T23:53:24.014953Z",
     "start_time": "2022-04-27T23:53:24.011795Z"
    }
   },
   "outputs": [
    {
     "data": {
      "text/plain": [
       "0.7983375283276066"
      ]
     },
     "execution_count": 1656,
     "metadata": {},
     "output_type": "execute_result"
    }
   ],
   "source": [
    "# mean_absolute_error(y_true, y_pred)\n",
    "mean_absolute_error(test_y, pred_y)"
   ]
  },
  {
   "cell_type": "code",
   "execution_count": 1657,
   "id": "c09913f6",
   "metadata": {
    "ExecuteTime": {
     "end_time": "2022-04-27T23:53:33.491650Z",
     "start_time": "2022-04-27T23:53:33.488653Z"
    }
   },
   "outputs": [
    {
     "data": {
      "text/plain": [
       "0.886007653859711"
      ]
     },
     "execution_count": 1657,
     "metadata": {},
     "output_type": "execute_result"
    }
   ],
   "source": [
    "# r2_score(y_true, y_pred)\n",
    "r2_score(test_y, pred_y)"
   ]
  },
  {
   "cell_type": "markdown",
   "id": "9bce87b6",
   "metadata": {},
   "source": [
    "## Lasso Regression"
   ]
  },
  {
   "cell_type": "code",
   "execution_count": 1659,
   "id": "4688e666",
   "metadata": {
    "ExecuteTime": {
     "end_time": "2022-04-27T23:55:01.927721Z",
     "start_time": "2022-04-27T23:55:01.912561Z"
    }
   },
   "outputs": [],
   "source": [
    "def pred_y_LaR(target_g):\n",
    "    min_MSE=400*400\n",
    "    for i in range(10):\n",
    "        shuffle_train, shuffle_validate=shuffle_data(totalTrainList_processed)\n",
    "        \n",
    "        shuffle_train_wog123=shuffle_train.drop(['G1','G2','G3'],axis=1)\n",
    "        shuffle_train_gclass=shuffle_train[target_g]\n",
    "        shuffle_validate_wog123=shuffle_validate.drop(['G1','G2','G3'],axis=1)\n",
    "        shuffle_validate_gclass=shuffle_validate[target_g]\n",
    "        \n",
    "        clf = Lasso(alpha=0.1)\n",
    "        clf.fit(shuffle_train_wog123, shuffle_train_gclass)\n",
    "        pred_y = clf.predict(shuffle_validate_wog123)\n",
    "        test_y = shuffle_validate_gclass\n",
    "        \n",
    "        final_MSE=mean_squared_error(test_y, pred_y)\n",
    "        if i==0:\n",
    "            min_MSE=final_MSE\n",
    "            \n",
    "            final_clf=clf\n",
    "        if final_MSE<min_MSE:\n",
    "            min_MSE=final_MSE\n",
    "            \n",
    "            final_clf=clf\n",
    "    \n",
    "    \n",
    "    final_pred_y=final_clf.predict(totalTestList_wog123_processed)\n",
    "    \n",
    "    return final_pred_y\n",
    "        "
   ]
  },
  {
   "cell_type": "markdown",
   "id": "e2d3eae4",
   "metadata": {},
   "source": [
    "mission 1"
   ]
  },
  {
   "cell_type": "code",
   "execution_count": 1660,
   "id": "74ef5dcf",
   "metadata": {
    "ExecuteTime": {
     "end_time": "2022-04-27T23:55:41.839601Z",
     "start_time": "2022-04-27T23:55:32.045028Z"
    }
   },
   "outputs": [],
   "source": [
    "pred_y=pred_y_LaR('G1')\n",
    "test_y=totalTestList['G1']"
   ]
  },
  {
   "cell_type": "code",
   "execution_count": 1661,
   "id": "8eec6c44",
   "metadata": {
    "ExecuteTime": {
     "end_time": "2022-04-27T23:55:51.444736Z",
     "start_time": "2022-04-27T23:55:51.441828Z"
    }
   },
   "outputs": [
    {
     "data": {
      "text/plain": [
       "2.538547329405208"
      ]
     },
     "execution_count": 1661,
     "metadata": {},
     "output_type": "execute_result"
    }
   ],
   "source": [
    "final_MSE=mean_squared_error(test_y, pred_y)\n",
    "final_RMSE=np.sqrt(final_MSE)\n",
    "final_RMSE"
   ]
  },
  {
   "cell_type": "code",
   "execution_count": 1662,
   "id": "516cc818",
   "metadata": {
    "ExecuteTime": {
     "end_time": "2022-04-27T23:56:00.950061Z",
     "start_time": "2022-04-27T23:56:00.946971Z"
    }
   },
   "outputs": [
    {
     "data": {
      "text/plain": [
       "1.9355713615008638"
      ]
     },
     "execution_count": 1662,
     "metadata": {},
     "output_type": "execute_result"
    }
   ],
   "source": [
    "# mean_absolute_error(y_true, y_pred)\n",
    "mean_absolute_error(test_y, pred_y)"
   ]
  },
  {
   "cell_type": "code",
   "execution_count": 1663,
   "id": "ca4f18b9",
   "metadata": {
    "ExecuteTime": {
     "end_time": "2022-04-27T23:56:10.419600Z",
     "start_time": "2022-04-27T23:56:10.416654Z"
    }
   },
   "outputs": [
    {
     "data": {
      "text/plain": [
       "0.2012588811161058"
      ]
     },
     "execution_count": 1663,
     "metadata": {},
     "output_type": "execute_result"
    }
   ],
   "source": [
    "# r2_score(y_true, y_pred)\n",
    "r2_score(test_y, pred_y)"
   ]
  },
  {
   "cell_type": "code",
   "execution_count": 1664,
   "id": "2037f320",
   "metadata": {
    "ExecuteTime": {
     "end_time": "2022-04-27T23:56:29.523624Z",
     "start_time": "2022-04-27T23:56:19.806234Z"
    }
   },
   "outputs": [],
   "source": [
    "pred_y=pred_y_LaR('G3')\n",
    "test_y=totalTestList['G3']"
   ]
  },
  {
   "cell_type": "markdown",
   "id": "3a0673bd",
   "metadata": {},
   "source": [
    "mission 2"
   ]
  },
  {
   "cell_type": "code",
   "execution_count": 1665,
   "id": "772b2470",
   "metadata": {
    "ExecuteTime": {
     "end_time": "2022-04-27T23:56:39.195548Z",
     "start_time": "2022-04-27T23:56:39.192412Z"
    }
   },
   "outputs": [
    {
     "data": {
      "text/plain": [
       "2.8071550955483024"
      ]
     },
     "execution_count": 1665,
     "metadata": {},
     "output_type": "execute_result"
    }
   ],
   "source": [
    "final_MSE=mean_squared_error(test_y, pred_y)\n",
    "final_RMSE=np.sqrt(final_MSE)\n",
    "final_RMSE"
   ]
  },
  {
   "cell_type": "code",
   "execution_count": 1666,
   "id": "851dfeed",
   "metadata": {
    "ExecuteTime": {
     "end_time": "2022-04-27T23:56:48.530586Z",
     "start_time": "2022-04-27T23:56:48.527988Z"
    }
   },
   "outputs": [
    {
     "data": {
      "text/plain": [
       "2.142118310575255"
      ]
     },
     "execution_count": 1666,
     "metadata": {},
     "output_type": "execute_result"
    }
   ],
   "source": [
    "# mean_absolute_error(y_true, y_pred)\n",
    "mean_absolute_error(test_y, pred_y)"
   ]
  },
  {
   "cell_type": "code",
   "execution_count": 1667,
   "id": "f0c2761c",
   "metadata": {
    "ExecuteTime": {
     "end_time": "2022-04-27T23:56:58.133604Z",
     "start_time": "2022-04-27T23:56:58.130882Z"
    }
   },
   "outputs": [
    {
     "data": {
      "text/plain": [
       "0.21798653439809756"
      ]
     },
     "execution_count": 1667,
     "metadata": {},
     "output_type": "execute_result"
    }
   ],
   "source": [
    "# r2_score(y_true, y_pred)\n",
    "r2_score(test_y, pred_y)"
   ]
  },
  {
   "cell_type": "code",
   "execution_count": 1668,
   "id": "4d9ed853",
   "metadata": {
    "ExecuteTime": {
     "end_time": "2022-04-27T23:57:07.679406Z",
     "start_time": "2022-04-27T23:57:07.675930Z"
    }
   },
   "outputs": [],
   "source": [
    "def pred_y_LaR2(target_g):\n",
    "    min_MSE=400*400\n",
    "    for i in range(10):\n",
    "        shuffle_train, shuffle_validate=shuffle_data(totalTrainList_processed)\n",
    "        \n",
    "        shuffle_train_wog3=shuffle_train.drop(['G3'],axis=1)\n",
    "        shuffle_train_gclass=shuffle_train[target_g]\n",
    "        shuffle_validate_wog3=shuffle_validate.drop(['G3'],axis=1)\n",
    "        shuffle_validate_gclass=shuffle_validate[target_g]\n",
    "        \n",
    "        clf = Lasso(alpha=1.0)\n",
    "        clf.fit(shuffle_train_wog3, shuffle_train_gclass)\n",
    "        pred_y = clf.predict(shuffle_validate_wog3)\n",
    "        test_y = shuffle_validate_gclass\n",
    "        \n",
    "        final_MSE=mean_squared_error(test_y, pred_y)\n",
    "        if i==0:\n",
    "            min_MSE=final_MSE\n",
    "            \n",
    "            final_clf=clf\n",
    "        if final_MSE<min_MSE:\n",
    "            min_MSE=final_MSE\n",
    "            \n",
    "            final_clf=clf\n",
    "    \n",
    "    \n",
    "    final_pred_y=final_clf.predict(totalTestList_wog3_processed)\n",
    "    \n",
    "    return final_pred_y\n",
    "        "
   ]
  },
  {
   "cell_type": "code",
   "execution_count": 1669,
   "id": "4571b342",
   "metadata": {
    "ExecuteTime": {
     "end_time": "2022-04-27T23:57:27.106225Z",
     "start_time": "2022-04-27T23:57:17.447874Z"
    }
   },
   "outputs": [],
   "source": [
    "pred_y=pred_y_LaR2('G3')\n",
    "test_y=totalTestList['G3']"
   ]
  },
  {
   "cell_type": "markdown",
   "id": "7a3df3e8",
   "metadata": {},
   "source": [
    "mission 3"
   ]
  },
  {
   "cell_type": "code",
   "execution_count": 1670,
   "id": "139adf47",
   "metadata": {
    "ExecuteTime": {
     "end_time": "2022-04-27T23:57:36.389596Z",
     "start_time": "2022-04-27T23:57:36.386449Z"
    }
   },
   "outputs": [
    {
     "data": {
      "text/plain": [
       "0.9564009420707236"
      ]
     },
     "execution_count": 1670,
     "metadata": {},
     "output_type": "execute_result"
    }
   ],
   "source": [
    "final_MSE=mean_squared_error(test_y, pred_y)\n",
    "final_RMSE=np.sqrt(final_MSE)\n",
    "final_RMSE"
   ]
  },
  {
   "cell_type": "code",
   "execution_count": 1671,
   "id": "62ce389e",
   "metadata": {
    "ExecuteTime": {
     "end_time": "2022-04-27T23:57:45.630793Z",
     "start_time": "2022-04-27T23:57:45.628273Z"
    }
   },
   "outputs": [
    {
     "data": {
      "text/plain": [
       "0.6936270526459382"
      ]
     },
     "execution_count": 1671,
     "metadata": {},
     "output_type": "execute_result"
    }
   ],
   "source": [
    "# mean_absolute_error(y_true, y_pred)\n",
    "mean_absolute_error(test_y, pred_y)"
   ]
  },
  {
   "cell_type": "code",
   "execution_count": 1672,
   "id": "7d3af6ab",
   "metadata": {
    "ExecuteTime": {
     "end_time": "2022-04-27T23:57:54.902514Z",
     "start_time": "2022-04-27T23:57:54.899831Z"
    }
   },
   "outputs": [
    {
     "data": {
      "text/plain": [
       "0.909226014150883"
      ]
     },
     "execution_count": 1672,
     "metadata": {},
     "output_type": "execute_result"
    }
   ],
   "source": [
    "# r2_score(y_true, y_pred)\n",
    "r2_score(test_y, pred_y)"
   ]
  }
 ],
 "metadata": {
  "kernelspec": {
   "display_name": "Python 3 (ipykernel)",
   "language": "python",
   "name": "python3"
  },
  "language_info": {
   "codemirror_mode": {
    "name": "ipython",
    "version": 3
   },
   "file_extension": ".py",
   "mimetype": "text/x-python",
   "name": "python",
   "nbconvert_exporter": "python",
   "pygments_lexer": "ipython3",
   "version": "3.9.7"
  },
  "toc": {
   "base_numbering": 1,
   "nav_menu": {},
   "number_sections": true,
   "sideBar": true,
   "skip_h1_title": false,
   "title_cell": "Table of Contents",
   "title_sidebar": "Contents",
   "toc_cell": false,
   "toc_position": {},
   "toc_section_display": true,
   "toc_window_display": false
  },
  "varInspector": {
   "cols": {
    "lenName": 16,
    "lenType": 16,
    "lenVar": 40
   },
   "kernels_config": {
    "python": {
     "delete_cmd_postfix": "",
     "delete_cmd_prefix": "del ",
     "library": "var_list.py",
     "varRefreshCmd": "print(var_dic_list())"
    },
    "r": {
     "delete_cmd_postfix": ") ",
     "delete_cmd_prefix": "rm(",
     "library": "var_list.r",
     "varRefreshCmd": "cat(var_dic_list()) "
    }
   },
   "types_to_exclude": [
    "module",
    "function",
    "builtin_function_or_method",
    "instance",
    "_Feature"
   ],
   "window_display": false
  }
 },
 "nbformat": 4,
 "nbformat_minor": 5
}
